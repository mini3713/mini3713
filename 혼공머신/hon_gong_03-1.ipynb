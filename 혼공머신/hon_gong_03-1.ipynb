{
  "nbformat": 4,
  "nbformat_minor": 0,
  "metadata": {
    "colab": {
      "provenance": [],
      "authorship_tag": "ABX9TyPx0G4X9JMinkm51zzL1Wa7",
      "include_colab_link": true
    },
    "kernelspec": {
      "name": "python3",
      "display_name": "Python 3"
    },
    "language_info": {
      "name": "python"
    }
  },
  "cells": [
    {
      "cell_type": "markdown",
      "metadata": {
        "id": "view-in-github",
        "colab_type": "text"
      },
      "source": [
        "<a href=\"https://colab.research.google.com/github/mini3713/mini3713/blob/main/%ED%98%BC%EA%B3%B5%EB%A8%B8%EC%8B%A0/hon_gong_03-1.ipynb\" target=\"_parent\"><img src=\"https://colab.research.google.com/assets/colab-badge.svg\" alt=\"Open In Colab\"/></a>"
      ]
    },
    {
      "cell_type": "markdown",
      "source": [
        "3-1 k-최근접 이웃 회귀\n",
        "===========================\n",
        "> ### 농어의 길이, 높이, 두께를 측정한 데이터로 농어의 무게를 예측해보자\n",
        "> * 회귀란 두 변수 사이의 상관관계를 분석하는 방법\n",
        "> * k-최근접 이웃 회귀 알고리즘은 분류와 마찬가지로 예측하려는 샘플에 가장 가까운 수치들의 평균값을 구한다"
      ],
      "metadata": {
        "id": "duA_kOU49SCJ"
      }
    },
    {
      "cell_type": "code",
      "execution_count": 15,
      "metadata": {
        "id": "wC-lZbJV6lPR"
      },
      "outputs": [],
      "source": [
        "# 훈련데이터로 농어의 길이와 무게를 활용\n",
        "import numpy as np\n",
        "perch_length = np.array([8.4, 13.7, 15.0, 16.2, 17.4, 18.0, 18.7, 19.0, 19.6, 20.0, 21.0,\n",
        "       21.0, 21.0, 21.3, 22.0, 22.0, 22.0, 22.0, 22.0, 22.5, 22.5, 22.7,\n",
        "       23.0, 23.5, 24.0, 24.0, 24.6, 25.0, 25.6, 26.5, 27.3, 27.5, 27.5,\n",
        "       27.5, 28.0, 28.7, 30.0, 32.8, 34.5, 35.0, 36.5, 36.0, 37.0, 37.0,\n",
        "       39.0, 39.0, 39.0, 40.0, 40.0, 40.0, 40.0, 42.0, 43.0, 43.0, 43.5,\n",
        "       44.0])\n",
        "perch_weight = np.array([5.9, 32.0, 40.0, 51.5, 70.0, 100.0, 78.0, 80.0, 85.0, 85.0, 110.0,\n",
        "       115.0, 125.0, 130.0, 120.0, 120.0, 130.0, 135.0, 110.0, 130.0,\n",
        "       150.0, 145.0, 150.0, 170.0, 225.0, 145.0, 188.0, 180.0, 197.0,\n",
        "       218.0, 300.0, 260.0, 265.0, 250.0, 250.0, 300.0, 320.0, 514.0,\n",
        "       556.0, 840.0, 685.0, 700.0, 700.0, 690.0, 900.0, 650.0, 820.0,\n",
        "       850.0, 900.0, 1015.0, 820.0, 1100.0, 1000.0, 1100.0, 1000.0,\n",
        "       1000.0])"
      ]
    },
    {
      "cell_type": "code",
      "source": [
        "# 데이터의 형태 확인\n",
        "import matplotlib.pyplot as plt\n",
        "plt.scatter(perch_length, perch_weight)\n",
        "plt.xlabel('length')\n",
        "plt.ylabel('weigth')\n",
        "plt.show()"
      ],
      "metadata": {
        "colab": {
          "base_uri": "https://localhost:8080/",
          "height": 279
        },
        "id": "cuoIZsmJ-4dg",
        "outputId": "7e22d523-18c1-4c7e-8bed-47e08b773f4f"
      },
      "execution_count": 16,
      "outputs": [
        {
          "output_type": "display_data",
          "data": {
            "text/plain": [
              "<Figure size 432x288 with 1 Axes>"
            ],
            "image/png": "[encoded data removed]"
          },
          "metadata": {
            "needs_background": "light"
          }
        }
      ]
    },
    {
      "cell_type": "code",
      "source": [
        "# 훈련세트와 테스트세트로 나누어준다\n",
        "from sklearn.model_selection import train_test_split\n",
        "train_input, test_input, train_target, test_target = train_test_split(perch_length, perch_weight, random_state=42)"
      ],
      "metadata": {
        "id": "CYtQuxij_J3A"
      },
      "execution_count": 17,
      "outputs": []
    },
    {
      "cell_type": "code",
      "source": [
        "# 사이킷런에 사용할 훈련 세트는 2차원 배열이어야 한다\n",
        "# 앞서 도미와 빙어를 구분할 때는 길이와 무게가 특성이었기 때문에 2차원 배열이었지만,\n",
        "# 지금은 농어의 길이를 특성으로 하여 무게를 측정하기 때문에 \n",
        "# 특성 1개의 1차원 배열을 수동으로 2차원 배열으로 만들어 준다: (42, ) -> (42, 1)"
      ],
      "metadata": {
        "id": "VwMObWCh_0R2"
      },
      "execution_count": 18,
      "outputs": []
    },
    {
      "cell_type": "code",
      "source": [
        "train_input = train_input.reshape(-1,1)\n",
        "test_input = test_input.reshape(-1,1)\n",
        "print(train_input.shape, test_input.shape)"
      ],
      "metadata": {
        "colab": {
          "base_uri": "https://localhost:8080/"
        },
        "id": "pKvelCaaEKNt",
        "outputId": "0aeccaad-7e28-4535-c6da-ab0be5cfa357"
      },
      "execution_count": 19,
      "outputs": [
        {
          "output_type": "stream",
          "name": "stdout",
          "text": [
            "(42, 1) (14, 1)\n"
          ]
        }
      ]
    },
    {
      "cell_type": "code",
      "source": [
        "# k-최근접 이웃 회귀 알고리즘으로 회귀 모델 훈련\n",
        "from sklearn.neighbors import KNeighborsRegressor\n",
        "knr = KNeighborsRegressor()\n",
        "knr.fit(train_input, train_target)"
      ],
      "metadata": {
        "colab": {
          "base_uri": "https://localhost:8080/"
        },
        "id": "dUJdJVbmEoxE",
        "outputId": "27328805-95e8-4de9-89ce-cf99e457be94"
      },
      "execution_count": 20,
      "outputs": [
        {
          "output_type": "execute_result",
          "data": {
            "text/plain": [
              "KNeighborsRegressor()"
            ]
          },
          "metadata": {},
          "execution_count": 20
        }
      ]
    },
    {
      "cell_type": "markdown",
      "source": [
        "> ### 회귀 모델의 평가기준은 결정계수(coefficient of determination). 이를 간단히 $R^{2}$ 라고도 부른다\n",
        "> $$R^{2} = 1 -  \\frac{\\sum (샘플의 타깃 - 예측한 값)^{2}}{\\sum (샘플의 타깃 - 타깃의 평균)^{2}}$$\n",
        "> * 예측이 타깃에 아주 가까워지면 1에 가까운 값이 된다\n"
      ],
      "metadata": {
        "id": "BDTFS79aFvuz"
      }
    },
    {
      "cell_type": "code",
      "source": [
        "print(knr.score(test_input, test_target))"
      ],
      "metadata": {
        "colab": {
          "base_uri": "https://localhost:8080/"
        },
        "id": "d_AOboldFSPc",
        "outputId": "69dd190d-9498-44b4-da89-4f6c003f1ba8"
      },
      "execution_count": 21,
      "outputs": [
        {
          "output_type": "stream",
          "name": "stdout",
          "text": [
            "0.992809406101064\n"
          ]
        }
      ]
    },
    {
      "cell_type": "markdown",
      "source": [
        "> * 다른 성능지표를 활용하여 모델의 성능을 가늠해본다\n",
        "> * Mean Absolute Error(MAE)는 타깃 값과 예측값의 차이를 절대값으로 변환하여 평균화 한다"
      ],
      "metadata": {
        "id": "ThWwdOmfadoC"
      }
    },
    {
      "cell_type": "code",
      "source": [
        "from sklearn.metrics import mean_absolute_error\n",
        "# 테스트 세트에 대한 예측 만들어 줌\n",
        "test_prediction = knr.predict(test_input)\n",
        "# MAE 계산\n",
        "mae = mean_absolute_error(test_target, test_prediction)\n",
        "print(mae)"
      ],
      "metadata": {
        "colab": {
          "base_uri": "https://localhost:8080/"
        },
        "id": "iHxzGO3uEQED",
        "outputId": "5c8f2737-8b92-4539-dbb6-b78276b3cfc6"
      },
      "execution_count": 23,
      "outputs": [
        {
          "output_type": "stream",
          "name": "stdout",
          "text": [
            "19.157142857142862\n"
          ]
        }
      ]
    },
    {
      "cell_type": "markdown",
      "source": [
        "> * 예측이 평균적으로 19g 정도 타깃값과 다른것을 확인\n",
        "> * 지금까지는 훈련세트로 모델을 훈련하고 테스트 세트로 모델을 평가\n",
        "> * **훈련세트를 사용해 모델을 평가해본다면 어떤 결과가 나올까?**\n",
        "> * 앞에서 훈련한 모델을 사용해 훈련 세트의 $R^{2}$ 점수 확인 "
      ],
      "metadata": {
        "id": "xbcdNa6IbwLB"
      }
    },
    {
      "cell_type": "code",
      "source": [
        "print(knr.score(train_input, train_target))"
      ],
      "metadata": {
        "colab": {
          "base_uri": "https://localhost:8080/"
        },
        "id": "gLPMvzgIbEzP",
        "outputId": "a873d973-02bc-4b15-b5ec-c112c07a5b96"
      },
      "execution_count": 24,
      "outputs": [
        {
          "output_type": "stream",
          "name": "stdout",
          "text": [
            "0.9698823289099254\n"
          ]
        }
      ]
    },
    {
      "cell_type": "markdown",
      "source": [
        "> * 훈련 세트보다 테스트 세트의 점수가 높은 **과소적합**이 발생\n",
        "> * k-최근접 이웃 알고리즘의 이웃의 개수를 줄이면 훈련 세트에 있는 국지적인 패턴에 민감해지므로 모델이 더 복잡해진다. 따라서 훈련세트에 더 잘 맞게 된다. "
      ],
      "metadata": {
        "id": "uMaMszkTcegw"
      }
    },
    {
      "cell_type": "code",
      "source": [
        "# 이웃의 개수를 기본값 5에서 3으로 낮추어준다\n",
        "knr.n_neighbors = 3\n",
        "knr.fit(train_input, train_target)\n",
        "print(knr.score(train_input, train_target))"
      ],
      "metadata": {
        "colab": {
          "base_uri": "https://localhost:8080/"
        },
        "id": "71JRZX4pcYR2",
        "outputId": "b499904d-8f86-448e-cd0d-827b2721ba0c"
      },
      "execution_count": 25,
      "outputs": [
        {
          "output_type": "stream",
          "name": "stdout",
          "text": [
            "0.9804899950518966\n"
          ]
        }
      ]
    },
    {
      "cell_type": "code",
      "source": [
        "print(knr.score(test_input, test_target))"
      ],
      "metadata": {
        "colab": {
          "base_uri": "https://localhost:8080/"
        },
        "id": "Wktv7pIgePbP",
        "outputId": "8c56a849-ca9b-4568-a7ab-6a00a4c15862"
      },
      "execution_count": 26,
      "outputs": [
        {
          "output_type": "stream",
          "name": "stdout",
          "text": [
            "0.9746459963987609\n"
          ]
        }
      ]
    }
  ]
}