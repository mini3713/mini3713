{
  "nbformat": 4,
  "nbformat_minor": 0,
  "metadata": {
    "colab": {
      "provenance": [],
      "authorship_tag": "ABX9TyNl0wBfWQcTVA3GeCbBeZkA",
      "include_colab_link": true
    },
    "kernelspec": {
      "name": "python3",
      "display_name": "Python 3"
    },
    "language_info": {
      "name": "python"
    }
  },
  "cells": [
    {
      "cell_type": "markdown",
      "metadata": {
        "id": "view-in-github",
        "colab_type": "text"
      },
      "source": [
        "<a href=\"https://colab.research.google.com/github/mini3713/mini3713/blob/main/%EC%9E%94%EB%94%94%EC%8B%AC%EA%B8%B0/%EA%B1%B4%EB%AC%BC%EB%8D%B0%EC%9D%B4%ED%84%B0_EDA_01.ipynb\" target=\"_parent\"><img src=\"https://colab.research.google.com/assets/colab-badge.svg\" alt=\"Open In Colab\"/></a>"
      ]
    },
    {
      "cell_type": "code",
      "execution_count": 1,
      "metadata": {
        "id": "GEdBWe85kn7y"
      },
      "outputs": [],
      "source": [
        "import numpy as np\n",
        "import pandas as pd\n",
        "\n",
        "# EDA\n",
        "import matplotlib.pyplot as plt\n",
        "import seaborn as sns\n",
        "import statsmodels.api as sm\n",
        "import scipy.stats\n",
        "from scipy.stats import skew\n",
        "from scipy.stats import spearmanr"
      ]
    },
    {
      "cell_type": "code",
      "source": [
        "df = pd.read_csv('/content/sample_data/Building_Cooling.csv')\n",
        "# 데이터 타입 확인\n",
        "df.info()"
      ],
      "metadata": {
        "colab": {
          "base_uri": "https://localhost:8080/"
        },
        "id": "hHlLr3Outdy-",
        "outputId": "f0a0f8df-f801-4633-e086-7596c51ba60a"
      },
      "execution_count": 31,
      "outputs": [
        {
          "output_type": "stream",
          "name": "stdout",
          "text": [
            "<class 'pandas.core.frame.DataFrame'>\n",
            "RangeIndex: 2160 entries, 0 to 2159\n",
            "Data columns (total 13 columns):\n",
            " #   Column                 Non-Null Count  Dtype  \n",
            "---  ------                 --------------  -----  \n",
            " 0   date                   2160 non-null   int64  \n",
            " 1   hour                   2160 non-null   int64  \n",
            " 2   lights [kW]            2160 non-null   float64\n",
            " 3   mech [kW]              2160 non-null   float64\n",
            " 4   CHWSupplyTemp [F]      2160 non-null   float64\n",
            " 5   OAT [C]                2160 non-null   float64\n",
            " 6   RH [%]                 2160 non-null   int64  \n",
            " 7   Dewpoint               2160 non-null   float64\n",
            " 8   wind_speed             2160 non-null   float64\n",
            " 9   wind_direction         2160 non-null   int64  \n",
            " 10  Diffsolar [W/m2]       2160 non-null   int64  \n",
            " 11  Dirsolar [W/m2]        2160 non-null   int64  \n",
            " 12  CHWCoolingEnergy [kW]  2160 non-null   float64\n",
            "dtypes: float64(7), int64(6)\n",
            "memory usage: 219.5 KB\n"
          ]
        }
      ]
    },
    {
      "cell_type": "code",
      "source": [
        "# renaming columns\n",
        "df.columns = ['date', 'hour', 'lights', 'mechanic', 'CHWTemp', 'OAT', 'RH', 'Dewpoint','windspeed', 'winddirection','difsolar', 'dirsolar', 'target']"
      ],
      "metadata": {
        "id": "T4-hVosTI3Ac"
      },
      "execution_count": 32,
      "outputs": []
    },
    {
      "cell_type": "code",
      "source": [
        "# 데이터 시각화 스타일링 지정\n",
        "sns.set_style('whitegrid')"
      ],
      "metadata": {
        "id": "yn7ilQshs7tB"
      },
      "execution_count": 33,
      "outputs": []
    },
    {
      "cell_type": "code",
      "source": [
        "# date의 int64 정수형을 문자열 형식으로 변환\n",
        "df['date']= df['date'].astype('str')\n",
        "df.info()"
      ],
      "metadata": {
        "colab": {
          "base_uri": "https://localhost:8080/"
        },
        "id": "61bzsBWyzT6m",
        "outputId": "f4f87008-6836-4a16-8ca8-5880d8fdae43"
      },
      "execution_count": 34,
      "outputs": [
        {
          "output_type": "stream",
          "name": "stdout",
          "text": [
            "<class 'pandas.core.frame.DataFrame'>\n",
            "RangeIndex: 2160 entries, 0 to 2159\n",
            "Data columns (total 13 columns):\n",
            " #   Column         Non-Null Count  Dtype  \n",
            "---  ------         --------------  -----  \n",
            " 0   date           2160 non-null   object \n",
            " 1   hour           2160 non-null   int64  \n",
            " 2   lights         2160 non-null   float64\n",
            " 3   mechanic       2160 non-null   float64\n",
            " 4   CHWTemp        2160 non-null   float64\n",
            " 5   OAT            2160 non-null   float64\n",
            " 6   RH             2160 non-null   int64  \n",
            " 7   Dewpoint       2160 non-null   float64\n",
            " 8   windspeed      2160 non-null   float64\n",
            " 9   winddirection  2160 non-null   int64  \n",
            " 10  difsolar       2160 non-null   int64  \n",
            " 11  dirsolar       2160 non-null   int64  \n",
            " 12  target         2160 non-null   float64\n",
            "dtypes: float64(7), int64(5), object(1)\n",
            "memory usage: 219.5+ KB\n"
          ]
        }
      ]
    },
    {
      "cell_type": "code",
      "source": [
        "# pandas의 datetime 형식으로 변환\n",
        "e_df = df.copy()\n",
        "e_df['date'] = pd.to_datetime(df['date'])\n",
        "e_df.info()"
      ],
      "metadata": {
        "colab": {
          "base_uri": "https://localhost:8080/"
        },
        "id": "RHuAc0w42ul7",
        "outputId": "765610ea-f15d-4f02-98c6-01715e7bc988"
      },
      "execution_count": 41,
      "outputs": [
        {
          "output_type": "stream",
          "name": "stdout",
          "text": [
            "<class 'pandas.core.frame.DataFrame'>\n",
            "RangeIndex: 2160 entries, 0 to 2159\n",
            "Data columns (total 13 columns):\n",
            " #   Column         Non-Null Count  Dtype         \n",
            "---  ------         --------------  -----         \n",
            " 0   date           2160 non-null   datetime64[ns]\n",
            " 1   hour           2160 non-null   int64         \n",
            " 2   lights         2160 non-null   float64       \n",
            " 3   mechanic       2160 non-null   float64       \n",
            " 4   CHWTemp        2160 non-null   float64       \n",
            " 5   OAT            2160 non-null   float64       \n",
            " 6   RH             2160 non-null   int64         \n",
            " 7   Dewpoint       2160 non-null   float64       \n",
            " 8   windspeed      2160 non-null   float64       \n",
            " 9   winddirection  2160 non-null   int64         \n",
            " 10  difsolar       2160 non-null   int64         \n",
            " 11  dirsolar       2160 non-null   int64         \n",
            " 12  target         2160 non-null   float64       \n",
            "dtypes: datetime64[ns](1), float64(7), int64(5)\n",
            "memory usage: 219.5 KB\n"
          ]
        }
      ]
    },
    {
      "cell_type": "code",
      "source": [
        "e_df.head(3)"
      ],
      "metadata": {
        "colab": {
          "base_uri": "https://localhost:8080/",
          "height": 259
        },
        "id": "OMM-Ncrj494S",
        "outputId": "09b115c2-a102-4c2f-ea11-1ea51d766156"
      },
      "execution_count": 42,
      "outputs": [
        {
          "output_type": "execute_result",
          "data": {
            "text/plain": [
              "        date  hour  lights  mechanic  CHWTemp   OAT  RH  Dewpoint  windspeed  \\\n",
              "0 2017-05-10     1    1.66      0.35  44.9025  20.6  87      18.3        5.2   \n",
              "1 2017-05-10     2    3.44      0.35  44.9175  20.6  87      18.3        3.6   \n",
              "2 2017-05-10     3    1.22      0.35  45.1725  21.1  84      18.3        4.1   \n",
              "\n",
              "   winddirection  difsolar  dirsolar     target  \n",
              "0            190         0         0  77.075388  \n",
              "1            180         0         0  36.756450  \n",
              "2            200         0         0   0.000000  "
            ],
            "text/html": [
              "\n",
              "  <div id=\"df-38e5ef1a-35a3-463e-8cf0-62e5a6b9bdbf\">\n",
              "    <div class=\"colab-df-container\">\n",
              "      <div>\n",
              "<style scoped>\n",
              "    .dataframe tbody tr th:only-of-type {\n",
              "        vertical-align: middle;\n",
              "    }\n",
              "\n",
              "    .dataframe tbody tr th {\n",
              "        vertical-align: top;\n",
              "    }\n",
              "\n",
              "    .dataframe thead th {\n",
              "        text-align: right;\n",
              "    }\n",
              "</style>\n",
              "<table border=\"1\" class=\"dataframe\">\n",
              "  <thead>\n",
              "    <tr style=\"text-align: right;\">\n",
              "      <th></th>\n",
              "      <th>date</th>\n",
              "      <th>hour</th>\n",
              "      <th>lights</th>\n",
              "      <th>mechanic</th>\n",
              "      <th>CHWTemp</th>\n",
              "      <th>OAT</th>\n",
              "      <th>RH</th>\n",
              "      <th>Dewpoint</th>\n",
              "      <th>windspeed</th>\n",
              "      <th>winddirection</th>\n",
              "      <th>difsolar</th>\n",
              "      <th>dirsolar</th>\n",
              "      <th>target</th>\n",
              "    </tr>\n",
              "  </thead>\n",
              "  <tbody>\n",
              "    <tr>\n",
              "      <th>0</th>\n",
              "      <td>2017-05-10</td>\n",
              "      <td>1</td>\n",
              "      <td>1.66</td>\n",
              "      <td>0.35</td>\n",
              "      <td>44.9025</td>\n",
              "      <td>20.6</td>\n",
              "      <td>87</td>\n",
              "      <td>18.3</td>\n",
              "      <td>5.2</td>\n",
              "      <td>190</td>\n",
              "      <td>0</td>\n",
              "      <td>0</td>\n",
              "      <td>77.075388</td>\n",
              "    </tr>\n",
              "    <tr>\n",
              "      <th>1</th>\n",
              "      <td>2017-05-10</td>\n",
              "      <td>2</td>\n",
              "      <td>3.44</td>\n",
              "      <td>0.35</td>\n",
              "      <td>44.9175</td>\n",
              "      <td>20.6</td>\n",
              "      <td>87</td>\n",
              "      <td>18.3</td>\n",
              "      <td>3.6</td>\n",
              "      <td>180</td>\n",
              "      <td>0</td>\n",
              "      <td>0</td>\n",
              "      <td>36.756450</td>\n",
              "    </tr>\n",
              "    <tr>\n",
              "      <th>2</th>\n",
              "      <td>2017-05-10</td>\n",
              "      <td>3</td>\n",
              "      <td>1.22</td>\n",
              "      <td>0.35</td>\n",
              "      <td>45.1725</td>\n",
              "      <td>21.1</td>\n",
              "      <td>84</td>\n",
              "      <td>18.3</td>\n",
              "      <td>4.1</td>\n",
              "      <td>200</td>\n",
              "      <td>0</td>\n",
              "      <td>0</td>\n",
              "      <td>0.000000</td>\n",
              "    </tr>\n",
              "  </tbody>\n",
              "</table>\n",
              "</div>\n",
              "      <button class=\"colab-df-convert\" onclick=\"convertToInteractive('df-38e5ef1a-35a3-463e-8cf0-62e5a6b9bdbf')\"\n",
              "              title=\"Convert this dataframe to an interactive table.\"\n",
              "              style=\"display:none;\">\n",
              "        \n",
              "  <svg xmlns=\"http://www.w3.org/2000/svg\" height=\"24px\"viewBox=\"0 0 24 24\"\n",
              "       width=\"24px\">\n",
              "    <path d=\"M0 0h24v24H0V0z\" fill=\"none\"/>\n",
              "    <path d=\"M18.56 5.44l.94 2.06.94-2.06 2.06-.94-2.06-.94-.94-2.06-.94 2.06-2.06.94zm-11 1L8.5 8.5l.94-2.06 2.06-.94-2.06-.94L8.5 2.5l-.94 2.06-2.06.94zm10 10l.94 2.06.94-2.06 2.06-.94-2.06-.94-.94-2.06-.94 2.06-2.06.94z\"/><path d=\"M17.41 7.96l-1.37-1.37c-.4-.4-.92-.59-1.43-.59-.52 0-1.04.2-1.43.59L10.3 9.45l-7.72 7.72c-.78.78-.78 2.05 0 2.83L4 21.41c.39.39.9.59 1.41.59.51 0 1.02-.2 1.41-.59l7.78-7.78 2.81-2.81c.8-.78.8-2.07 0-2.86zM5.41 20L4 18.59l7.72-7.72 1.47 1.35L5.41 20z\"/>\n",
              "  </svg>\n",
              "      </button>\n",
              "      \n",
              "  <style>\n",
              "    .colab-df-container {\n",
              "      display:flex;\n",
              "      flex-wrap:wrap;\n",
              "      gap: 12px;\n",
              "    }\n",
              "\n",
              "    .colab-df-convert {\n",
              "      background-color: #E8F0FE;\n",
              "      border: none;\n",
              "      border-radius: 50%;\n",
              "      cursor: pointer;\n",
              "      display: none;\n",
              "      fill: #1967D2;\n",
              "      height: 32px;\n",
              "      padding: 0 0 0 0;\n",
              "      width: 32px;\n",
              "    }\n",
              "\n",
              "    .colab-df-convert:hover {\n",
              "      background-color: #E2EBFA;\n",
              "      box-shadow: 0px 1px 2px rgba(60, 64, 67, 0.3), 0px 1px 3px 1px rgba(60, 64, 67, 0.15);\n",
              "      fill: #174EA6;\n",
              "    }\n",
              "\n",
              "    [theme=dark] .colab-df-convert {\n",
              "      background-color: #3B4455;\n",
              "      fill: #D2E3FC;\n",
              "    }\n",
              "\n",
              "    [theme=dark] .colab-df-convert:hover {\n",
              "      background-color: #434B5C;\n",
              "      box-shadow: 0px 1px 3px 1px rgba(0, 0, 0, 0.15);\n",
              "      filter: drop-shadow(0px 1px 2px rgba(0, 0, 0, 0.3));\n",
              "      fill: #FFFFFF;\n",
              "    }\n",
              "  </style>\n",
              "\n",
              "      <script>\n",
              "        const buttonEl =\n",
              "          document.querySelector('#df-38e5ef1a-35a3-463e-8cf0-62e5a6b9bdbf button.colab-df-convert');\n",
              "        buttonEl.style.display =\n",
              "          google.colab.kernel.accessAllowed ? 'block' : 'none';\n",
              "\n",
              "        async function convertToInteractive(key) {\n",
              "          const element = document.querySelector('#df-38e5ef1a-35a3-463e-8cf0-62e5a6b9bdbf');\n",
              "          const dataTable =\n",
              "            await google.colab.kernel.invokeFunction('convertToInteractive',\n",
              "                                                     [key], {});\n",
              "          if (!dataTable) return;\n",
              "\n",
              "          const docLinkHtml = 'Like what you see? Visit the ' +\n",
              "            '<a target=\"_blank\" href=https://colab.research.google.com/notebooks/data_table.ipynb>data table notebook</a>'\n",
              "            + ' to learn more about interactive tables.';\n",
              "          element.innerHTML = '';\n",
              "          dataTable['output_type'] = 'display_data';\n",
              "          await google.colab.output.renderOutput(dataTable, element);\n",
              "          const docLink = document.createElement('div');\n",
              "          docLink.innerHTML = docLinkHtml;\n",
              "          element.appendChild(docLink);\n",
              "        }\n",
              "      </script>\n",
              "    </div>\n",
              "  </div>\n",
              "  "
            ]
          },
          "metadata": {},
          "execution_count": 42
        }
      ]
    },
    {
      "cell_type": "code",
      "source": [
        "energy = e_df['target']\n",
        "plt.bar(e_df['date'], e_df['target'])\n",
        "plt.show()"
      ],
      "metadata": {
        "colab": {
          "base_uri": "https://localhost:8080/",
          "height": 265
        },
        "id": "t9L9LRI2J7mc",
        "outputId": "8e502b64-e9b5-4bc7-a87b-8e9b77f2e5ed"
      },
      "execution_count": 47,
      "outputs": [
        {
          "output_type": "display_data",
          "data": {
            "text/plain": [
              "<Figure size 432x288 with 1 Axes>"
            ],
            "image/png": "[encoded data removed]"
          },
          "metadata": {}
        }
      ]
    },
    {
      "cell_type": "code",
      "source": [
        "mean = energy.mean().round(3)\n",
        "std = energy.std().round(3)\n",
        "skew = (3*(mean - np.median(energy))/energy.std()).round(3)\n",
        "if skew >= 1.5:"
      ],
      "metadata": {
        "id": "kQcCZ5GhPHeH"
      },
      "execution_count": null,
      "outputs": []
    },
    {
      "cell_type": "code",
      "source": [],
      "metadata": {
        "id": "rTQzytC_Qq3k"
      },
      "execution_count": null,
      "outputs": []
    }
  ]
}