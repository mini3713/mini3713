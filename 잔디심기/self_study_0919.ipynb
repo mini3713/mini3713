{
  "nbformat": 4,
  "nbformat_minor": 0,
  "metadata": {
    "colab": {
      "provenance": [],
      "collapsed_sections": [],
      "authorship_tag": "ABX9TyPpCw5xCSxxLqspeP9aPfbY",
      "include_colab_link": true
    },
    "kernelspec": {
      "name": "python3",
      "display_name": "Python 3"
    },
    "language_info": {
      "name": "python"
    }
  },
  "cells": [
    {
      "cell_type": "markdown",
      "metadata": {
        "id": "view-in-github",
        "colab_type": "text"
      },
      "source": [
        "<a href=\"https://colab.research.google.com/github/mini3713/mini3713/blob/main/%EC%9E%94%EB%94%94%EC%8B%AC%EA%B8%B0/self_study_0919.ipynb\" target=\"_parent\"><img src=\"https://colab.research.google.com/assets/colab-badge.svg\" alt=\"Open In Colab\"/></a>"
      ]
    },
    {
      "cell_type": "code",
      "execution_count": 4,
      "metadata": {
        "id": "GEdBWe85kn7y"
      },
      "outputs": [],
      "source": [
        "import numpy as np\n",
        "import pandas as pd\n",
        "\n",
        "# EDA\n",
        "import matplotlib.pyplot as plt\n",
        "import seaborn as sns\n",
        "import statsmodels.api as sm\n",
        "import scipy.stats\n",
        "from scipy.stats import skew\n",
        "from scipy.stats import spearmanr"
      ]
    },
    {
      "cell_type": "code",
      "source": [
        "df = pd.read_csv('/content/Building_Cooling.csv')\n",
        "# 데이터 타입 확인\n",
        "df.info()"
      ],
      "metadata": {
        "colab": {
          "base_uri": "https://localhost:8080/"
        },
        "id": "hHlLr3Outdy-",
        "outputId": "e6315029-1855-4578-f0ed-7e15e0247107"
      },
      "execution_count": 5,
      "outputs": [
        {
          "output_type": "stream",
          "name": "stdout",
          "text": [
            "<class 'pandas.core.frame.DataFrame'>\n",
            "RangeIndex: 2160 entries, 0 to 2159\n",
            "Data columns (total 13 columns):\n",
            " #   Column                 Non-Null Count  Dtype  \n",
            "---  ------                 --------------  -----  \n",
            " 0   date                   2160 non-null   int64  \n",
            " 1   hour                   2160 non-null   int64  \n",
            " 2   lights [kW]            2160 non-null   float64\n",
            " 3   mech [kW]              2160 non-null   float64\n",
            " 4   CHWSupplyTemp [F]      2160 non-null   float64\n",
            " 5   OAT [C]                2160 non-null   float64\n",
            " 6   RH [%]                 2160 non-null   int64  \n",
            " 7   Dewpoint               2160 non-null   float64\n",
            " 8   wind_speed             2160 non-null   float64\n",
            " 9   wind_direction         2160 non-null   int64  \n",
            " 10  Diffsolar [W/m2]       2160 non-null   int64  \n",
            " 11  Dirsolar [W/m2]        2160 non-null   int64  \n",
            " 12  CHWCoolingEnergy [kW]  2160 non-null   float64\n",
            "dtypes: float64(7), int64(6)\n",
            "memory usage: 219.5 KB\n"
          ]
        }
      ]
    },
    {
      "cell_type": "code",
      "source": [
        "# renaming columns\n",
        "df.columns = ['date', 'hour', 'lights', 'mechanic', 'CHWTemp', 'OAT', 'RH', 'Dewpoint','windspeed', 'winddirection','difsolar', 'dirsolar', 'target']"
      ],
      "metadata": {
        "id": "T4-hVosTI3Ac"
      },
      "execution_count": 6,
      "outputs": []
    },
    {
      "cell_type": "code",
      "source": [
        "# 데이터 시각화 스타일링 지정\n",
        "sns.set_style('whitegrid')"
      ],
      "metadata": {
        "id": "yn7ilQshs7tB"
      },
      "execution_count": 7,
      "outputs": []
    },
    {
      "cell_type": "code",
      "source": [
        "# date의 int64 정수형을 문자열 형식으로 변환\n",
        "df['date']= df['date'].astype('str')\n",
        "df.info()"
      ],
      "metadata": {
        "colab": {
          "base_uri": "https://localhost:8080/"
        },
        "id": "61bzsBWyzT6m",
        "outputId": "042fad73-78f6-4c2f-b89f-26b7816dadb0"
      },
      "execution_count": 8,
      "outputs": [
        {
          "output_type": "stream",
          "name": "stdout",
          "text": [
            "<class 'pandas.core.frame.DataFrame'>\n",
            "RangeIndex: 2160 entries, 0 to 2159\n",
            "Data columns (total 13 columns):\n",
            " #   Column         Non-Null Count  Dtype  \n",
            "---  ------         --------------  -----  \n",
            " 0   date           2160 non-null   object \n",
            " 1   hour           2160 non-null   int64  \n",
            " 2   lights         2160 non-null   float64\n",
            " 3   mechanic       2160 non-null   float64\n",
            " 4   CHWTemp        2160 non-null   float64\n",
            " 5   OAT            2160 non-null   float64\n",
            " 6   RH             2160 non-null   int64  \n",
            " 7   Dewpoint       2160 non-null   float64\n",
            " 8   windspeed      2160 non-null   float64\n",
            " 9   winddirection  2160 non-null   int64  \n",
            " 10  difsolar       2160 non-null   int64  \n",
            " 11  dirsolar       2160 non-null   int64  \n",
            " 12  target         2160 non-null   float64\n",
            "dtypes: float64(7), int64(5), object(1)\n",
            "memory usage: 219.5+ KB\n"
          ]
        }
      ]
    },
    {
      "cell_type": "code",
      "source": [
        "# pandas의 datetime 형식으로 변환\n",
        "e_df = df.copy()\n",
        "e_df['date'] = pd.to_datetime(df['date'])\n",
        "e_df['Hour'] = pd.to_datetime(df['date']).dt.hour # hour를 int64 정수형을 datetime으로 변환\n",
        "e_df['weekday'] = e_df['date'].dt.weekday\n",
        "e_df['Date'] = e_df['date'].dt.date\n",
        "e_df['day'] = e_df['date'].dt.day\n",
        "e_df['month'] = e_df['date'].dt.month\n",
        "e_df['weekend'] = e_df['weekday'].isin([5,6]).astype(int)\n",
        "e_df.info()"
      ],
      "metadata": {
        "colab": {
          "base_uri": "https://localhost:8080/"
        },
        "id": "RHuAc0w42ul7",
        "outputId": "2c4698cf-03dd-48ec-f274-13a793a3c047"
      },
      "execution_count": 10,
      "outputs": [
        {
          "output_type": "stream",
          "name": "stdout",
          "text": [
            "<class 'pandas.core.frame.DataFrame'>\n",
            "RangeIndex: 2160 entries, 0 to 2159\n",
            "Data columns (total 19 columns):\n",
            " #   Column         Non-Null Count  Dtype         \n",
            "---  ------         --------------  -----         \n",
            " 0   date           2160 non-null   datetime64[ns]\n",
            " 1   hour           2160 non-null   int64         \n",
            " 2   lights         2160 non-null   float64       \n",
            " 3   mechanic       2160 non-null   float64       \n",
            " 4   CHWTemp        2160 non-null   float64       \n",
            " 5   OAT            2160 non-null   float64       \n",
            " 6   RH             2160 non-null   int64         \n",
            " 7   Dewpoint       2160 non-null   float64       \n",
            " 8   windspeed      2160 non-null   float64       \n",
            " 9   winddirection  2160 non-null   int64         \n",
            " 10  difsolar       2160 non-null   int64         \n",
            " 11  dirsolar       2160 non-null   int64         \n",
            " 12  target         2160 non-null   float64       \n",
            " 13  Hour           2160 non-null   int64         \n",
            " 14  weekday        2160 non-null   int64         \n",
            " 15  Date           2160 non-null   object        \n",
            " 16  day            2160 non-null   int64         \n",
            " 17  month          2160 non-null   int64         \n",
            " 18  weekend        2160 non-null   int64         \n",
            "dtypes: datetime64[ns](1), float64(7), int64(10), object(1)\n",
            "memory usage: 320.8+ KB\n"
          ]
        }
      ]
    },
    {
      "cell_type": "markdown",
      "source": [
        "#**1. Target Distribution**"
      ],
      "metadata": {
        "id": "QrdASC5QVoPe"
      }
    },
    {
      "cell_type": "code",
      "source": [
        "energy = e_df['target']\n",
        "plt.bar(e_df['date'], e_df['target'])\n",
        "plt.show()"
      ],
      "metadata": {
        "colab": {
          "base_uri": "https://localhost:8080/",
          "height": 265
        },
        "id": "t9L9LRI2J7mc",
        "outputId": "7ab0f6af-7e85-43dc-c02f-8ce39d5a7f43"
      },
      "execution_count": 11,
      "outputs": [
        {
          "output_type": "display_data",
          "data": {
            "text/plain": [
              "<Figure size 432x288 with 1 Axes>"
            ],
            "image/png": "[encoded data removed]"
          },
          "metadata": {}
        }
      ]
    },
    {
      "cell_type": "markdown",
      "source": [
        "> 왜도(skewness): 양의값은 데이터가 정규분포보다 왼쪽으로, 음의 값을 가지면 정규분포보다 오른쪽으로 치우쳐져있음  \n",
        "> -2 ~ 2 정도의 치우침은 왜도가 크지 않다고 판단 "
      ],
      "metadata": {
        "id": "t4zt4cEtNug1"
      }
    },
    {
      "cell_type": "code",
      "source": [
        "mean = energy.mean().round(3)\n",
        "std = energy.std().round(3)\n",
        "skew = (3*(mean - np.median(energy))/energy.std()).round(3)\n",
        "if skew >= 1.5:\n",
        "  plt.hist(energy, alpha=0.7, bins=50, color='red')\n",
        "elif skew <= -1.5:\n",
        "  plt.hist(energy, alpha=0.7, bins=50, color ='blue')\n",
        "else:\n",
        "  plt.hist(energy, alpha=0.7, bins=50, color='gray')\n",
        "plt.xticks([])\n",
        "plt.yticks([])\n",
        "plt.xlabel('')\n",
        "plt.ylabel('')\n",
        "plt.text(100, 200, f'mean : {mean}',  ha='left', va='center')\n",
        "plt.text(100, 150, f'std : {std}',  ha='left', va='center')\n",
        "plt.text(100, 100, f'skew : {skew}',  ha='left', va='center')"
      ],
      "metadata": {
        "id": "kQcCZ5GhPHeH",
        "colab": {
          "base_uri": "https://localhost:8080/",
          "height": 266
        },
        "outputId": "2714c1c4-4293-4b51-e4fc-7889fb9ebc3f"
      },
      "execution_count": 12,
      "outputs": [
        {
          "output_type": "execute_result",
          "data": {
            "text/plain": [
              "Text(100, 100, 'skew : 1.768')"
            ]
          },
          "metadata": {},
          "execution_count": 12
        },
        {
          "output_type": "display_data",
          "data": {
            "text/plain": [
              "<Figure size 432x288 with 1 Axes>"
            ],
            "image/png": "[encoded data removed]"
          },
          "metadata": {}
        }
      ]
    },
    {
      "cell_type": "markdown",
      "source": [
        "> target이 편향성을 가지는 경우 모델 성능에 악영향을 주므로, 편향성을 최대한 줄이기 위해 log transformation을 수행"
      ],
      "metadata": {
        "id": "5jJhVsWQTFQj"
      }
    },
    {
      "cell_type": "code",
      "source": [
        "fig = plt.figure(figsize =(5, 5))\n",
        "energy = np.log(1 + e_df['target'])\n",
        "mean = energy.mean().round(3)\n",
        "std = energy.std().round(3)\n",
        "skew = (3 * (mean-np.median(energy))/energy.std()).round(3)\n",
        "if skew >= 1.5:\n",
        "  plt.hist(energy, alpha=0.7, bins=50, color='red')\n",
        "elif skew <= -1.5:\n",
        "  plt.hist(energy, alpha=0.7, bins=50, color ='blue')\n",
        "else:\n",
        "  plt.hist(energy, alpha=0.7, bins=50, color='gray')\n",
        "plt.xticks([])\n",
        "plt.yticks([])\n",
        "plt.xlabel('')\n",
        "plt.ylabel('')\n",
        "plt.text(2, 60, f'skew : {skew}', ha='left', va='center')"
      ],
      "metadata": {
        "id": "rTQzytC_Qq3k",
        "colab": {
          "base_uri": "https://localhost:8080/",
          "height": 321
        },
        "outputId": "6af8c192-26a9-44ef-8642-a97c6df33b13"
      },
      "execution_count": 13,
      "outputs": [
        {
          "output_type": "execute_result",
          "data": {
            "text/plain": [
              "Text(2, 60, 'skew : 0.025')"
            ]
          },
          "metadata": {},
          "execution_count": 13
        },
        {
          "output_type": "display_data",
          "data": {
            "text/plain": [
              "<Figure size 360x360 with 1 Axes>"
            ],
            "image/png": "[encoded data removed]"
          },
          "metadata": {}
        }
      ]
    },
    {
      "cell_type": "markdown",
      "source": [
        "#**2. energy usage of building in realtion to datetime**"
      ],
      "metadata": {
        "id": "0tVPfK4NWF5P"
      }
    },
    {
      "cell_type": "code",
      "source": [
        "# hour 칼럼 24를 0으로 변경, 판다스는 24값 인식 못함 \n",
        "e_df['hour'] = e_df['hour'].replace(24, 0)"
      ],
      "metadata": {
        "id": "VT9rjiAK2mk2"
      },
      "execution_count": 14,
      "outputs": []
    },
    {
      "cell_type": "code",
      "source": [
        "# energy usuage of each building ~ weekday, hour\n",
        "ee_df = e_df.groupby(['weekday', 'hour'])['target'].mean().reset_index().pivot('weekday','hour','target')\n",
        "sns.heatmap(ee_df)\n",
        "plt.xlabel('')\n",
        "plt.ylabel('')\n",
        "plt.yticks([])"
      ],
      "metadata": {
        "colab": {
          "base_uri": "https://localhost:8080/",
          "height": 286
        },
        "id": "rvjZbqdxUWWI",
        "outputId": "49325528-a02e-41dd-f052-b57cfdbdae4e"
      },
      "execution_count": 15,
      "outputs": [
        {
          "output_type": "execute_result",
          "data": {
            "text/plain": [
              "([], <a list of 0 Text major ticklabel objects>)"
            ]
          },
          "metadata": {},
          "execution_count": 15
        },
        {
          "output_type": "display_data",
          "data": {
            "text/plain": [
              "<Figure size 432x288 with 2 Axes>"
            ],
            "image/png": "[encoded data removed]"
          },
          "metadata": {}
        }
      ]
    },
    {
      "cell_type": "markdown",
      "source": [
        "> 평일 낮에만 전력을 사용하는 패턴이 보여짐  \n",
        "> 평일 야간이나 주말에는 전력소모가 작음"
      ],
      "metadata": {
        "id": "_xu2WjqK4se5"
      }
    },
    {
      "cell_type": "markdown",
      "source": [
        "> 변수 간 상관관계는 말 그대로 선형적인 증가, 감소와 관련된 상호 관계만을 나타낼 뿐, 한 변 수가 다른 변수에 영향을 주는 관계를 의미하진 않음 "
      ],
      "metadata": {
        "id": "fU7F8X2wNLzX"
      }
    },
    {
      "cell_type": "code",
      "source": [
        "e_df.head(5)"
      ],
      "metadata": {
        "colab": {
          "base_uri": "https://localhost:8080/",
          "height": 357
        },
        "id": "pZBNT4hYSumq",
        "outputId": "62238739-b059-474d-8257-b413d00e33c5"
      },
      "execution_count": 16,
      "outputs": [
        {
          "output_type": "execute_result",
          "data": {
            "text/plain": [
              "        date  hour  lights  mechanic  CHWTemp   OAT   RH  Dewpoint  windspeed  \\\n",
              "0 2017-05-10     1    1.66      0.35  44.9025  20.6   87      18.3        5.2   \n",
              "1 2017-05-10     2    3.44      0.35  44.9175  20.6   87      18.3        3.6   \n",
              "2 2017-05-10     3    1.22      0.35  45.1725  21.1   84      18.3        4.1   \n",
              "3 2017-05-10     4    1.15      0.35  44.9425  18.9  100      18.9        2.6   \n",
              "4 2017-05-10     5    0.82      0.35  45.0800  17.8  100      17.8        3.6   \n",
              "\n",
              "   winddirection  difsolar  dirsolar     target  Hour  weekday        Date  \\\n",
              "0            190         0         0  77.075388     0        2  2017-05-10   \n",
              "1            180         0         0  36.756450     0        2  2017-05-10   \n",
              "2            200         0         0   0.000000     0        2  2017-05-10   \n",
              "3            230         0         0   2.882613     0        2  2017-05-10   \n",
              "4            210         0         0   0.000000     0        2  2017-05-10   \n",
              "\n",
              "   day  month  weekend  \n",
              "0   10      5        0  \n",
              "1   10      5        0  \n",
              "2   10      5        0  \n",
              "3   10      5        0  \n",
              "4   10      5        0  "
            ],
            "text/html": [
              "\n",
              "  <div id=\"df-f5e0984e-78a8-436e-81ea-5b8692a0337e\">\n",
              "    <div class=\"colab-df-container\">\n",
              "      <div>\n",
              "<style scoped>\n",
              "    .dataframe tbody tr th:only-of-type {\n",
              "        vertical-align: middle;\n",
              "    }\n",
              "\n",
              "    .dataframe tbody tr th {\n",
              "        vertical-align: top;\n",
              "    }\n",
              "\n",
              "    .dataframe thead th {\n",
              "        text-align: right;\n",
              "    }\n",
              "</style>\n",
              "<table border=\"1\" class=\"dataframe\">\n",
              "  <thead>\n",
              "    <tr style=\"text-align: right;\">\n",
              "      <th></th>\n",
              "      <th>date</th>\n",
              "      <th>hour</th>\n",
              "      <th>lights</th>\n",
              "      <th>mechanic</th>\n",
              "      <th>CHWTemp</th>\n",
              "      <th>OAT</th>\n",
              "      <th>RH</th>\n",
              "      <th>Dewpoint</th>\n",
              "      <th>windspeed</th>\n",
              "      <th>winddirection</th>\n",
              "      <th>difsolar</th>\n",
              "      <th>dirsolar</th>\n",
              "      <th>target</th>\n",
              "      <th>Hour</th>\n",
              "      <th>weekday</th>\n",
              "      <th>Date</th>\n",
              "      <th>day</th>\n",
              "      <th>month</th>\n",
              "      <th>weekend</th>\n",
              "    </tr>\n",
              "  </thead>\n",
              "  <tbody>\n",
              "    <tr>\n",
              "      <th>0</th>\n",
              "      <td>2017-05-10</td>\n",
              "      <td>1</td>\n",
              "      <td>1.66</td>\n",
              "      <td>0.35</td>\n",
              "      <td>44.9025</td>\n",
              "      <td>20.6</td>\n",
              "      <td>87</td>\n",
              "      <td>18.3</td>\n",
              "      <td>5.2</td>\n",
              "      <td>190</td>\n",
              "      <td>0</td>\n",
              "      <td>0</td>\n",
              "      <td>77.075388</td>\n",
              "      <td>0</td>\n",
              "      <td>2</td>\n",
              "      <td>2017-05-10</td>\n",
              "      <td>10</td>\n",
              "      <td>5</td>\n",
              "      <td>0</td>\n",
              "    </tr>\n",
              "    <tr>\n",
              "      <th>1</th>\n",
              "      <td>2017-05-10</td>\n",
              "      <td>2</td>\n",
              "      <td>3.44</td>\n",
              "      <td>0.35</td>\n",
              "      <td>44.9175</td>\n",
              "      <td>20.6</td>\n",
              "      <td>87</td>\n",
              "      <td>18.3</td>\n",
              "      <td>3.6</td>\n",
              "      <td>180</td>\n",
              "      <td>0</td>\n",
              "      <td>0</td>\n",
              "      <td>36.756450</td>\n",
              "      <td>0</td>\n",
              "      <td>2</td>\n",
              "      <td>2017-05-10</td>\n",
              "      <td>10</td>\n",
              "      <td>5</td>\n",
              "      <td>0</td>\n",
              "    </tr>\n",
              "    <tr>\n",
              "      <th>2</th>\n",
              "      <td>2017-05-10</td>\n",
              "      <td>3</td>\n",
              "      <td>1.22</td>\n",
              "      <td>0.35</td>\n",
              "      <td>45.1725</td>\n",
              "      <td>21.1</td>\n",
              "      <td>84</td>\n",
              "      <td>18.3</td>\n",
              "      <td>4.1</td>\n",
              "      <td>200</td>\n",
              "      <td>0</td>\n",
              "      <td>0</td>\n",
              "      <td>0.000000</td>\n",
              "      <td>0</td>\n",
              "      <td>2</td>\n",
              "      <td>2017-05-10</td>\n",
              "      <td>10</td>\n",
              "      <td>5</td>\n",
              "      <td>0</td>\n",
              "    </tr>\n",
              "    <tr>\n",
              "      <th>3</th>\n",
              "      <td>2017-05-10</td>\n",
              "      <td>4</td>\n",
              "      <td>1.15</td>\n",
              "      <td>0.35</td>\n",
              "      <td>44.9425</td>\n",
              "      <td>18.9</td>\n",
              "      <td>100</td>\n",
              "      <td>18.9</td>\n",
              "      <td>2.6</td>\n",
              "      <td>230</td>\n",
              "      <td>0</td>\n",
              "      <td>0</td>\n",
              "      <td>2.882613</td>\n",
              "      <td>0</td>\n",
              "      <td>2</td>\n",
              "      <td>2017-05-10</td>\n",
              "      <td>10</td>\n",
              "      <td>5</td>\n",
              "      <td>0</td>\n",
              "    </tr>\n",
              "    <tr>\n",
              "      <th>4</th>\n",
              "      <td>2017-05-10</td>\n",
              "      <td>5</td>\n",
              "      <td>0.82</td>\n",
              "      <td>0.35</td>\n",
              "      <td>45.0800</td>\n",
              "      <td>17.8</td>\n",
              "      <td>100</td>\n",
              "      <td>17.8</td>\n",
              "      <td>3.6</td>\n",
              "      <td>210</td>\n",
              "      <td>0</td>\n",
              "      <td>0</td>\n",
              "      <td>0.000000</td>\n",
              "      <td>0</td>\n",
              "      <td>2</td>\n",
              "      <td>2017-05-10</td>\n",
              "      <td>10</td>\n",
              "      <td>5</td>\n",
              "      <td>0</td>\n",
              "    </tr>\n",
              "  </tbody>\n",
              "</table>\n",
              "</div>\n",
              "      <button class=\"colab-df-convert\" onclick=\"convertToInteractive('df-f5e0984e-78a8-436e-81ea-5b8692a0337e')\"\n",
              "              title=\"Convert this dataframe to an interactive table.\"\n",
              "              style=\"display:none;\">\n",
              "        \n",
              "  <svg xmlns=\"http://www.w3.org/2000/svg\" height=\"24px\"viewBox=\"0 0 24 24\"\n",
              "       width=\"24px\">\n",
              "    <path d=\"M0 0h24v24H0V0z\" fill=\"none\"/>\n",
              "    <path d=\"M18.56 5.44l.94 2.06.94-2.06 2.06-.94-2.06-.94-.94-2.06-.94 2.06-2.06.94zm-11 1L8.5 8.5l.94-2.06 2.06-.94-2.06-.94L8.5 2.5l-.94 2.06-2.06.94zm10 10l.94 2.06.94-2.06 2.06-.94-2.06-.94-.94-2.06-.94 2.06-2.06.94z\"/><path d=\"M17.41 7.96l-1.37-1.37c-.4-.4-.92-.59-1.43-.59-.52 0-1.04.2-1.43.59L10.3 9.45l-7.72 7.72c-.78.78-.78 2.05 0 2.83L4 21.41c.39.39.9.59 1.41.59.51 0 1.02-.2 1.41-.59l7.78-7.78 2.81-2.81c.8-.78.8-2.07 0-2.86zM5.41 20L4 18.59l7.72-7.72 1.47 1.35L5.41 20z\"/>\n",
              "  </svg>\n",
              "      </button>\n",
              "      \n",
              "  <style>\n",
              "    .colab-df-container {\n",
              "      display:flex;\n",
              "      flex-wrap:wrap;\n",
              "      gap: 12px;\n",
              "    }\n",
              "\n",
              "    .colab-df-convert {\n",
              "      background-color: #E8F0FE;\n",
              "      border: none;\n",
              "      border-radius: 50%;\n",
              "      cursor: pointer;\n",
              "      display: none;\n",
              "      fill: #1967D2;\n",
              "      height: 32px;\n",
              "      padding: 0 0 0 0;\n",
              "      width: 32px;\n",
              "    }\n",
              "\n",
              "    .colab-df-convert:hover {\n",
              "      background-color: #E2EBFA;\n",
              "      box-shadow: 0px 1px 2px rgba(60, 64, 67, 0.3), 0px 1px 3px 1px rgba(60, 64, 67, 0.15);\n",
              "      fill: #174EA6;\n",
              "    }\n",
              "\n",
              "    [theme=dark] .colab-df-convert {\n",
              "      background-color: #3B4455;\n",
              "      fill: #D2E3FC;\n",
              "    }\n",
              "\n",
              "    [theme=dark] .colab-df-convert:hover {\n",
              "      background-color: #434B5C;\n",
              "      box-shadow: 0px 1px 3px 1px rgba(0, 0, 0, 0.15);\n",
              "      filter: drop-shadow(0px 1px 2px rgba(0, 0, 0, 0.3));\n",
              "      fill: #FFFFFF;\n",
              "    }\n",
              "  </style>\n",
              "\n",
              "      <script>\n",
              "        const buttonEl =\n",
              "          document.querySelector('#df-f5e0984e-78a8-436e-81ea-5b8692a0337e button.colab-df-convert');\n",
              "        buttonEl.style.display =\n",
              "          google.colab.kernel.accessAllowed ? 'block' : 'none';\n",
              "\n",
              "        async function convertToInteractive(key) {\n",
              "          const element = document.querySelector('#df-f5e0984e-78a8-436e-81ea-5b8692a0337e');\n",
              "          const dataTable =\n",
              "            await google.colab.kernel.invokeFunction('convertToInteractive',\n",
              "                                                     [key], {});\n",
              "          if (!dataTable) return;\n",
              "\n",
              "          const docLinkHtml = 'Like what you see? Visit the ' +\n",
              "            '<a target=\"_blank\" href=https://colab.research.google.com/notebooks/data_table.ipynb>data table notebook</a>'\n",
              "            + ' to learn more about interactive tables.';\n",
              "          element.innerHTML = '';\n",
              "          dataTable['output_type'] = 'display_data';\n",
              "          await google.colab.output.renderOutput(dataTable, element);\n",
              "          const docLink = document.createElement('div');\n",
              "          docLink.innerHTML = docLinkHtml;\n",
              "          element.appendChild(docLink);\n",
              "        }\n",
              "      </script>\n",
              "    </div>\n",
              "  </div>\n",
              "  "
            ]
          },
          "metadata": {},
          "execution_count": 16
        }
      ]
    },
    {
      "cell_type": "code",
      "source": [
        "corrs = spearmanr(e_df[['lights','mechanic','CHWTemp','OAT','RH','Dewpoint','windspeed','winddirection','difsolar','dirsolar']], e_df[['target']]).correlation\n",
        "corr_df = pd.DataFrame(np.array(corrs), columns=['lights','mechanic','CHWTemp','OAT','RH','Dewpoint','windspeed','winddirection','difsolar','dirsolar'])\n",
        "\n",
        "fig = plt.figure(figsize = (20, 6))\n",
        "sns.heatmap(corr_df.transpose(), cmap=sns.diverging_palette(240,10,as_cmap=True))\n",
        "plt.subplots_adjust(hspace = 0.7)"
      ],
      "metadata": {
        "colab": {
          "base_uri": "https://localhost:8080/",
          "height": 490
        },
        "id": "-OHgpfFcT7-x",
        "outputId": "e251f9c5-92b2-42e7-ccca-33c0ef11b364"
      },
      "execution_count": 19,
      "outputs": [
        {
          "output_type": "error",
          "ename": "ValueError",
          "evalue": "ignored",
          "traceback": [
            "\u001b[0;31m---------------------------------------------------------------------------\u001b[0m",
            "\u001b[0;31mValueError\u001b[0m                                Traceback (most recent call last)",
            "\u001b[0;32m<ipython-input-19-49eed5ecafd6>\u001b[0m in \u001b[0;36m<module>\u001b[0;34m\u001b[0m\n\u001b[1;32m      1\u001b[0m \u001b[0mcorrs\u001b[0m \u001b[0;34m=\u001b[0m \u001b[0mspearmanr\u001b[0m\u001b[0;34m(\u001b[0m\u001b[0me_df\u001b[0m\u001b[0;34m[\u001b[0m\u001b[0;34m[\u001b[0m\u001b[0;34m'lights'\u001b[0m\u001b[0;34m,\u001b[0m\u001b[0;34m'mechanic'\u001b[0m\u001b[0;34m,\u001b[0m\u001b[0;34m'CHWTemp'\u001b[0m\u001b[0;34m,\u001b[0m\u001b[0;34m'OAT'\u001b[0m\u001b[0;34m,\u001b[0m\u001b[0;34m'RH'\u001b[0m\u001b[0;34m,\u001b[0m\u001b[0;34m'Dewpoint'\u001b[0m\u001b[0;34m,\u001b[0m\u001b[0;34m'windspeed'\u001b[0m\u001b[0;34m,\u001b[0m\u001b[0;34m'winddirection'\u001b[0m\u001b[0;34m,\u001b[0m\u001b[0;34m'difsolar'\u001b[0m\u001b[0;34m,\u001b[0m\u001b[0;34m'dirsolar'\u001b[0m\u001b[0;34m]\u001b[0m\u001b[0;34m]\u001b[0m\u001b[0;34m,\u001b[0m \u001b[0me_df\u001b[0m\u001b[0;34m[\u001b[0m\u001b[0;34m[\u001b[0m\u001b[0;34m'target'\u001b[0m\u001b[0;34m]\u001b[0m\u001b[0;34m]\u001b[0m\u001b[0;34m)\u001b[0m\u001b[0;34m.\u001b[0m\u001b[0mcorrelation\u001b[0m\u001b[0;34m\u001b[0m\u001b[0;34m\u001b[0m\u001b[0m\n\u001b[0;32m----> 2\u001b[0;31m \u001b[0mcorr_df\u001b[0m \u001b[0;34m=\u001b[0m \u001b[0mpd\u001b[0m\u001b[0;34m.\u001b[0m\u001b[0mDataFrame\u001b[0m\u001b[0;34m(\u001b[0m\u001b[0mnp\u001b[0m\u001b[0;34m.\u001b[0m\u001b[0marray\u001b[0m\u001b[0;34m(\u001b[0m\u001b[0mcorrs\u001b[0m\u001b[0;34m)\u001b[0m\u001b[0;34m,\u001b[0m \u001b[0mcolumns\u001b[0m\u001b[0;34m=\u001b[0m\u001b[0;34m[\u001b[0m\u001b[0;34m'lights'\u001b[0m\u001b[0;34m,\u001b[0m\u001b[0;34m'mechanic'\u001b[0m\u001b[0;34m,\u001b[0m\u001b[0;34m'CHWTemp'\u001b[0m\u001b[0;34m,\u001b[0m\u001b[0;34m'OAT'\u001b[0m\u001b[0;34m,\u001b[0m\u001b[0;34m'RH'\u001b[0m\u001b[0;34m,\u001b[0m\u001b[0;34m'Dewpoint'\u001b[0m\u001b[0;34m,\u001b[0m\u001b[0;34m'windspeed'\u001b[0m\u001b[0;34m,\u001b[0m\u001b[0;34m'winddirection'\u001b[0m\u001b[0;34m,\u001b[0m\u001b[0;34m'difsolar'\u001b[0m\u001b[0;34m,\u001b[0m\u001b[0;34m'dirsolar'\u001b[0m\u001b[0;34m]\u001b[0m\u001b[0;34m)\u001b[0m\u001b[0;34m\u001b[0m\u001b[0;34m\u001b[0m\u001b[0m\n\u001b[0m\u001b[1;32m      3\u001b[0m \u001b[0;34m\u001b[0m\u001b[0m\n\u001b[1;32m      4\u001b[0m \u001b[0mfig\u001b[0m \u001b[0;34m=\u001b[0m \u001b[0mplt\u001b[0m\u001b[0;34m.\u001b[0m\u001b[0mfigure\u001b[0m\u001b[0;34m(\u001b[0m\u001b[0mfigsize\u001b[0m \u001b[0;34m=\u001b[0m \u001b[0;34m(\u001b[0m\u001b[0;36m20\u001b[0m\u001b[0;34m,\u001b[0m \u001b[0;36m6\u001b[0m\u001b[0;34m)\u001b[0m\u001b[0;34m)\u001b[0m\u001b[0;34m\u001b[0m\u001b[0;34m\u001b[0m\u001b[0m\n\u001b[1;32m      5\u001b[0m \u001b[0msns\u001b[0m\u001b[0;34m.\u001b[0m\u001b[0mheatmap\u001b[0m\u001b[0;34m(\u001b[0m\u001b[0mcorr_df\u001b[0m\u001b[0;34m.\u001b[0m\u001b[0mtranspose\u001b[0m\u001b[0;34m(\u001b[0m\u001b[0;34m)\u001b[0m\u001b[0;34m,\u001b[0m \u001b[0mcmap\u001b[0m\u001b[0;34m=\u001b[0m\u001b[0msns\u001b[0m\u001b[0;34m.\u001b[0m\u001b[0mdiverging_palette\u001b[0m\u001b[0;34m(\u001b[0m\u001b[0;36m240\u001b[0m\u001b[0;34m,\u001b[0m\u001b[0;36m10\u001b[0m\u001b[0;34m,\u001b[0m\u001b[0mas_cmap\u001b[0m\u001b[0;34m=\u001b[0m\u001b[0;32mTrue\u001b[0m\u001b[0;34m)\u001b[0m\u001b[0;34m)\u001b[0m\u001b[0;34m\u001b[0m\u001b[0;34m\u001b[0m\u001b[0m\n",
            "\u001b[0;32m/usr/local/lib/python3.7/dist-packages/pandas/core/frame.py\u001b[0m in \u001b[0;36m__init__\u001b[0;34m(self, data, index, columns, dtype, copy)\u001b[0m\n\u001b[1;32m    676\u001b[0m                     \u001b[0mdtype\u001b[0m\u001b[0;34m=\u001b[0m\u001b[0mdtype\u001b[0m\u001b[0;34m,\u001b[0m\u001b[0;34m\u001b[0m\u001b[0;34m\u001b[0m\u001b[0m\n\u001b[1;32m    677\u001b[0m                     \u001b[0mcopy\u001b[0m\u001b[0;34m=\u001b[0m\u001b[0mcopy\u001b[0m\u001b[0;34m,\u001b[0m\u001b[0;34m\u001b[0m\u001b[0;34m\u001b[0m\u001b[0m\n\u001b[0;32m--> 678\u001b[0;31m                     \u001b[0mtyp\u001b[0m\u001b[0;34m=\u001b[0m\u001b[0mmanager\u001b[0m\u001b[0;34m,\u001b[0m\u001b[0;34m\u001b[0m\u001b[0;34m\u001b[0m\u001b[0m\n\u001b[0m\u001b[1;32m    679\u001b[0m                 )\n\u001b[1;32m    680\u001b[0m \u001b[0;34m\u001b[0m\u001b[0m\n",
            "\u001b[0;32m/usr/local/lib/python3.7/dist-packages/pandas/core/internals/construction.py\u001b[0m in \u001b[0;36mndarray_to_mgr\u001b[0;34m(values, index, columns, dtype, copy, typ)\u001b[0m\n\u001b[1;32m    322\u001b[0m     )\n\u001b[1;32m    323\u001b[0m \u001b[0;34m\u001b[0m\u001b[0m\n\u001b[0;32m--> 324\u001b[0;31m     \u001b[0m_check_values_indices_shape_match\u001b[0m\u001b[0;34m(\u001b[0m\u001b[0mvalues\u001b[0m\u001b[0;34m,\u001b[0m \u001b[0mindex\u001b[0m\u001b[0;34m,\u001b[0m \u001b[0mcolumns\u001b[0m\u001b[0;34m)\u001b[0m\u001b[0;34m\u001b[0m\u001b[0;34m\u001b[0m\u001b[0m\n\u001b[0m\u001b[1;32m    325\u001b[0m \u001b[0;34m\u001b[0m\u001b[0m\n\u001b[1;32m    326\u001b[0m     \u001b[0;32mif\u001b[0m \u001b[0mtyp\u001b[0m \u001b[0;34m==\u001b[0m \u001b[0;34m\"array\"\u001b[0m\u001b[0;34m:\u001b[0m\u001b[0;34m\u001b[0m\u001b[0;34m\u001b[0m\u001b[0m\n",
            "\u001b[0;32m/usr/local/lib/python3.7/dist-packages/pandas/core/internals/construction.py\u001b[0m in \u001b[0;36m_check_values_indices_shape_match\u001b[0;34m(values, index, columns)\u001b[0m\n\u001b[1;32m    391\u001b[0m         \u001b[0mpassed\u001b[0m \u001b[0;34m=\u001b[0m \u001b[0mvalues\u001b[0m\u001b[0;34m.\u001b[0m\u001b[0mshape\u001b[0m\u001b[0;34m\u001b[0m\u001b[0;34m\u001b[0m\u001b[0m\n\u001b[1;32m    392\u001b[0m         \u001b[0mimplied\u001b[0m \u001b[0;34m=\u001b[0m \u001b[0;34m(\u001b[0m\u001b[0mlen\u001b[0m\u001b[0;34m(\u001b[0m\u001b[0mindex\u001b[0m\u001b[0;34m)\u001b[0m\u001b[0;34m,\u001b[0m \u001b[0mlen\u001b[0m\u001b[0;34m(\u001b[0m\u001b[0mcolumns\u001b[0m\u001b[0;34m)\u001b[0m\u001b[0;34m)\u001b[0m\u001b[0;34m\u001b[0m\u001b[0;34m\u001b[0m\u001b[0m\n\u001b[0;32m--> 393\u001b[0;31m         \u001b[0;32mraise\u001b[0m \u001b[0mValueError\u001b[0m\u001b[0;34m(\u001b[0m\u001b[0;34mf\"Shape of passed values is {passed}, indices imply {implied}\"\u001b[0m\u001b[0;34m)\u001b[0m\u001b[0;34m\u001b[0m\u001b[0;34m\u001b[0m\u001b[0m\n\u001b[0m\u001b[1;32m    394\u001b[0m \u001b[0;34m\u001b[0m\u001b[0m\n\u001b[1;32m    395\u001b[0m \u001b[0;34m\u001b[0m\u001b[0m\n",
            "\u001b[0;31mValueError\u001b[0m: Shape of passed values is (11, 11), indices imply (11, 10)"
          ]
        }
      ]
    }
  ]
}