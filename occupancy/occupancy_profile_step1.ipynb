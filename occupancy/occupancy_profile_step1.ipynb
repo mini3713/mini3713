{
  "nbformat": 4,
  "nbformat_minor": 0,
  "metadata": {
    "colab": {
      "provenance": [],
      "collapsed_sections": [],
      "authorship_tag": "ABX9TyPFL/px2nS12jWtSlGJguog",
      "include_colab_link": true
    },
    "kernelspec": {
      "name": "python3",
      "display_name": "Python 3"
    },
    "language_info": {
      "name": "python"
    }
  },
  "cells": [
    {
      "cell_type": "markdown",
      "metadata": {
        "id": "view-in-github",
        "colab_type": "text"
      },
      "source": [
        "<a href=\"https://colab.research.google.com/github/mini3713/mini3713/blob/main/occupancy/occupancy_profile_step1.ipynb\" target=\"_parent\"><img src=\"https://colab.research.google.com/assets/colab-badge.svg\" alt=\"Open In Colab\"/></a>"
      ]
    },
    {
      "cell_type": "code",
      "execution_count": 2,
      "metadata": {
        "colab": {
          "base_uri": "https://localhost:8080/"
        },
        "id": "mBj621_B5d31",
        "outputId": "85ffec22-8142-467e-f885-22c7f88b0156"
      },
      "outputs": [
        {
          "output_type": "stream",
          "name": "stderr",
          "text": [
            "/usr/local/lib/python3.7/dist-packages/IPython/core/interactiveshell.py:3326: DtypeWarning: Columns (86,87,88,89,92,93,98,102,104) have mixed types.Specify dtype option on import or set low_memory=False.\n",
            "  exec(code_obj, self.user_global_ns, self.user_ns)\n"
          ]
        }
      ],
      "source": [
        "import pandas as pd\n",
        "ktus = pd.read_csv('/content/2019_9_20221108_04181.csv')"
      ]
    },
    {
      "cell_type": "code",
      "source": [
        "ktus.info()"
      ],
      "metadata": {
        "colab": {
          "base_uri": "https://localhost:8080/"
        },
        "id": "p68TLiOfAuJN",
        "outputId": "01143666-74ee-429b-8702-b7d302b4920d"
      },
      "execution_count": 3,
      "outputs": [
        {
          "output_type": "stream",
          "name": "stdout",
          "text": [
            "<class 'pandas.core.frame.DataFrame'>\n",
            "RangeIndex: 21343 entries, 0 to 21342\n",
            "Columns: 107 entries, 1 to Unnamed: 106\n",
            "dtypes: float64(10), int64(6), object(91)\n",
            "memory usage: 17.4+ MB\n"
          ]
        }
      ]
    },
    {
      "cell_type": "code",
      "source": [
        "# 특성과 시계열 데이터 분리\n",
        "ktus_c = ktus.iloc[:,:5]\n",
        "ktus_t = ktus.iloc[:,6:]"
      ],
      "metadata": {
        "id": "0qqxKPQxAwSs"
      },
      "execution_count": 6,
      "outputs": []
    }
  ]
}