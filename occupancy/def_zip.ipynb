{
  "nbformat": 4,
  "nbformat_minor": 0,
  "metadata": {
    "colab": {
      "provenance": [],
      "authorship_tag": "ABX9TyM/EsVOVoEkHMYcY0UB+66W",
      "include_colab_link": true
    },
    "kernelspec": {
      "name": "python3",
      "display_name": "Python 3"
    },
    "language_info": {
      "name": "python"
    }
  },
  "cells": [
    {
      "cell_type": "markdown",
      "metadata": {
        "id": "view-in-github",
        "colab_type": "text"
      },
      "source": [
        "<a href=\"https://colab.research.google.com/github/mini3713/mini3713/blob/main/occupancy/def_zip.ipynb\" target=\"_parent\"><img src=\"https://colab.research.google.com/assets/colab-badge.svg\" alt=\"Open In Colab\"/></a>"
      ]
    },
    {
      "cell_type": "markdown",
      "source": [
        "### bar chart"
      ],
      "metadata": {
        "id": "CIzMXwPf04_6"
      }
    },
    {
      "cell_type": "code",
      "execution_count": null,
      "metadata": {
        "id": "HUqIS7Lh0vc_"
      },
      "outputs": [],
      "source": [
        "sns.set(font=\"NanumGothic\", rc={\"axes.unicode_minus\":False}, style='whitegrid')\n",
        "\n",
        "plt.rcParams[\"figure.figsize\"] = (10,7)\n",
        "plt.rc('font', size=10)\n",
        "plt.rc('axes', labelsize=15)\n",
        "plt.rc('xtick', labelsize=12)\n",
        "plt.rc('ytick', labelsize=12)\n",
        "plt.rc('legend', fontsize=11)\n",
        "plt.rc('figure', titlesize=15)"
      ]
    },
    {
      "cell_type": "code",
      "source": [
        "bar = sns.countplot(x=\"회차\", data=new_df)\n",
        "bar.set_xticklabels(['여름','가을','겨울'])\n",
        "\n",
        "for p in bar.patches:\n",
        "  bar.annotate(\"{:,}\".format(int(p.get_height())), (p.get_x()+ p.get_width()/2, p.get_height()), ha='center', va='center', size=10, xytext=(0,6), textcoords='offset points')\n",
        "\n",
        "### 천단위 콤마 표시(y축)\n",
        "def yfunc(y, pos):\n",
        "    s = '{:0,d}'.format(int(y))\n",
        "    return s\n",
        "y_format = tkr.FuncFormatter(yfunc)\n",
        "bar.yaxis.set_major_formatter(y_format)"
      ],
      "metadata": {
        "id": "VamWIi4W07ah"
      },
      "execution_count": null,
      "outputs": []
    },
    {
      "cell_type": "markdown",
      "source": [
        "### line chart by column"
      ],
      "metadata": {
        "id": "WbYAcJdS0_pD"
      }
    },
    {
      "cell_type": "code",
      "source": [
        "### column별 분류에 따른 평균을 꺾은선그래프로 시각화해주는 함수\n",
        "def visualize_column_unique(k):    \n",
        " \n",
        "  data = new_df\n",
        "  oh = data.iloc[:,6:]\n",
        "  ts = pd.date_range('2019-07-01 00:00:00', '2019-07-01 23:50:00', freq='10min')\n",
        "\n",
        "  # 원하는 칼럼 선택/고유값 추출\n",
        "  column = data.iloc[:,k]\n",
        "  unique_list = data.iloc[:,k].unique()\n",
        "\n",
        "  plt.figure(figsize=(18,4))\n",
        "  plt.ylim([0, 1.0]) \n",
        "\n",
        "  for i in unique_list: \n",
        "\n",
        "    # 고유값에 따른 라벨 추출 \n",
        "    col_val = column[(column == i)]\n",
        "    label = col_val.index.tolist()    \n",
        "\n",
        "    # 시계열 데이터에 라벨 전달하여 데이터 추출\n",
        "    # 고유값에 따른 시계열 평균 계산  \n",
        "    oh_label = oh.loc[label]\n",
        "    oh_rate = oh_label.sum(axis=0) / len(oh_label)\n",
        "    \n",
        "    plt.plot(ts, oh_rate, label=f'{i}')\n",
        "    plt.xlabel('Time')\n",
        "    plt.ylabel('Occupancy')\n",
        "    plt.legend()"
      ],
      "metadata": {
        "id": "8VFhpZrl0--a"
      },
      "execution_count": null,
      "outputs": []
    },
    {
      "cell_type": "code",
      "source": [
        "### cluster label에 따른 평균을 꺾은선그래프로 시각화해주는 함수\n",
        "def visualize_km_dwt(k):    \n",
        "  \n",
        "  # dwt한 데이터로 KMeans\n",
        "  km = KMeans(n_clusters = k, max_iter=2, random_state=42)\n",
        "  cluster = km.fit(n_cD5)\n",
        "  n_cD5['cluster'] = cluster.labels_\n",
        "\n",
        "  ts = pd.date_range('2019-07-01 00:00:00', '2019-07-01 23:50:00', freq='10min')\n",
        "  \n",
        "  plt.figure(figsize=(18,4))\n",
        "\n",
        "  for i in range (0, k, 1):\n",
        "    \n",
        "    # 클러스터 라벨에 따른 인덱스를 list로 저장\n",
        "    cluster_label = n_cD5.index[(n_cD5['cluster'] == i)].tolist()\n",
        "\n",
        "    # 원핫인코딩 파일로 인덱스전달 > 라벨별 평균 점유율 계산\n",
        "    df_label = df.loc[cluster_label]\n",
        "    df_rate = df_label.sum(axis=0) / len(df_label)\n",
        "    \n",
        "    plt.plot(ts, df_rate, label=f'{i}')\n",
        "    plt.xlabel('Time')\n",
        "    plt.ylabel('Occupancy')\n",
        "    plt.legend()"
      ],
      "metadata": {
        "id": "cygaspVw13ta"
      },
      "execution_count": null,
      "outputs": []
    },
    {
      "cell_type": "markdown",
      "source": [
        "### silhouette_score"
      ],
      "metadata": {
        "id": "X1ZKdX3m1d9K"
      }
    },
    {
      "cell_type": "code",
      "source": [
        "### 여러개의 클러스터링 갯수를 List로 입력 받아 각각의 실루엣 계수를 면적으로 시각화한 함수 작성\n",
        "### k-means가 아닌 time-series k-means로 작성함 \n",
        "def visualize_silhouette_KM(cluster_lists, X_features): \n",
        "\n",
        "    from sklearn.datasets import make_blobs\n",
        "    from sklearn.cluster import KMeans\n",
        "    from sklearn.metrics import silhouette_samples, silhouette_score\n",
        "\n",
        "    import matplotlib.pyplot as plt\n",
        "    import matplotlib.cm as cm\n",
        "    import math\n",
        "\n",
        "    # 입력값으로 클러스터링 갯수들을 리스트로 받아서, 각 갯수별로 클러스터링을 적용하고 실루엣 계수를 구함\n",
        "    n_cols = len(cluster_lists)\n",
        "\n",
        "    # plt.subplots()으로 리스트에 기재된 클러스터링 수만큼의 sub figures를 가지는 axs 생성 \n",
        "    fig, axs = plt.subplots(figsize=(4*n_cols, 4), nrows=1, ncols=n_cols)\n",
        "\n",
        "    # 리스트에 기재된 클러스터링 갯수들을 차례로 iteration 수행하면서 실루엣 계수 시각화\n",
        "    for ind, n_cluster in enumerate(cluster_lists):\n",
        "\n",
        "        # KMeans 클러스터링 수행하고, 실루엣 스코어와 개별 데이터의 실루엣 값 계산. \n",
        "        clusterer = KMeans(n_clusters = n_cluster, max_iter=2, random_state=42)\n",
        "        cluster_labels = clusterer.fit_predict(X_features)\n",
        "\n",
        "        sil_avg = silhouette_score(X_features, cluster_labels)\n",
        "        sil_values = silhouette_samples(X_features, cluster_labels)\n",
        "\n",
        "        y_lower = 10\n",
        "        axs[ind].set_title('Number of Cluster : '+ str(n_cluster)+'\\n' \\\n",
        "                          'Silhouette Score :' + str(round(sil_avg,3)) )\n",
        "        axs[ind].set_xlabel(\"The silhouette coefficient values\")\n",
        "        axs[ind].set_ylabel(\"Cluster label\")\n",
        "        axs[ind].set_xlim([-0.1, 1])\n",
        "        axs[ind].set_ylim([0, len(X_features) + (n_cluster + 1) * 10])\n",
        "        axs[ind].set_yticks([])  # Clear the yaxis labels / ticks\n",
        "        axs[ind].set_xticks([-0.4, -0.2, 0, 0.2, 0.4, 0.6])\n",
        "\n",
        "        # 클러스터링 갯수별로 fill_betweenx( )형태의 막대 그래프 표현. \n",
        "        for i in range(n_cluster):\n",
        "            ith_cluster_sil_values = sil_values[cluster_labels==i]\n",
        "            ith_cluster_sil_values.sort()\n",
        "\n",
        "            size_cluster_i = ith_cluster_sil_values.shape[0]\n",
        "            y_upper = y_lower + size_cluster_i\n",
        "\n",
        "            color = cm.nipy_spectral(float(i) / n_cluster)\n",
        "            axs[ind].fill_betweenx(np.arange(y_lower, y_upper), 0, ith_cluster_sil_values, \\\n",
        "                                facecolor=color, edgecolor=color, alpha=0.7)\n",
        "            axs[ind].text(-0.05, y_lower + 0.5 * size_cluster_i, str(i))\n",
        "            y_lower = y_upper + 10\n",
        "\n",
        "        axs[ind].axvline(x=sil_avg, color=\"red\", linestyle=\"--\")"
      ],
      "metadata": {
        "id": "79zUV29m1JdC"
      },
      "execution_count": null,
      "outputs": []
    }
  ]
}