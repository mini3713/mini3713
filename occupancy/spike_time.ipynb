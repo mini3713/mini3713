{
  "nbformat": 4,
  "nbformat_minor": 0,
  "metadata": {
    "colab": {
      "provenance": [],
      "authorship_tag": "ABX9TyMfvid0n6TBBZPIPgqePLzk",
      "include_colab_link": true
    },
    "kernelspec": {
      "name": "python3",
      "display_name": "Python 3"
    },
    "language_info": {
      "name": "python"
    }
  },
  "cells": [
    {
      "cell_type": "markdown",
      "metadata": {
        "id": "view-in-github",
        "colab_type": "text"
      },
      "source": [
        "<a href=\"https://colab.research.google.com/github/mini3713/mini3713/blob/main/occupancy/spike_time.ipynb\" target=\"_parent\"><img src=\"https://colab.research.google.com/assets/colab-badge.svg\" alt=\"Open In Colab\"/></a>"
      ]
    },
    {
      "cell_type": "markdown",
      "source": [
        "## 데이터 전처리"
      ],
      "metadata": {
        "id": "vAEcog0ciSIg"
      }
    },
    {
      "cell_type": "code",
      "source": [
        "!pip install tslearn"
      ],
      "metadata": {
        "colab": {
          "base_uri": "https://localhost:8080/"
        },
        "id": "R9Pp5klAi732",
        "outputId": "6b25e0f8-c18b-42ea-b97e-4942c64c893f"
      },
      "execution_count": 1,
      "outputs": [
        {
          "output_type": "stream",
          "name": "stdout",
          "text": [
            "Looking in indexes: https://pypi.org/simple, https://us-python.pkg.dev/colab-wheels/public/simple/\n",
            "Requirement already satisfied: tslearn in /usr/local/lib/python3.8/dist-packages (0.5.3.2)\n",
            "Requirement already satisfied: numba in /usr/local/lib/python3.8/dist-packages (from tslearn) (0.56.4)\n",
            "Requirement already satisfied: joblib in /usr/local/lib/python3.8/dist-packages (from tslearn) (1.2.0)\n",
            "Requirement already satisfied: numpy in /usr/local/lib/python3.8/dist-packages (from tslearn) (1.21.6)\n",
            "Requirement already satisfied: scikit-learn in /usr/local/lib/python3.8/dist-packages (from tslearn) (1.0.2)\n",
            "Requirement already satisfied: scipy in /usr/local/lib/python3.8/dist-packages (from tslearn) (1.7.3)\n",
            "Requirement already satisfied: llvmlite<0.40,>=0.39.0dev0 in /usr/local/lib/python3.8/dist-packages (from numba->tslearn) (0.39.1)\n",
            "Requirement already satisfied: importlib-metadata in /usr/local/lib/python3.8/dist-packages (from numba->tslearn) (6.0.0)\n",
            "Requirement already satisfied: setuptools in /usr/local/lib/python3.8/dist-packages (from numba->tslearn) (57.4.0)\n",
            "Requirement already satisfied: threadpoolctl>=2.0.0 in /usr/local/lib/python3.8/dist-packages (from scikit-learn->tslearn) (3.1.0)\n",
            "Requirement already satisfied: zipp>=0.5 in /usr/local/lib/python3.8/dist-packages (from importlib-metadata->numba->tslearn) (3.12.1)\n"
          ]
        }
      ]
    },
    {
      "cell_type": "code",
      "execution_count": 2,
      "metadata": {
        "id": "nS3XiZrae1AX"
      },
      "outputs": [],
      "source": [
        "import pandas as pd\n",
        "import numpy as np\n",
        "from tslearn.clustering import TimeSeriesKMeans\n",
        "import matplotlib.pyplot as plt"
      ]
    },
    {
      "cell_type": "code",
      "source": [
        "all = pd.read_csv('/content/2019_시간대_전체_20230130_51107.csv', encoding='cp949')\n",
        "ts = pd.read_excel('/content/Time Series Data_19.xlsx')"
      ],
      "metadata": {
        "colab": {
          "base_uri": "https://localhost:8080/"
        },
        "id": "FeKoUZu4jwJg",
        "outputId": "23fc24f1-63b9-48df-f5ea-5e59895becd2"
      },
      "execution_count": 3,
      "outputs": [
        {
          "output_type": "stream",
          "name": "stderr",
          "text": [
            "/usr/local/lib/python3.8/dist-packages/IPython/core/interactiveshell.py:3326: DtypeWarning: Columns (16,34,37,38,39,40,41,42,43,44,45,46,47,48,49,50,51,52) have mixed types.Specify dtype option on import or set low_memory=False.\n",
            "  exec(code_obj, self.user_global_ns, self.user_ns)\n"
          ]
        }
      ]
    },
    {
      "cell_type": "code",
      "source": [
        "f_df = all.iloc[:,:23]\n",
        "day = f_df[['평토일구분코드']]\n",
        "df = pd.concat([day, ts],axis=1)"
      ],
      "metadata": {
        "id": "J92AdnQkjzVO"
      },
      "execution_count": 4,
      "outputs": []
    },
    {
      "cell_type": "code",
      "source": [
        "wd = df[df['평토일구분코드'] == 1]\n",
        "we = df[(df['평토일구분코드'] == 2) | (df['평토일구분코드'] == 3)]\n",
        "wd = wd.drop(['평토일구분코드'], axis=1)\n",
        "we = we.drop(['평토일구분코드'], axis=1)"
      ],
      "metadata": {
        "id": "qCVE33U4kTBZ"
      },
      "execution_count": 5,
      "outputs": []
    },
    {
      "cell_type": "code",
      "source": [
        "km = TimeSeriesKMeans(n_clusters = 3, max_iter=50, metric=\"euclidean\", random_state=42, n_jobs=-1)\n",
        "km.fit(wd)\n",
        "wd['cluster'] = km.labels_"
      ],
      "metadata": {
        "id": "NYJss6WEkyCq"
      },
      "execution_count": 6,
      "outputs": []
    },
    {
      "cell_type": "markdown",
      "source": [
        "## wd 클러스터 0"
      ],
      "metadata": {
        "id": "6JqdH5zmsRwD"
      }
    },
    {
      "cell_type": "code",
      "source": [
        "wd0 = wd[wd['cluster'] == 0]\n",
        "wd0 = wd0.drop(['cluster'], axis=1)"
      ],
      "metadata": {
        "id": "DBoYfu9Qk1th"
      },
      "execution_count": 7,
      "outputs": []
    },
    {
      "cell_type": "code",
      "source": [
        "###1\n",
        "wd0_1 = wd0.copy()\n",
        "for i in range(0, wd0_1.shape[0]) : \n",
        "    for k in range(0, wd0_1.shape[1]) :  \n",
        "        a = str(wd0_1.iloc[int(i), int(k)])  \n",
        "        if a == '1' : wd0_1.iloc[int(i), int(k)] = 1\n",
        "        else :  wd0_1.iloc[int(i), int(k)] = 0\n",
        "\n",
        "aa = wd0_1.reset_index()\n",
        "aa = aa.drop(['index'],axis=1)\n",
        "wd01_list = aa.values.tolist()"
      ],
      "metadata": {
        "id": "gw2z0v5ns8lb"
      },
      "execution_count": 8,
      "outputs": []
    },
    {
      "cell_type": "code",
      "source": [
        "###2\n",
        "wd0_2 = wd0.copy()\n",
        "for i in range(0, wd0_2.shape[0]) : \n",
        "    for k in range(0, wd0_2.shape[1]) :  \n",
        "        a = str(wd0_2.iloc[int(i), int(k)])  \n",
        "        if a == '2' : wd0_2.iloc[int(i), int(k)] = 1\n",
        "        else :  wd0_2.iloc[int(i), int(k)] = 0\n",
        "\n",
        "b = wd0_2.reset_index()\n",
        "b = b.drop(['index'],axis=1)\n",
        "wd02_list = b.values.tolist()"
      ],
      "metadata": {
        "id": "eDO9ASYkvdD9"
      },
      "execution_count": 9,
      "outputs": []
    },
    {
      "cell_type": "code",
      "source": [
        "###3\n",
        "wd0_3 = wd0.copy()\n",
        "for i in range(0, wd0_3.shape[0]) : \n",
        "    for k in range(0, wd0_3.shape[1]) :  \n",
        "        a = str(wd0_3.iloc[int(i), int(k)])  \n",
        "        if a == '3' : wd0_3.iloc[int(i), int(k)] = 1\n",
        "        else :  wd0_3.iloc[int(i), int(k)] = 0\n",
        "\n",
        "c = wd0_3.reset_index()\n",
        "c = c.drop(['index'],axis=1)\n",
        "wd03_list = c.values.tolist()"
      ],
      "metadata": {
        "id": "UwzdLGd4wgyX"
      },
      "execution_count": 10,
      "outputs": []
    },
    {
      "cell_type": "code",
      "source": [
        "###4\n",
        "wd0_4 = wd0.copy()\n",
        "for i in range(0, wd0_4.shape[0]) : \n",
        "    for k in range(0, wd0_4.shape[1]) :  \n",
        "        a = str(wd0_4.iloc[int(i), int(k)])  \n",
        "        if a == '4' : wd0_4.iloc[int(i), int(k)] = 1\n",
        "        else :  wd0_4.iloc[int(i), int(k)] = 0\n",
        "\n",
        "d = wd0_4.reset_index()\n",
        "d = d.drop(['index'],axis=1)\n",
        "wd04_list = d.values.tolist()"
      ],
      "metadata": {
        "id": "2fUxjpsHwg_D"
      },
      "execution_count": 11,
      "outputs": []
    },
    {
      "cell_type": "code",
      "source": [
        "###5\n",
        "wd0_5 = wd0.copy()\n",
        "for i in range(0, wd0_5.shape[0]) : \n",
        "    for k in range(0, wd0_5.shape[1]) :  \n",
        "        a = str(wd0_5.iloc[int(i), int(k)])  \n",
        "        if a == '5' : wd0_5.iloc[int(i), int(k)] = 1\n",
        "        else :  wd0_5.iloc[int(i), int(k)] = 0\n",
        "\n",
        "e = wd0_5.reset_index()\n",
        "e = e.drop(['index'],axis=1)\n",
        "wd05_list = e.values.tolist()"
      ],
      "metadata": {
        "id": "TKEz1ErxwhJY"
      },
      "execution_count": 12,
      "outputs": []
    },
    {
      "cell_type": "code",
      "source": [
        "###6\n",
        "wd0_6 = wd0.copy()\n",
        "for i in range(0, wd0_6.shape[0]) : \n",
        "    for k in range(0, wd0_6.shape[1]) :  \n",
        "        a = str(wd0_6.iloc[int(i), int(k)])  \n",
        "        if a == '6' : wd0_6.iloc[int(i), int(k)] = 1\n",
        "        else :  wd0_6.iloc[int(i), int(k)] = 0\n",
        "\n",
        "f = wd0_6.reset_index()\n",
        "f = f.drop(['index'],axis=1)\n",
        "wd06_list = f.values.tolist()"
      ],
      "metadata": {
        "id": "cQBmH-mkwhTD"
      },
      "execution_count": 13,
      "outputs": []
    },
    {
      "cell_type": "code",
      "source": [
        "wd0 = pd.concat([aa, b, c, d, e, f],axis=1)\n",
        "wd0.info()"
      ],
      "metadata": {
        "id": "TMeyIhWg-gld",
        "colab": {
          "base_uri": "https://localhost:8080/"
        },
        "outputId": "4af82162-c0f2-47e0-cb66-b354572ee62a"
      },
      "execution_count": 14,
      "outputs": [
        {
          "output_type": "stream",
          "name": "stdout",
          "text": [
            "<class 'pandas.core.frame.DataFrame'>\n",
            "RangeIndex: 9823 entries, 0 to 9822\n",
            "Columns: 864 entries, 00:00:00 to 23:50:00\n",
            "dtypes: int64(864)\n",
            "memory usage: 64.8 MB\n"
          ]
        }
      ]
    },
    {
      "cell_type": "code",
      "source": [
        "wd0_list = wd0.values.tolist()"
      ],
      "metadata": {
        "id": "4h2NQNQJAFKi"
      },
      "execution_count": 15,
      "outputs": []
    },
    {
      "cell_type": "code",
      "source": [
        "spike_value = 1\n",
        "\n",
        "fig, ax = plt.subplots(figsize=(18,1.5))  #괄호안에 figsize=(10,5)\n",
        "\n",
        "# Loop to plot raster for each trial\n",
        "for trial in range(len(wd0_list)):\n",
        "    spike_times = [i for i, x in enumerate(wd0_list[trial]) if x == spike_value]\n",
        "    ax.vlines(spike_times, trial - 0.5, trial+0.5, color='dodgerblue', linewidth=4)\n",
        "\n",
        "plt.vlines(144, 0, 10000, color='black', linestyle='solid', linewidth=0.8)\n",
        "plt.vlines(144*2, -200, 10000, color='black', linestyle='solid', linewidth=0.8)\n",
        "plt.vlines(144*3, -200, 10000, color='black', linestyle='solid', linewidth=0.8)\n",
        "plt.vlines(144*4, -200, 10000, color='black', linestyle='solid', linewidth=0.8)\n",
        "plt.vlines(144*5, -200, 10000, color='black', linestyle='solid', linewidth=0.8)\n",
        "\n",
        "ax.set_xlim([0, 864])\n",
        "ax.set_ylim([-200, 10000])\n",
        "\n",
        "ax.xaxis.grid(False)\n",
        "ax.yaxis.grid(False)\n",
        "plt.show()"
      ],
      "metadata": {
        "colab": {
          "base_uri": "https://localhost:8080/",
          "height": 133
        },
        "id": "rhNHI11R3j61",
        "outputId": "16fdb385-af64-47a1-afd7-37c5698651bf"
      },
      "execution_count": 19,
      "outputs": [
        {
          "output_type": "display_data",
          "data": {
            "text/plain": [
              "<Figure size 1296x108 with 1 Axes>"
            ],
            "image/png": "[encoded data removed]"
          },
          "metadata": {
            "needs_background": "light"
          }
        }
      ]
    },
    {
      "cell_type": "code",
      "source": [
        "wd0.to_csv('/content/wd0.csv')"
      ],
      "metadata": {
        "id": "XvOPQK6NOfOQ"
      },
      "execution_count": 21,
      "outputs": []
    },
    {
      "cell_type": "markdown",
      "source": [
        "## wd 클러스터 1"
      ],
      "metadata": {
        "id": "6x5ITEQ9QegQ"
      }
    },
    {
      "cell_type": "code",
      "source": [
        "wd1 = wd[wd['cluster'] == 1]\n",
        "wd1 = wd1.drop(['cluster'], axis=1)"
      ],
      "metadata": {
        "id": "Vmd3WNCAQl6d"
      },
      "execution_count": 7,
      "outputs": []
    },
    {
      "cell_type": "code",
      "source": [
        "###1\n",
        "wd1_1 = wd1.copy()\n",
        "for i in range(0, wd1_1.shape[0]) : \n",
        "    for k in range(0, wd1_1.shape[1]) :  \n",
        "        a = str(wd1_1.iloc[int(i), int(k)])  \n",
        "        if a == '1' : wd1_1.iloc[int(i), int(k)] = 1\n",
        "        else :  wd1_1.iloc[int(i), int(k)] = 0\n",
        "\n",
        "aa1 = wd1_1.reset_index()\n",
        "aa1 = aa1.drop(['index'],axis=1)\n",
        "wd11_list = aa1.values.tolist()"
      ],
      "metadata": {
        "id": "7EzxbVaJRO26"
      },
      "execution_count": 8,
      "outputs": []
    },
    {
      "cell_type": "code",
      "source": [
        "###2\n",
        "wd1_2 = wd1.copy()\n",
        "for i in range(0, wd1_2.shape[0]) : \n",
        "    for k in range(0, wd1_2.shape[1]) :  \n",
        "        a = str(wd1_2.iloc[int(i), int(k)])  \n",
        "        if a == '2' : wd1_2.iloc[int(i), int(k)] = 1\n",
        "        else :  wd1_2.iloc[int(i), int(k)] = 0\n",
        "\n",
        "b1 = wd1_2.reset_index()\n",
        "b1 = b1.drop(['index'],axis=1)\n",
        "wd12_list = b1.values.tolist()"
      ],
      "metadata": {
        "id": "4UKTJt3IRnZk"
      },
      "execution_count": 9,
      "outputs": []
    },
    {
      "cell_type": "code",
      "source": [
        "###3\n",
        "wd1_3 = wd1.copy()\n",
        "for i in range(0, wd1_3.shape[0]) : \n",
        "    for k in range(0, wd1_3.shape[1]) :  \n",
        "        a = str(wd1_3.iloc[int(i), int(k)])  \n",
        "        if a == '3' : wd1_3.iloc[int(i), int(k)] = 1\n",
        "        else :  wd1_3.iloc[int(i), int(k)] = 0\n",
        "\n",
        "c1 = wd1_3.reset_index()\n",
        "c1 = c1.drop(['index'],axis=1)\n",
        "wd13_list = c1.values.tolist()"
      ],
      "metadata": {
        "id": "z1LCqw6YS1k7"
      },
      "execution_count": 10,
      "outputs": []
    },
    {
      "cell_type": "code",
      "source": [
        "###4\n",
        "wd1_4 = wd1.copy()\n",
        "for i in range(0, wd1_4.shape[0]) : \n",
        "    for k in range(0, wd1_4.shape[1]) :  \n",
        "        a = str(wd1_4.iloc[int(i), int(k)])  \n",
        "        if a == '4' : wd1_4.iloc[int(i), int(k)] = 1\n",
        "        else :  wd1_4.iloc[int(i), int(k)] = 0\n",
        "\n",
        "d1 = wd1_4.reset_index()\n",
        "d1 = d1.drop(['index'],axis=1)\n",
        "wd14_list = d1.values.tolist()"
      ],
      "metadata": {
        "id": "cZhm_SqvThpS"
      },
      "execution_count": 11,
      "outputs": []
    },
    {
      "cell_type": "code",
      "source": [
        "###5\n",
        "wd1_5 = wd1.copy()\n",
        "for i in range(0, wd1_5.shape[0]) : \n",
        "    for k in range(0, wd1_5.shape[1]) :  \n",
        "        a = str(wd1_5.iloc[int(i), int(k)])  \n",
        "        if a == '5' : wd1_5.iloc[int(i), int(k)] = 1\n",
        "        else :  wd1_5.iloc[int(i), int(k)] = 0\n",
        "\n",
        "e1 = wd1_5.reset_index()\n",
        "e1 = e1.drop(['index'],axis=1)\n",
        "wd15_list = e1.values.tolist()"
      ],
      "metadata": {
        "id": "z004gVo4Tjdv"
      },
      "execution_count": 12,
      "outputs": []
    },
    {
      "cell_type": "code",
      "source": [
        "###6\n",
        "wd1_6 = wd1.copy()\n",
        "for i in range(0, wd1_6.shape[0]) : \n",
        "    for k in range(0, wd1_6.shape[1]) :  \n",
        "        a = str(wd1_6.iloc[int(i), int(k)])  \n",
        "        if a == '6' : wd1_6.iloc[int(i), int(k)] = 1\n",
        "        else :  wd1_6.iloc[int(i), int(k)] = 0\n",
        "\n",
        "f1 = wd1_6.reset_index()\n",
        "f1 = f1.drop(['index'],axis=1)\n",
        "wd16_list = f1.values.tolist()"
      ],
      "metadata": {
        "id": "s-39XAQzTjnN"
      },
      "execution_count": 13,
      "outputs": []
    },
    {
      "cell_type": "code",
      "source": [
        "wd1 = pd.concat([aa1, b1, c1, d1, e1, f1],axis=1)\n",
        "wd1.info()"
      ],
      "metadata": {
        "colab": {
          "base_uri": "https://localhost:8080/"
        },
        "id": "ChaW6u0TX6yC",
        "outputId": "18f56f19-7417-4886-9143-7ac58385819b"
      },
      "execution_count": 14,
      "outputs": [
        {
          "output_type": "stream",
          "name": "stdout",
          "text": [
            "<class 'pandas.core.frame.DataFrame'>\n",
            "RangeIndex: 12223 entries, 0 to 12222\n",
            "Columns: 864 entries, 00:00:00 to 23:50:00\n",
            "dtypes: int64(864)\n",
            "memory usage: 80.6 MB\n"
          ]
        }
      ]
    },
    {
      "cell_type": "code",
      "source": [
        "wd1.to_csv('/content/wd1.csv')"
      ],
      "metadata": {
        "id": "2vh4bZujZEIA"
      },
      "execution_count": 15,
      "outputs": []
    },
    {
      "cell_type": "code",
      "source": [
        "wd1_list = wd1.values.tolist()"
      ],
      "metadata": {
        "id": "aOZhQzRpZITL"
      },
      "execution_count": 16,
      "outputs": []
    },
    {
      "cell_type": "code",
      "source": [
        "spike_value = 1\n",
        "\n",
        "fig, ax = plt.subplots(figsize=(18,1.5))  #괄호안에 figsize=(10,5)\n",
        "\n",
        "# Loop to plot raster for each trial\n",
        "for trial in range(len(wd1_list)):\n",
        "    spike_times = [i for i, x in enumerate(wd1_list[trial]) if x == spike_value]\n",
        "    ax.vlines(spike_times, trial - 0.5, trial+0.5, color='forestgreen', linewidth=4)\n",
        "\n",
        "plt.vlines(144, 0, 10000, color='black', linestyle='solid', linewidth=0.8)\n",
        "plt.vlines(144*2, -200, 12400, color='black', linestyle='solid', linewidth=0.8)\n",
        "plt.vlines(144*3, -200, 12400, color='black', linestyle='solid', linewidth=0.8)\n",
        "plt.vlines(144*4, -200, 12400, color='black', linestyle='solid', linewidth=0.8)\n",
        "plt.vlines(144*5, -200, 12400, color='black', linestyle='solid', linewidth=0.8)\n",
        "\n",
        "ax.set_xlim([0, 864])\n",
        "ax.set_ylim([-200, 12400])\n",
        "\n",
        "ax.xaxis.grid(False)\n",
        "ax.yaxis.grid(False)\n",
        "plt.show()"
      ],
      "metadata": {
        "colab": {
          "base_uri": "https://localhost:8080/",
          "height": 129
        },
        "id": "Q7OL4GEFZUCJ",
        "outputId": "7c7f3856-2227-48e1-b5b7-0a8b3a933fbc"
      },
      "execution_count": 17,
      "outputs": [
        {
          "output_type": "display_data",
          "data": {
            "text/plain": [
              "<Figure size 1296x108 with 1 Axes>"
            ],
            "image/png": "[encoded data removed]"
          },
          "metadata": {
            "needs_background": "light"
          }
        }
      ]
    },
    {
      "cell_type": "markdown",
      "source": [
        "## wd 클러스터 2"
      ],
      "metadata": {
        "id": "jCEBmBV8a4VU"
      }
    },
    {
      "cell_type": "code",
      "source": [
        "wd2 = wd[wd['cluster'] == 2]\n",
        "wd2 = wd2.drop(['cluster'], axis=1)"
      ],
      "metadata": {
        "id": "IXVaV6nva6fX"
      },
      "execution_count": 18,
      "outputs": []
    },
    {
      "cell_type": "code",
      "source": [
        "###1\n",
        "wd2_1 = wd2.copy()\n",
        "for i in range(0, wd2_1.shape[0]) : \n",
        "    for k in range(0, wd2_1.shape[1]) :  \n",
        "        a = str(wd2_1.iloc[int(i), int(k)])  \n",
        "        if a == '1' : wd2_1.iloc[int(i), int(k)] = 1\n",
        "        else :  wd2_1.iloc[int(i), int(k)] = 0\n",
        "\n",
        "aa2 = wd2_1.reset_index()\n",
        "aa2 = aa2.drop(['index'],axis=1)\n",
        "wd21_list = aa2.values.tolist()"
      ],
      "metadata": {
        "id": "TxGUJKoxa_0J"
      },
      "execution_count": 19,
      "outputs": []
    },
    {
      "cell_type": "code",
      "source": [
        "###2\n",
        "wd2_2 = wd2.copy()\n",
        "for i in range(0, wd2_2.shape[0]) : \n",
        "    for k in range(0, wd2_2.shape[1]) :  \n",
        "        a = str(wd2_2.iloc[int(i), int(k)])  \n",
        "        if a == '2' : wd2_2.iloc[int(i), int(k)] = 1\n",
        "        else :  wd2_2.iloc[int(i), int(k)] = 0\n",
        "\n",
        "b2 = wd2_2.reset_index()\n",
        "b2 = b2.drop(['index'],axis=1)\n",
        "wd22_list = b2.values.tolist()"
      ],
      "metadata": {
        "id": "812WhIo7boOB"
      },
      "execution_count": 20,
      "outputs": []
    },
    {
      "cell_type": "code",
      "source": [
        "###3\n",
        "wd2_3 = wd2.copy()\n",
        "for i in range(0, wd2_3.shape[0]) : \n",
        "    for k in range(0, wd2_3.shape[1]) :  \n",
        "        a = str(wd2_3.iloc[int(i), int(k)])  \n",
        "        if a == '3' : wd2_3.iloc[int(i), int(k)] = 1\n",
        "        else :  wd2_3.iloc[int(i), int(k)] = 0\n",
        "\n",
        "c2 = wd2_3.reset_index()\n",
        "c2 = c2.drop(['index'],axis=1)\n",
        "wd23_list = c2.values.tolist()"
      ],
      "metadata": {
        "id": "gbspZccXbxqK"
      },
      "execution_count": 21,
      "outputs": []
    },
    {
      "cell_type": "code",
      "source": [
        "###4\n",
        "wd2_4 = wd2.copy()\n",
        "for i in range(0, wd2_4.shape[0]) : \n",
        "    for k in range(0, wd2_4.shape[1]) :  \n",
        "        a = str(wd2_4.iloc[int(i), int(k)])  \n",
        "        if a == '4' : wd2_4.iloc[int(i), int(k)] = 1\n",
        "        else :  wd2_4.iloc[int(i), int(k)] = 0\n",
        "\n",
        "d2 = wd2_4.reset_index()\n",
        "d2 = d2.drop(['index'],axis=1)\n",
        "wd24_list = d2.values.tolist()"
      ],
      "metadata": {
        "id": "GUMIkwGOcLpq"
      },
      "execution_count": 22,
      "outputs": []
    },
    {
      "cell_type": "code",
      "source": [
        "###5\n",
        "wd2_5 = wd2.copy()\n",
        "for i in range(0, wd2_5.shape[0]) : \n",
        "    for k in range(0, wd2_5.shape[1]) :  \n",
        "        a = str(wd2_5.iloc[int(i), int(k)])  \n",
        "        if a == '5' : wd2_5.iloc[int(i), int(k)] = 1\n",
        "        else :  wd2_5.iloc[int(i), int(k)] = 0\n",
        "\n",
        "e2 = wd2_5.reset_index()\n",
        "e2 = e2.drop(['index'],axis=1)\n",
        "wd25_list = e2.values.tolist()"
      ],
      "metadata": {
        "id": "Qtn5hvEQbx4X"
      },
      "execution_count": 23,
      "outputs": []
    },
    {
      "cell_type": "code",
      "source": [
        "###6\n",
        "wd2_6 = wd2.copy()\n",
        "for i in range(0, wd2_6.shape[0]) : \n",
        "    for k in range(0, wd2_6.shape[1]) :  \n",
        "        a = str(wd2_6.iloc[int(i), int(k)])  \n",
        "        if a == '6' : wd2_6.iloc[int(i), int(k)] = 1\n",
        "        else :  wd2_6.iloc[int(i), int(k)] = 0\n",
        "\n",
        "f2 = wd2_6.reset_index()\n",
        "f2 = f2.drop(['index'],axis=1)\n",
        "wd26_list = f2.values.tolist()"
      ],
      "metadata": {
        "id": "gkICjYoUbyAv"
      },
      "execution_count": 24,
      "outputs": []
    },
    {
      "cell_type": "code",
      "source": [
        "wd2 = pd.concat([aa2, b2, c2, d2, e2, f2],axis=1)\n",
        "wd2.info()"
      ],
      "metadata": {
        "colab": {
          "base_uri": "https://localhost:8080/"
        },
        "id": "amoLOWJUbyId",
        "outputId": "6536d120-5bc0-4a43-e6d3-55ada424186c"
      },
      "execution_count": 25,
      "outputs": [
        {
          "output_type": "stream",
          "name": "stdout",
          "text": [
            "<class 'pandas.core.frame.DataFrame'>\n",
            "RangeIndex: 9255 entries, 0 to 9254\n",
            "Columns: 864 entries, 00:00:00 to 23:50:00\n",
            "dtypes: int64(864)\n",
            "memory usage: 61.0 MB\n"
          ]
        }
      ]
    },
    {
      "cell_type": "code",
      "source": [
        "wd2.to_csv('/content/wd2.csv')"
      ],
      "metadata": {
        "id": "6piPZp0Egl6k"
      },
      "execution_count": 28,
      "outputs": []
    },
    {
      "cell_type": "code",
      "source": [
        "wd2_list = wd2.values.tolist()"
      ],
      "metadata": {
        "id": "HvSzf60zgn5R"
      },
      "execution_count": 27,
      "outputs": []
    },
    {
      "cell_type": "code",
      "source": [
        "wd0 = pd.read_csv('/content/wd0.csv', encoding='cp949')\n",
        "wd0_list = wd0.values.tolist()"
      ],
      "metadata": {
        "id": "AxCLsYtXi-UK"
      },
      "execution_count": 31,
      "outputs": []
    },
    {
      "cell_type": "code",
      "source": [
        "spike_value = 1\n",
        "\n",
        "fig, ax = plt.subplots(figsize=(18, 4.5))  #괄호안에 figsize=(10,5)\n",
        "\n",
        "# Loop to plot raster for each trial\n",
        "for trial in range(len(wd2_list)):\n",
        "    spike_times = [i for i, x in enumerate(wd2_list[trial]) if x == spike_value]\n",
        "    ax.vlines(spike_times, trial - 0.5, trial+0.5, color='darkorange', linewidth=4)\n",
        "\n",
        "for trial2 in range(len(wd1_list)):\n",
        "    spike_times2 = [i for i, x in enumerate(wd1_list[trial2]) if x == spike_value]\n",
        "    ax.vlines(spike_times2, len(wd2_list)+trial2 - 0.5, len(wd2_list)+trial2+0.5, color='forestgreen', linewidth=4)\n",
        "\n",
        "for trial3 in range(len(wd0_list)):\n",
        "    spike_times3 = [i for i, x in enumerate(wd0_list[trial3]) if x == spike_value]\n",
        "    ax.vlines(spike_times3, len(wd2_list)+len(wd1_list)+trial3 - 0.5, len(wd2_list)+len(wd1_list)+trial3+0.5, color='dodgerblue', linewidth=4)\n",
        "\n",
        "plt.hlines(len(wd2_list), 0, 864, color='black', linestyle='solid', linewidth=0.8)\n",
        "plt.hlines(len(wd2_list)+len(wd1_list), 0, 864, color='black', linestyle='solid', linewidth=0.8)\n",
        "\n",
        "plt.vlines(144, -200, 31500, color='black', linestyle='solid', linewidth=0.8)\n",
        "plt.vlines(144*2, -200, 31500, color='black', linestyle='solid', linewidth=0.8)\n",
        "plt.vlines(144*3, -200, 31500, color='black', linestyle='solid', linewidth=0.8)\n",
        "plt.vlines(144*4, -200, 31500, color='black', linestyle='solid', linewidth=0.8)\n",
        "plt.vlines(144*5, -200, 31500, color='black', linestyle='solid', linewidth=0.8)\n",
        "\n",
        "ax.set_xlim([0, 864])\n",
        "ax.set_ylim([-200, 31500])\n",
        "\n",
        "ax.xaxis.grid(False)\n",
        "ax.yaxis.grid(False)\n",
        "plt.show()"
      ],
      "metadata": {
        "colab": {
          "base_uri": "https://localhost:8080/",
          "height": 293
        },
        "id": "1QXNnbmNhVrO",
        "outputId": "d57d8046-a057-42be-b63a-3a0f75e05034"
      },
      "execution_count": 34,
      "outputs": [
        {
          "output_type": "display_data",
          "data": {
            "text/plain": [
              "<Figure size 1296x324 with 1 Axes>"
            ],
            "image/png": "[encoded data removed]"
          },
          "metadata": {
            "needs_background": "light"
          }
        }
      ]
    }
  ]
}