{
  "nbformat": 4,
  "nbformat_minor": 0,
  "metadata": {
    "colab": {
      "provenance": [],
      "collapsed_sections": [],
      "authorship_tag": "ABX9TyPWilibHLE5blgZpgHGXMTO",
      "include_colab_link": true
    },
    "kernelspec": {
      "name": "python3",
      "display_name": "Python 3"
    },
    "language_info": {
      "name": "python"
    }
  },
  "cells": [
    {
      "cell_type": "markdown",
      "metadata": {
        "id": "view-in-github",
        "colab_type": "text"
      },
      "source": [
        "<a href=\"https://colab.research.google.com/github/mini3713/mini3713/blob/main/%EB%A8%B8%EC%8B%A0%EB%9F%AC%EB%8B%9D%2B%EB%94%A5%EB%9F%AC%EB%8B%9D/XGBoost_04_From_Gradient_Boosting_to_XGBoost.ipynb\" target=\"_parent\"><img src=\"https://colab.research.google.com/assets/colab-badge.svg\" alt=\"Open In Colab\"/></a>"
      ]
    },
    {
      "cell_type": "markdown",
      "source": [
        "**4 그레이디언트 부스팅에서 XGBoost까지**\n",
        "=======================\n",
        "그레이디언트 부스팅의 작동방식을 이해하고 실습"
      ],
      "metadata": {
        "id": "SyyBcG5hUmS7"
      }
    },
    {
      "cell_type": "markdown",
      "source": [
        "4.1 배깅에서 부스팅까지\n",
        "====================\n",
        "> * 랜덤포레스트와 다르게 **부스팅**은 개별트리의 실수로부터 학습 \n",
        "> * 이전 트리의 오차를 기반으로 새로운 트리를 훈련"
      ],
      "metadata": {
        "id": "VXIqSF2rl6iC"
      }
    },
    {
      "cell_type": "markdown",
      "source": [
        "> ### 에이다부스트 소개\n",
        "> * 초기 부스팅 모델이며, 새로운 트리가 이전 트리의 오차를 기반으로 가중치를 조정 \n",
        "> * 오류 샘플의 가중치를 높여 잘못된 예측에 더 많은 주의를 기울임 \n",
        "> * **약한 학습기**인 기반 모델을 수백번의 반복을 통해 **강력한 학습기**로 만들어줌 \n",
        ">  * 기반모델이 너무 강하면 학습과정이 제한되어 부스팅 모델의 전략을 약화시킴 "
      ],
      "metadata": {
        "id": "jr1WVnUCmq6H"
      }
    },
    {
      "cell_type": "markdown",
      "source": [
        "> ### 그레이디언트 부스팅의 특징\n",
        "> * 에이다부스트와는 다르게 이전 트리의 예측 오차를 기반으로 **완전히 새로운 트리**를 훈련\n",
        "> * 새로운 트리는 올바르게 예측된 값에는 영향을 받지 않음 \n",
        "> * 오차를 계산하기 위해 예측과 실제값 사이의 차이인 **잔차**(residual)를 활용\n",
        "> * 그레이디언트 부스팅은 각 트리 예측 값을 더해서 모델 평가에 사용 "
      ],
      "metadata": {
        "id": "bUuRYaZcoZph"
      }
    },
    {
      "cell_type": "markdown",
      "source": [
        "4.2 그레이디언트 부스팅 작동 방식\n",
        "===================="
      ],
      "metadata": {
        "id": "VTE_8iv3rlr7"
      }
    },
    {
      "cell_type": "markdown",
      "source": [
        "> ### 잔차\n",
        "> * 통계학에서는 일반적으로 선형 회귀모델이 데이터에 얼마나 잘 맞는지 평가하기 위해 사용됨 \n",
        "> * 선형회귀의 목적은 잔차의 제곱을 최소화하는 것 \n",
        "> * 그레이디언트 부스팅 알고리즘을 직접 구현해보기 위해 각 트리의 잔차를 계산하고 이 잔차에 새로운 모델을 훈련"
      ],
      "metadata": {
        "id": "Z5hNvaiHr_jT"
      }
    },
    {
      "cell_type": "markdown",
      "source": [
        "![image.png](data:image/png;base64,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)\n",
        "\n",
        "출처 : https://blog.naver.com/PostView.nhn?blogId=winddori2002&logNo=221676654945"
      ],
      "metadata": {
        "id": "r_DXIE0gsy0n"
      }
    },
    {
      "cell_type": "markdown",
      "source": [
        "> ### 결정트리로 그레이디언트 부스팅 모델 만들기"
      ],
      "metadata": {
        "id": "bVf3ZBCLtgIg"
      }
    },
    {
      "cell_type": "code",
      "execution_count": 2,
      "metadata": {
        "id": "CcxRIkKeTpki"
      },
      "outputs": [],
      "source": [
        "# 자전거 대여 데이터셋 활용\n",
        "import numpy as np\n",
        "import pandas as pd\n",
        "import warnings\n",
        "warnings.filterwarnings('ignore')\n",
        "import xgboost as xgb"
      ]
    },
    {
      "cell_type": "code",
      "source": [
        "df_bikes = pd.read_csv('bike_rentals_cleaned.csv')\n",
        "df_bikes.head()"
      ],
      "metadata": {
        "colab": {
          "base_uri": "https://localhost:8080/",
          "height": 206
        },
        "id": "CDzcCSYpuOjM",
        "outputId": "5fd4376b-ac33-44e5-a51f-cb85089f77a3"
      },
      "execution_count": 3,
      "outputs": [
        {
          "output_type": "execute_result",
          "data": {
            "text/plain": [
              "   instant  season   yr  mnth  holiday  weekday  workingday  weathersit  \\\n",
              "0        1     1.0  0.0   1.0      0.0      6.0         0.0           2   \n",
              "1        2     1.0  0.0   1.0      0.0      0.0         0.0           2   \n",
              "2        3     1.0  0.0   1.0      0.0      1.0         1.0           1   \n",
              "3        4     1.0  0.0   1.0      0.0      2.0         1.0           1   \n",
              "4        5     1.0  0.0   1.0      0.0      3.0         1.0           1   \n",
              "\n",
              "       temp     atemp       hum  windspeed   cnt  \n",
              "0  0.344167  0.363625  0.805833   0.160446   985  \n",
              "1  0.363478  0.353739  0.696087   0.248539   801  \n",
              "2  0.196364  0.189405  0.437273   0.248309  1349  \n",
              "3  0.200000  0.212122  0.590435   0.160296  1562  \n",
              "4  0.226957  0.229270  0.436957   0.186900  1600  "
            ],
            "text/html": [
              "\n",
              "  <div id=\"df-fab43e54-d03f-4d24-b80f-22b292fbaaf2\">\n",
              "    <div class=\"colab-df-container\">\n",
              "      <div>\n",
              "<style scoped>\n",
              "    .dataframe tbody tr th:only-of-type {\n",
              "        vertical-align: middle;\n",
              "    }\n",
              "\n",
              "    .dataframe tbody tr th {\n",
              "        vertical-align: top;\n",
              "    }\n",
              "\n",
              "    .dataframe thead th {\n",
              "        text-align: right;\n",
              "    }\n",
              "</style>\n",
              "<table border=\"1\" class=\"dataframe\">\n",
              "  <thead>\n",
              "    <tr style=\"text-align: right;\">\n",
              "      <th></th>\n",
              "      <th>instant</th>\n",
              "      <th>season</th>\n",
              "      <th>yr</th>\n",
              "      <th>mnth</th>\n",
              "      <th>holiday</th>\n",
              "      <th>weekday</th>\n",
              "      <th>workingday</th>\n",
              "      <th>weathersit</th>\n",
              "      <th>temp</th>\n",
              "      <th>atemp</th>\n",
              "      <th>hum</th>\n",
              "      <th>windspeed</th>\n",
              "      <th>cnt</th>\n",
              "    </tr>\n",
              "  </thead>\n",
              "  <tbody>\n",
              "    <tr>\n",
              "      <th>0</th>\n",
              "      <td>1</td>\n",
              "      <td>1.0</td>\n",
              "      <td>0.0</td>\n",
              "      <td>1.0</td>\n",
              "      <td>0.0</td>\n",
              "      <td>6.0</td>\n",
              "      <td>0.0</td>\n",
              "      <td>2</td>\n",
              "      <td>0.344167</td>\n",
              "      <td>0.363625</td>\n",
              "      <td>0.805833</td>\n",
              "      <td>0.160446</td>\n",
              "      <td>985</td>\n",
              "    </tr>\n",
              "    <tr>\n",
              "      <th>1</th>\n",
              "      <td>2</td>\n",
              "      <td>1.0</td>\n",
              "      <td>0.0</td>\n",
              "      <td>1.0</td>\n",
              "      <td>0.0</td>\n",
              "      <td>0.0</td>\n",
              "      <td>0.0</td>\n",
              "      <td>2</td>\n",
              "      <td>0.363478</td>\n",
              "      <td>0.353739</td>\n",
              "      <td>0.696087</td>\n",
              "      <td>0.248539</td>\n",
              "      <td>801</td>\n",
              "    </tr>\n",
              "    <tr>\n",
              "      <th>2</th>\n",
              "      <td>3</td>\n",
              "      <td>1.0</td>\n",
              "      <td>0.0</td>\n",
              "      <td>1.0</td>\n",
              "      <td>0.0</td>\n",
              "      <td>1.0</td>\n",
              "      <td>1.0</td>\n",
              "      <td>1</td>\n",
              "      <td>0.196364</td>\n",
              "      <td>0.189405</td>\n",
              "      <td>0.437273</td>\n",
              "      <td>0.248309</td>\n",
              "      <td>1349</td>\n",
              "    </tr>\n",
              "    <tr>\n",
              "      <th>3</th>\n",
              "      <td>4</td>\n",
              "      <td>1.0</td>\n",
              "      <td>0.0</td>\n",
              "      <td>1.0</td>\n",
              "      <td>0.0</td>\n",
              "      <td>2.0</td>\n",
              "      <td>1.0</td>\n",
              "      <td>1</td>\n",
              "      <td>0.200000</td>\n",
              "      <td>0.212122</td>\n",
              "      <td>0.590435</td>\n",
              "      <td>0.160296</td>\n",
              "      <td>1562</td>\n",
              "    </tr>\n",
              "    <tr>\n",
              "      <th>4</th>\n",
              "      <td>5</td>\n",
              "      <td>1.0</td>\n",
              "      <td>0.0</td>\n",
              "      <td>1.0</td>\n",
              "      <td>0.0</td>\n",
              "      <td>3.0</td>\n",
              "      <td>1.0</td>\n",
              "      <td>1</td>\n",
              "      <td>0.226957</td>\n",
              "      <td>0.229270</td>\n",
              "      <td>0.436957</td>\n",
              "      <td>0.186900</td>\n",
              "      <td>1600</td>\n",
              "    </tr>\n",
              "  </tbody>\n",
              "</table>\n",
              "</div>\n",
              "      <button class=\"colab-df-convert\" onclick=\"convertToInteractive('df-fab43e54-d03f-4d24-b80f-22b292fbaaf2')\"\n",
              "              title=\"Convert this dataframe to an interactive table.\"\n",
              "              style=\"display:none;\">\n",
              "        \n",
              "  <svg xmlns=\"http://www.w3.org/2000/svg\" height=\"24px\"viewBox=\"0 0 24 24\"\n",
              "       width=\"24px\">\n",
              "    <path d=\"M0 0h24v24H0V0z\" fill=\"none\"/>\n",
              "    <path d=\"M18.56 5.44l.94 2.06.94-2.06 2.06-.94-2.06-.94-.94-2.06-.94 2.06-2.06.94zm-11 1L8.5 8.5l.94-2.06 2.06-.94-2.06-.94L8.5 2.5l-.94 2.06-2.06.94zm10 10l.94 2.06.94-2.06 2.06-.94-2.06-.94-.94-2.06-.94 2.06-2.06.94z\"/><path d=\"M17.41 7.96l-1.37-1.37c-.4-.4-.92-.59-1.43-.59-.52 0-1.04.2-1.43.59L10.3 9.45l-7.72 7.72c-.78.78-.78 2.05 0 2.83L4 21.41c.39.39.9.59 1.41.59.51 0 1.02-.2 1.41-.59l7.78-7.78 2.81-2.81c.8-.78.8-2.07 0-2.86zM5.41 20L4 18.59l7.72-7.72 1.47 1.35L5.41 20z\"/>\n",
              "  </svg>\n",
              "      </button>\n",
              "      \n",
              "  <style>\n",
              "    .colab-df-container {\n",
              "      display:flex;\n",
              "      flex-wrap:wrap;\n",
              "      gap: 12px;\n",
              "    }\n",
              "\n",
              "    .colab-df-convert {\n",
              "      background-color: #E8F0FE;\n",
              "      border: none;\n",
              "      border-radius: 50%;\n",
              "      cursor: pointer;\n",
              "      display: none;\n",
              "      fill: #1967D2;\n",
              "      height: 32px;\n",
              "      padding: 0 0 0 0;\n",
              "      width: 32px;\n",
              "    }\n",
              "\n",
              "    .colab-df-convert:hover {\n",
              "      background-color: #E2EBFA;\n",
              "      box-shadow: 0px 1px 2px rgba(60, 64, 67, 0.3), 0px 1px 3px 1px rgba(60, 64, 67, 0.15);\n",
              "      fill: #174EA6;\n",
              "    }\n",
              "\n",
              "    [theme=dark] .colab-df-convert {\n",
              "      background-color: #3B4455;\n",
              "      fill: #D2E3FC;\n",
              "    }\n",
              "\n",
              "    [theme=dark] .colab-df-convert:hover {\n",
              "      background-color: #434B5C;\n",
              "      box-shadow: 0px 1px 3px 1px rgba(0, 0, 0, 0.15);\n",
              "      filter: drop-shadow(0px 1px 2px rgba(0, 0, 0, 0.3));\n",
              "      fill: #FFFFFF;\n",
              "    }\n",
              "  </style>\n",
              "\n",
              "      <script>\n",
              "        const buttonEl =\n",
              "          document.querySelector('#df-fab43e54-d03f-4d24-b80f-22b292fbaaf2 button.colab-df-convert');\n",
              "        buttonEl.style.display =\n",
              "          google.colab.kernel.accessAllowed ? 'block' : 'none';\n",
              "\n",
              "        async function convertToInteractive(key) {\n",
              "          const element = document.querySelector('#df-fab43e54-d03f-4d24-b80f-22b292fbaaf2');\n",
              "          const dataTable =\n",
              "            await google.colab.kernel.invokeFunction('convertToInteractive',\n",
              "                                                     [key], {});\n",
              "          if (!dataTable) return;\n",
              "\n",
              "          const docLinkHtml = 'Like what you see? Visit the ' +\n",
              "            '<a target=\"_blank\" href=https://colab.research.google.com/notebooks/data_table.ipynb>data table notebook</a>'\n",
              "            + ' to learn more about interactive tables.';\n",
              "          element.innerHTML = '';\n",
              "          dataTable['output_type'] = 'display_data';\n",
              "          await google.colab.output.renderOutput(dataTable, element);\n",
              "          const docLink = document.createElement('div');\n",
              "          docLink.innerHTML = docLinkHtml;\n",
              "          element.appendChild(docLink);\n",
              "        }\n",
              "      </script>\n",
              "    </div>\n",
              "  </div>\n",
              "  "
            ]
          },
          "metadata": {},
          "execution_count": 3
        }
      ]
    },
    {
      "cell_type": "code",
      "source": [
        "X_bikes = df_bikes.iloc[:,:-1]\n",
        "y_bikes = df_bikes.iloc[:, -1]\n",
        "from sklearn.model_selection import train_test_split\n",
        "X_train, X_test, y_train, y_test = train_test_split(X_bikes, y_bikes, random_state=2)"
      ],
      "metadata": {
        "id": "EDmMr5Nnu9KI"
      },
      "execution_count": 5,
      "outputs": []
    },
    {
      "cell_type": "code",
      "source": [
        "from sklearn.tree import DecisionTreeRegressor\n",
        "tree_1 = DecisionTreeRegressor(max_depth=2, random_state=2)\n",
        "tree_1.fit(X_train, y_train)"
      ],
      "metadata": {
        "colab": {
          "base_uri": "https://localhost:8080/"
        },
        "id": "a4RSNpoPvXJf",
        "outputId": "31576e4d-2e0e-4c7f-a493-6064da84fa5e"
      },
      "execution_count": 6,
      "outputs": [
        {
          "output_type": "execute_result",
          "data": {
            "text/plain": [
              "DecisionTreeRegressor(max_depth=2, random_state=2)"
            ]
          },
          "metadata": {},
          "execution_count": 6
        }
      ]
    },
    {
      "cell_type": "code",
      "source": [
        "# 훈련세트에 대한 예측을 생성\n",
        "# 잔차를 계산하기 위해서, 훈련단계에서 예측과 타깃을 비교해야 함 \n",
        "# 모델의 테스트 단계는 모든 트리를 구성한 후 마지막 순서 \n",
        "y_train_pred = tree_1.predict(X_train)\n",
        "# 잔차 계산\n",
        "y2_train = y_train - y_train_pred"
      ],
      "metadata": {
        "id": "T8DYQD1HwKmF"
      },
      "execution_count": 7,
      "outputs": []
    },
    {
      "cell_type": "code",
      "source": [
        "# 잔차를 기반으로 새로운 트리를 훈련 \n",
        "tree_2 = DecisionTreeRegressor(max_depth=2, random_state=2)\n",
        "tree_2.fit(X_train, y2_train)"
      ],
      "metadata": {
        "colab": {
          "base_uri": "https://localhost:8080/"
        },
        "id": "GiUQpB3kxNcQ",
        "outputId": "de6db56a-b260-46a2-9b9a-0105428ab2ea"
      },
      "execution_count": 8,
      "outputs": [
        {
          "output_type": "execute_result",
          "data": {
            "text/plain": [
              "DecisionTreeRegressor(max_depth=2, random_state=2)"
            ]
          },
          "metadata": {},
          "execution_count": 8
        }
      ]
    },
    {
      "cell_type": "code",
      "source": [
        "# 앞단계를 반복\n",
        "y2_train_pred = tree_2.predict(X_train)\n",
        "y3_train = y2_train - y2_train_pred\n",
        "tree_3 = DecisionTreeRegressor(max_depth=2, random_state=2)\n",
        "tree_3.fit(X_train, y3_train)\n",
        "# 강력한 학습기를 만들기 위해, 이 과정이 수십, 수백, 수천개의 트리까지 계속될 수 있음 "
      ],
      "metadata": {
        "colab": {
          "base_uri": "https://localhost:8080/"
        },
        "id": "Ku5-y6K8xnAW",
        "outputId": "01bcb090-54e8-4c26-e686-d5e1fed4d37a"
      },
      "execution_count": 9,
      "outputs": [
        {
          "output_type": "execute_result",
          "data": {
            "text/plain": [
              "DecisionTreeRegressor(max_depth=2, random_state=2)"
            ]
          },
          "metadata": {},
          "execution_count": 9
        }
      ]
    },
    {
      "cell_type": "code",
      "source": [
        "y1_pred = tree_1.predict(X_test)\n",
        "y2_pred = tree_2.predict(X_test)\n",
        "y3_pred = tree_3.predict(X_test)\n",
        "# 예측을 합해준다\n",
        "# 잔차는 음수값도 존재하기 때문에 예측값이 음수값이 될 수 있다\n",
        "# 따라서 예측을 모두 더하면 타깃에 더 가까운 결과를 만들게 된다 \n",
        "y_pred = y1_pred + y2_pred + y3_pred\n",
        "# 평균 제곱근 오차(RMSE)를 계산\n",
        "from sklearn.metrics import mean_squared_error as MSE\n",
        "MSE(y_test, y_pred)**0.5"
      ],
      "metadata": {
        "colab": {
          "base_uri": "https://localhost:8080/"
        },
        "id": "F-GWbGXPyl2R",
        "outputId": "df186ee2-4374-417f-a5d6-e8e1deb78ffa"
      },
      "execution_count": 11,
      "outputs": [
        {
          "output_type": "execute_result",
          "data": {
            "text/plain": [
              "911.0479538776444"
            ]
          },
          "metadata": {},
          "execution_count": 11
        }
      ]
    },
    {
      "cell_type": "markdown",
      "source": [
        "![그림1.png](data:image/png;base64,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)"
      ],
      "metadata": {
        "id": "tlb6B1GEPavO"
      }
    },
    {
      "cell_type": "markdown",
      "source": [
        "> ### 사이킷런으로 그레이디언트 부스팅 모델 만들기"
      ],
      "metadata": {
        "id": "fVmVBrWS8IBV"
      }
    },
    {
      "cell_type": "code",
      "source": [
        "from sklearn.ensemble import GradientBoostingRegressor\n",
        "gbr = GradientBoostingRegressor(max_depth=2, n_estimators=3, random_state=2, learning_rate=1.0)"
      ],
      "metadata": {
        "id": "3-sRS0QK5_1w"
      },
      "execution_count": 18,
      "outputs": []
    },
    {
      "cell_type": "code",
      "source": [
        "gbr.fit(X_train, y_train)\n",
        "y_pred = gbr.predict(X_test)\n",
        "MSE(y_test, y_pred)**0.5"
      ],
      "metadata": {
        "colab": {
          "base_uri": "https://localhost:8080/"
        },
        "id": "U0LIAEgB8qMy",
        "outputId": "2727b193-e514-49f1-9a21-886f14d75133"
      },
      "execution_count": 19,
      "outputs": [
        {
          "output_type": "execute_result",
          "data": {
            "text/plain": [
              "911.0479538776439"
            ]
          },
          "metadata": {},
          "execution_count": 19
        }
      ]
    },
    {
      "cell_type": "code",
      "source": [
        "# 트리 개수를 30개로 증가\n",
        "gbr = GradientBoostingRegressor(max_depth=2, n_estimators=30, random_state=2, learning_rate=1.0)\n",
        "gbr.fit(X_train, y_train)\n",
        "y_pred = gbr.predict(X_test)\n",
        "MSE(y_test, y_pred)**0.5"
      ],
      "metadata": {
        "colab": {
          "base_uri": "https://localhost:8080/"
        },
        "id": "W6omEcX49FIN",
        "outputId": "55d72946-a1e1-4163-fa44-45c5c3b95ee5"
      },
      "execution_count": 20,
      "outputs": [
        {
          "output_type": "execute_result",
          "data": {
            "text/plain": [
              "857.1072323426944"
            ]
          },
          "metadata": {},
          "execution_count": 20
        }
      ]
    },
    {
      "cell_type": "code",
      "source": [
        "# 트리 개수를 300개로 증가\n",
        "gbr = GradientBoostingRegressor(max_depth=2, n_estimators=300, random_state=2, learning_rate=1.0)\n",
        "gbr.fit(X_train, y_train)\n",
        "y_pred = gbr.predict(X_test)\n",
        "MSE(y_test, y_pred)**0.5"
      ],
      "metadata": {
        "colab": {
          "base_uri": "https://localhost:8080/"
        },
        "id": "NhBx1x4v9bCa",
        "outputId": "40d1c068-875e-4fc1-8944-4d134e4222fd"
      },
      "execution_count": 21,
      "outputs": [
        {
          "output_type": "execute_result",
          "data": {
            "text/plain": [
              "936.3617413678853"
            ]
          },
          "metadata": {},
          "execution_count": 21
        }
      ]
    },
    {
      "cell_type": "code",
      "source": [
        "# learning_rate 매개변수를 제거하면?\n",
        "gbr = GradientBoostingRegressor(max_depth=2, n_estimators=300, random_state=2)\n",
        "gbr.fit(X_train, y_train)\n",
        "y_pred = gbr.predict(X_test)\n",
        "MSE(y_test, y_pred)**0.5"
      ],
      "metadata": {
        "colab": {
          "base_uri": "https://localhost:8080/"
        },
        "id": "Mbnhhxa59h69",
        "outputId": "e62c80f3-5bce-4c36-9624-45320887523f"
      },
      "execution_count": 22,
      "outputs": [
        {
          "output_type": "execute_result",
          "data": {
            "text/plain": [
              "653.7456840231495"
            ]
          },
          "metadata": {},
          "execution_count": 22
        }
      ]
    },
    {
      "cell_type": "code",
      "source": [],
      "metadata": {
        "id": "UxGE45oY9tW6"
      },
      "execution_count": null,
      "outputs": []
    }
  ]
}