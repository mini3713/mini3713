{
  "nbformat": 4,
  "nbformat_minor": 0,
  "metadata": {
    "colab": {
      "provenance": [],
      "collapsed_sections": [],
      "authorship_tag": "ABX9TyNR3ChD3c6WlbuRKt3vNsZR",
      "include_colab_link": true
    },
    "kernelspec": {
      "name": "python3",
      "display_name": "Python 3"
    },
    "language_info": {
      "name": "python"
    }
  },
  "cells": [
    {
      "cell_type": "markdown",
      "metadata": {
        "id": "view-in-github",
        "colab_type": "text"
      },
      "source": [
        "<a href=\"https://colab.research.google.com/github/mini3713/mini3713/blob/main/%EB%A8%B8%EC%8B%A0%EB%9F%AC%EB%8B%9D%2B%EB%94%A5%EB%9F%AC%EB%8B%9D/XGBoost_08_XGBoost_Alternative_Base_Learners.ipynb\" target=\"_parent\"><img src=\"https://colab.research.google.com/assets/colab-badge.svg\" alt=\"Open In Colab\"/></a>"
      ]
    },
    {
      "cell_type": "markdown",
      "source": [
        "**8 XGBoost 기본 학습기**\n",
        "================="
      ],
      "metadata": {
        "id": "VV6zTATs7UIu"
      }
    },
    {
      "cell_type": "markdown",
      "source": [
        "8.1 여러가지 기본 학습기\n",
        "====================\n",
        "기본 학습기는 XGBoost가 앙상블 모델을 만드는데 사용하는 머신러닝 모델 "
      ],
      "metadata": {
        "id": "M9x8MGaV7UBv"
      }
    },
    {
      "cell_type": "markdown",
      "source": [
        "8.2 gblinear 적용하기\n",
        "====================\n",
        "선형모델에 잘 맞는 데이터셋일 경우 사용하는 기본 학습기"
      ],
      "metadata": {
        "id": "LHPAqlInIIa3"
      }
    },
    {
      "cell_type": "markdown",
      "source": [
        "> ### 선형 데이터셋에 적용하기"
      ],
      "metadata": {
        "id": "3oj1uNJJIkiP"
      }
    },
    {
      "cell_type": "code",
      "execution_count": null,
      "metadata": {
        "id": "snDFvqqN6kjn"
      },
      "outputs": [],
      "source": [
        "import pandas as pd\n",
        "import numpy as np\n",
        "from sklearn.datasets import load_diabetes\n",
        "from sklearn.model_selection import cross_val_score\n",
        "from xgboost import XGBRegressor, XGBClassifier, XGBRFRegressor, XGBRFClassifier\n",
        "from sklearn.ensemble import RandomForestRegressor, RandomForestClassifier\n",
        "from sklearn.linear_model import LinearRegression, LogisticRegression\n",
        "from sklearn.linear_model import Lasso, Ridge\n",
        "from sklearn.model_selection import GridSearchCV\n",
        "from sklearn.model_selection import KFold, StratifiedKFold\n",
        "from sklearn.metrics import mean_squared_error as MSE"
      ]
    },
    {
      "cell_type": "code",
      "source": [
        "X = np.arange(1, 100)\n",
        "np.random.seed(2)\n",
        "y = []\n",
        "for i in X:\n",
        "  y.append(i*np.random.uniform(-0.2, 0.2))\n",
        "y = np.array(y)\n",
        "X = X.reshape(X.shape[0], 1)\n",
        "y = y.reshape(y.shape[0], 1)"
      ],
      "metadata": {
        "id": "RWflrItkOyy4"
      },
      "execution_count": null,
      "outputs": []
    },
    {
      "cell_type": "code",
      "source": [
        "import matplotlib.pyplot as plt\n",
        "xgbr = XGBRegressor(booster='gblinear')\n",
        "xgbr.fit(X, y)\n",
        "plt.scatter(X, y)\n",
        "plt.plot((0,99), (xgbr.intercept_, xgbr.coef_*99+xgbr.intercept_))\n",
        "plt.show()"
      ],
      "metadata": {
        "colab": {
          "base_uri": "https://localhost:8080/",
          "height": 283
        },
        "id": "QiEc0eglRHY4",
        "outputId": "7c48588b-c8b4-4ef0-899e-b89ac278b57f"
      },
      "execution_count": null,
      "outputs": [
        {
          "output_type": "stream",
          "name": "stdout",
          "text": [
            "[08:18:34] WARNING: /workspace/src/objective/regression_obj.cu:152: reg:linear is now deprecated in favor of reg:squarederror.\n"
          ]
        },
        {
          "output_type": "display_data",
          "data": {
            "text/plain": [
              "<Figure size 432x288 with 1 Axes>"
            ],
            "image/png": "[encoded data removed]"
          },
          "metadata": {
            "needs_background": "light"
          }
        }
      ]
    },
    {
      "cell_type": "code",
      "source": [
        "# 각 폴드 점수의 평균을 반환하는 함수 생성\n",
        "def regression_model(model):\n",
        "  scores = cross_val_score(model, X, y, scoring='neg_mean_squared_error', cv=kfold)\n",
        "  rmse = (-scores)**0.5\n",
        "  return rmse.mean()"
      ],
      "metadata": {
        "id": "Qut7EgqYLAeX"
      },
      "execution_count": null,
      "outputs": []
    },
    {
      "cell_type": "code",
      "source": [
        "regression_model(XGBRegressor(booster='gblinear'))"
      ],
      "metadata": {
        "colab": {
          "base_uri": "https://localhost:8080/"
        },
        "id": "-sYMxXBXPy1W",
        "outputId": "79abc773-0593-4381-8fc7-25e64034fd50"
      },
      "execution_count": null,
      "outputs": [
        {
          "output_type": "stream",
          "name": "stdout",
          "text": [
            "[08:11:18] WARNING: /workspace/src/objective/regression_obj.cu:152: reg:linear is now deprecated in favor of reg:squarederror.\n",
            "[08:11:18] WARNING: /workspace/src/objective/regression_obj.cu:152: reg:linear is now deprecated in favor of reg:squarederror.\n",
            "[08:11:18] WARNING: /workspace/src/objective/regression_obj.cu:152: reg:linear is now deprecated in favor of reg:squarederror.\n",
            "[08:11:18] WARNING: /workspace/src/objective/regression_obj.cu:152: reg:linear is now deprecated in favor of reg:squarederror.\n",
            "[08:11:18] WARNING: /workspace/src/objective/regression_obj.cu:152: reg:linear is now deprecated in favor of reg:squarederror.\n"
          ]
        },
        {
          "output_type": "execute_result",
          "data": {
            "text/plain": [
              "6.208537305892296"
            ]
          },
          "metadata": {},
          "execution_count": 21
        }
      ]
    },
    {
      "cell_type": "code",
      "source": [
        "regression_model(XGBRegressor(booster='gbtree'))"
      ],
      "metadata": {
        "colab": {
          "base_uri": "https://localhost:8080/"
        },
        "id": "Va05kpybP3e_",
        "outputId": "9f876499-6050-4bdf-9a9d-289c98cceb59"
      },
      "execution_count": null,
      "outputs": [
        {
          "output_type": "stream",
          "name": "stdout",
          "text": [
            "[08:11:41] WARNING: /workspace/src/objective/regression_obj.cu:152: reg:linear is now deprecated in favor of reg:squarederror.\n",
            "[08:11:41] WARNING: /workspace/src/objective/regression_obj.cu:152: reg:linear is now deprecated in favor of reg:squarederror.\n",
            "[08:11:41] WARNING: /workspace/src/objective/regression_obj.cu:152: reg:linear is now deprecated in favor of reg:squarederror.\n",
            "[08:11:41] WARNING: /workspace/src/objective/regression_obj.cu:152: reg:linear is now deprecated in favor of reg:squarederror.\n",
            "[08:11:41] WARNING: /workspace/src/objective/regression_obj.cu:152: reg:linear is now deprecated in favor of reg:squarederror.\n"
          ]
        },
        {
          "output_type": "execute_result",
          "data": {
            "text/plain": [
              "7.936201694808057"
            ]
          },
          "metadata": {},
          "execution_count": 22
        }
      ]
    },
    {
      "cell_type": "code",
      "source": [
        "regression_model(LinearRegression())"
      ],
      "metadata": {
        "colab": {
          "base_uri": "https://localhost:8080/"
        },
        "id": "gUAHXAisP9EQ",
        "outputId": "31cf09e9-95dc-48fe-8338-c1db4491669f"
      },
      "execution_count": null,
      "outputs": [
        {
          "output_type": "execute_result",
          "data": {
            "text/plain": [
              "6.214962315808842"
            ]
          },
          "metadata": {},
          "execution_count": 23
        }
      ]
    },
    {
      "cell_type": "markdown",
      "source": [
        "> * gblinear는 강력한 옵션이지만, 선형 모델이 트리 기반 모델보다 더 높은 성능을 낼 수 있다는 확신이 있을때만 사용해야한다."
      ],
      "metadata": {
        "id": "pAiAsNBuSsWZ"
      }
    },
    {
      "cell_type": "markdown",
      "source": [
        "8.3 dart 비교하기\n",
        "====================\n",
        "dart 기본학습기는 그레이디언트 부스팅 트리모델을 사용하기 때문에 gbtree와 비슷하다  \n",
        "하지만 부스팅 단계마다 트리를 삭제(drop out)하는것이 주요한 차이점이다"
      ],
      "metadata": {
        "id": "X5DOUiz8S5Fv"
      }
    },
    {
      "cell_type": "markdown",
      "source": [
        "> ### dart를 사용한 XGBRegressor"
      ],
      "metadata": {
        "id": "dLrSm6boTflg"
      }
    },
    {
      "cell_type": "code",
      "source": [
        "# 사이킷런에 있는 당뇨병 데이터셋 사용 \n",
        "# 당뇨병환자 442명의 데이터로 구성된 회귀 데이터셋\n",
        "# 특성은 나이, 성별, BMI(체질량지수), BP(혈압), 혈청측정값 등으로 구성\n",
        "# 타깃은 1년 후 당뇨병의 진행 상태\n",
        "X, y = load_diabetes(return_X_y=True)"
      ],
      "metadata": {
        "id": "4hptkql2TjUY"
      },
      "execution_count": null,
      "outputs": []
    },
    {
      "cell_type": "code",
      "source": [
        "regression_model(XGBRegressor(booster='dart', rate_drop=0.5))"
      ],
      "metadata": {
        "colab": {
          "base_uri": "https://localhost:8080/"
        },
        "id": "inKU5adSS4nf",
        "outputId": "a34bbde2-0247-4bad-9ab7-28c0b743e475"
      },
      "execution_count": null,
      "outputs": [
        {
          "output_type": "stream",
          "name": "stdout",
          "text": [
            "[08:30:45] WARNING: /workspace/src/objective/regression_obj.cu:152: reg:linear is now deprecated in favor of reg:squarederror.\n",
            "[08:30:45] WARNING: /workspace/src/objective/regression_obj.cu:152: reg:linear is now deprecated in favor of reg:squarederror.\n",
            "[08:30:45] WARNING: /workspace/src/objective/regression_obj.cu:152: reg:linear is now deprecated in favor of reg:squarederror.\n",
            "[08:30:45] WARNING: /workspace/src/objective/regression_obj.cu:152: reg:linear is now deprecated in favor of reg:squarederror.\n",
            "[08:30:45] WARNING: /workspace/src/objective/regression_obj.cu:152: reg:linear is now deprecated in favor of reg:squarederror.\n"
          ]
        },
        {
          "output_type": "execute_result",
          "data": {
            "text/plain": [
              "121.4539787207951"
            ]
          },
          "metadata": {},
          "execution_count": 29
        }
      ]
    },
    {
      "cell_type": "code",
      "source": [],
      "metadata": {
        "id": "pydTeTU1T0lo"
      },
      "execution_count": null,
      "outputs": []
    },
    {
      "cell_type": "code",
      "source": [],
      "metadata": {
        "id": "VhKGrIITQHMX"
      },
      "execution_count": null,
      "outputs": []
    }
  ]
}