{
  "nbformat": 4,
  "nbformat_minor": 0,
  "metadata": {
    "colab": {
      "provenance": [],
      "collapsed_sections": [],
      "toc_visible": true,
      "authorship_tag": "ABX9TyP/mvJkOysObFKYTTyz/V2c",
      "include_colab_link": true
    },
    "kernelspec": {
      "name": "python3",
      "display_name": "Python 3"
    },
    "language_info": {
      "name": "python"
    }
  },
  "cells": [
    {
      "cell_type": "markdown",
      "metadata": {
        "id": "view-in-github",
        "colab_type": "text"
      },
      "source": [
        "<a href=\"https://colab.research.google.com/github/mini3713/mini3713/blob/main/%EB%A8%B8%EC%8B%A0%EB%9F%AC%EB%8B%9D%2B%EB%94%A5%EB%9F%AC%EB%8B%9D/XGBoost_02_%EA%B2%B0%EC%A0%95%ED%8A%B8%EB%A6%AC.ipynb\" target=\"_parent\"><img src=\"https://colab.research.google.com/assets/colab-badge.svg\" alt=\"Open In Colab\"/></a>"
      ]
    },
    {
      "cell_type": "markdown",
      "source": [
        "**2 결정 트리**\n",
        "======================="
      ],
      "metadata": {
        "id": "vSMRXUCPUoWo"
      }
    },
    {
      "cell_type": "markdown",
      "source": [
        "2.1 결정트리 알고리즘\n",
        "====================\n",
        "> * 인구조사 데이터셋을 사용해 수득이 5만달려 이상인지 예측하는 결정트리를 실습"
      ],
      "metadata": {
        "id": "DcgnAdtwUrhQ"
      }
    },
    {
      "cell_type": "code",
      "execution_count": null,
      "metadata": {
        "id": "P7Wlv4n2S7_e"
      },
      "outputs": [],
      "source": [
        "import pandas as pd\n",
        "import numpy as np\n",
        "import warnings\n",
        "warnings.filterwarnings('ignore')"
      ]
    },
    {
      "cell_type": "code",
      "source": [
        "df_census = pd.read_csv('census_cleaned.csv')\n",
        "df_census.head()"
      ],
      "metadata": {
        "colab": {
          "base_uri": "https://localhost:8080/",
          "height": 352
        },
        "id": "6oOT71S8XV83",
        "outputId": "1b56c832-78e9-4f77-c351-ca7fbd4e236a"
      },
      "execution_count": null,
      "outputs": [
        {
          "output_type": "execute_result",
          "data": {
            "text/plain": [
              "   age  fnlwgt  education-num  capital-gain  capital-loss  hours-per-week  \\\n",
              "0   39   77516             13          2174             0              40   \n",
              "1   50   83311             13             0             0              13   \n",
              "2   38  215646              9             0             0              40   \n",
              "3   53  234721              7             0             0              40   \n",
              "4   28  338409             13             0             0              40   \n",
              "\n",
              "   workclass_ ?  workclass_ Federal-gov  workclass_ Local-gov  \\\n",
              "0             0                       0                     0   \n",
              "1             0                       0                     0   \n",
              "2             0                       0                     0   \n",
              "3             0                       0                     0   \n",
              "4             0                       0                     0   \n",
              "\n",
              "   workclass_ Never-worked  ...  native-country_ Puerto-Rico  \\\n",
              "0                        0  ...                            0   \n",
              "1                        0  ...                            0   \n",
              "2                        0  ...                            0   \n",
              "3                        0  ...                            0   \n",
              "4                        0  ...                            0   \n",
              "\n",
              "   native-country_ Scotland  native-country_ South  native-country_ Taiwan  \\\n",
              "0                         0                      0                       0   \n",
              "1                         0                      0                       0   \n",
              "2                         0                      0                       0   \n",
              "3                         0                      0                       0   \n",
              "4                         0                      0                       0   \n",
              "\n",
              "   native-country_ Thailand  native-country_ Trinadad&Tobago  \\\n",
              "0                         0                                0   \n",
              "1                         0                                0   \n",
              "2                         0                                0   \n",
              "3                         0                                0   \n",
              "4                         0                                0   \n",
              "\n",
              "   native-country_ United-States  native-country_ Vietnam  \\\n",
              "0                              1                        0   \n",
              "1                              1                        0   \n",
              "2                              1                        0   \n",
              "3                              1                        0   \n",
              "4                              0                        0   \n",
              "\n",
              "   native-country_ Yugoslavia  income_ >50K  \n",
              "0                           0             0  \n",
              "1                           0             0  \n",
              "2                           0             0  \n",
              "3                           0             0  \n",
              "4                           0             0  \n",
              "\n",
              "[5 rows x 93 columns]"
            ],
            "text/html": [
              "\n",
              "  <div id=\"df-d865494b-0966-498a-b61f-fb105b4b1195\">\n",
              "    <div class=\"colab-df-container\">\n",
              "      <div>\n",
              "<style scoped>\n",
              "    .dataframe tbody tr th:only-of-type {\n",
              "        vertical-align: middle;\n",
              "    }\n",
              "\n",
              "    .dataframe tbody tr th {\n",
              "        vertical-align: top;\n",
              "    }\n",
              "\n",
              "    .dataframe thead th {\n",
              "        text-align: right;\n",
              "    }\n",
              "</style>\n",
              "<table border=\"1\" class=\"dataframe\">\n",
              "  <thead>\n",
              "    <tr style=\"text-align: right;\">\n",
              "      <th></th>\n",
              "      <th>age</th>\n",
              "      <th>fnlwgt</th>\n",
              "      <th>education-num</th>\n",
              "      <th>capital-gain</th>\n",
              "      <th>capital-loss</th>\n",
              "      <th>hours-per-week</th>\n",
              "      <th>workclass_ ?</th>\n",
              "      <th>workclass_ Federal-gov</th>\n",
              "      <th>workclass_ Local-gov</th>\n",
              "      <th>workclass_ Never-worked</th>\n",
              "      <th>...</th>\n",
              "      <th>native-country_ Puerto-Rico</th>\n",
              "      <th>native-country_ Scotland</th>\n",
              "      <th>native-country_ South</th>\n",
              "      <th>native-country_ Taiwan</th>\n",
              "      <th>native-country_ Thailand</th>\n",
              "      <th>native-country_ Trinadad&amp;Tobago</th>\n",
              "      <th>native-country_ United-States</th>\n",
              "      <th>native-country_ Vietnam</th>\n",
              "      <th>native-country_ Yugoslavia</th>\n",
              "      <th>income_ &gt;50K</th>\n",
              "    </tr>\n",
              "  </thead>\n",
              "  <tbody>\n",
              "    <tr>\n",
              "      <th>0</th>\n",
              "      <td>39</td>\n",
              "      <td>77516</td>\n",
              "      <td>13</td>\n",
              "      <td>2174</td>\n",
              "      <td>0</td>\n",
              "      <td>40</td>\n",
              "      <td>0</td>\n",
              "      <td>0</td>\n",
              "      <td>0</td>\n",
              "      <td>0</td>\n",
              "      <td>...</td>\n",
              "      <td>0</td>\n",
              "      <td>0</td>\n",
              "      <td>0</td>\n",
              "      <td>0</td>\n",
              "      <td>0</td>\n",
              "      <td>0</td>\n",
              "      <td>1</td>\n",
              "      <td>0</td>\n",
              "      <td>0</td>\n",
              "      <td>0</td>\n",
              "    </tr>\n",
              "    <tr>\n",
              "      <th>1</th>\n",
              "      <td>50</td>\n",
              "      <td>83311</td>\n",
              "      <td>13</td>\n",
              "      <td>0</td>\n",
              "      <td>0</td>\n",
              "      <td>13</td>\n",
              "      <td>0</td>\n",
              "      <td>0</td>\n",
              "      <td>0</td>\n",
              "      <td>0</td>\n",
              "      <td>...</td>\n",
              "      <td>0</td>\n",
              "      <td>0</td>\n",
              "      <td>0</td>\n",
              "      <td>0</td>\n",
              "      <td>0</td>\n",
              "      <td>0</td>\n",
              "      <td>1</td>\n",
              "      <td>0</td>\n",
              "      <td>0</td>\n",
              "      <td>0</td>\n",
              "    </tr>\n",
              "    <tr>\n",
              "      <th>2</th>\n",
              "      <td>38</td>\n",
              "      <td>215646</td>\n",
              "      <td>9</td>\n",
              "      <td>0</td>\n",
              "      <td>0</td>\n",
              "      <td>40</td>\n",
              "      <td>0</td>\n",
              "      <td>0</td>\n",
              "      <td>0</td>\n",
              "      <td>0</td>\n",
              "      <td>...</td>\n",
              "      <td>0</td>\n",
              "      <td>0</td>\n",
              "      <td>0</td>\n",
              "      <td>0</td>\n",
              "      <td>0</td>\n",
              "      <td>0</td>\n",
              "      <td>1</td>\n",
              "      <td>0</td>\n",
              "      <td>0</td>\n",
              "      <td>0</td>\n",
              "    </tr>\n",
              "    <tr>\n",
              "      <th>3</th>\n",
              "      <td>53</td>\n",
              "      <td>234721</td>\n",
              "      <td>7</td>\n",
              "      <td>0</td>\n",
              "      <td>0</td>\n",
              "      <td>40</td>\n",
              "      <td>0</td>\n",
              "      <td>0</td>\n",
              "      <td>0</td>\n",
              "      <td>0</td>\n",
              "      <td>...</td>\n",
              "      <td>0</td>\n",
              "      <td>0</td>\n",
              "      <td>0</td>\n",
              "      <td>0</td>\n",
              "      <td>0</td>\n",
              "      <td>0</td>\n",
              "      <td>1</td>\n",
              "      <td>0</td>\n",
              "      <td>0</td>\n",
              "      <td>0</td>\n",
              "    </tr>\n",
              "    <tr>\n",
              "      <th>4</th>\n",
              "      <td>28</td>\n",
              "      <td>338409</td>\n",
              "      <td>13</td>\n",
              "      <td>0</td>\n",
              "      <td>0</td>\n",
              "      <td>40</td>\n",
              "      <td>0</td>\n",
              "      <td>0</td>\n",
              "      <td>0</td>\n",
              "      <td>0</td>\n",
              "      <td>...</td>\n",
              "      <td>0</td>\n",
              "      <td>0</td>\n",
              "      <td>0</td>\n",
              "      <td>0</td>\n",
              "      <td>0</td>\n",
              "      <td>0</td>\n",
              "      <td>0</td>\n",
              "      <td>0</td>\n",
              "      <td>0</td>\n",
              "      <td>0</td>\n",
              "    </tr>\n",
              "  </tbody>\n",
              "</table>\n",
              "<p>5 rows × 93 columns</p>\n",
              "</div>\n",
              "      <button class=\"colab-df-convert\" onclick=\"convertToInteractive('df-d865494b-0966-498a-b61f-fb105b4b1195')\"\n",
              "              title=\"Convert this dataframe to an interactive table.\"\n",
              "              style=\"display:none;\">\n",
              "        \n",
              "  <svg xmlns=\"http://www.w3.org/2000/svg\" height=\"24px\"viewBox=\"0 0 24 24\"\n",
              "       width=\"24px\">\n",
              "    <path d=\"M0 0h24v24H0V0z\" fill=\"none\"/>\n",
              "    <path d=\"M18.56 5.44l.94 2.06.94-2.06 2.06-.94-2.06-.94-.94-2.06-.94 2.06-2.06.94zm-11 1L8.5 8.5l.94-2.06 2.06-.94-2.06-.94L8.5 2.5l-.94 2.06-2.06.94zm10 10l.94 2.06.94-2.06 2.06-.94-2.06-.94-.94-2.06-.94 2.06-2.06.94z\"/><path d=\"M17.41 7.96l-1.37-1.37c-.4-.4-.92-.59-1.43-.59-.52 0-1.04.2-1.43.59L10.3 9.45l-7.72 7.72c-.78.78-.78 2.05 0 2.83L4 21.41c.39.39.9.59 1.41.59.51 0 1.02-.2 1.41-.59l7.78-7.78 2.81-2.81c.8-.78.8-2.07 0-2.86zM5.41 20L4 18.59l7.72-7.72 1.47 1.35L5.41 20z\"/>\n",
              "  </svg>\n",
              "      </button>\n",
              "      \n",
              "  <style>\n",
              "    .colab-df-container {\n",
              "      display:flex;\n",
              "      flex-wrap:wrap;\n",
              "      gap: 12px;\n",
              "    }\n",
              "\n",
              "    .colab-df-convert {\n",
              "      background-color: #E8F0FE;\n",
              "      border: none;\n",
              "      border-radius: 50%;\n",
              "      cursor: pointer;\n",
              "      display: none;\n",
              "      fill: #1967D2;\n",
              "      height: 32px;\n",
              "      padding: 0 0 0 0;\n",
              "      width: 32px;\n",
              "    }\n",
              "\n",
              "    .colab-df-convert:hover {\n",
              "      background-color: #E2EBFA;\n",
              "      box-shadow: 0px 1px 2px rgba(60, 64, 67, 0.3), 0px 1px 3px 1px rgba(60, 64, 67, 0.15);\n",
              "      fill: #174EA6;\n",
              "    }\n",
              "\n",
              "    [theme=dark] .colab-df-convert {\n",
              "      background-color: #3B4455;\n",
              "      fill: #D2E3FC;\n",
              "    }\n",
              "\n",
              "    [theme=dark] .colab-df-convert:hover {\n",
              "      background-color: #434B5C;\n",
              "      box-shadow: 0px 1px 3px 1px rgba(0, 0, 0, 0.15);\n",
              "      filter: drop-shadow(0px 1px 2px rgba(0, 0, 0, 0.3));\n",
              "      fill: #FFFFFF;\n",
              "    }\n",
              "  </style>\n",
              "\n",
              "      <script>\n",
              "        const buttonEl =\n",
              "          document.querySelector('#df-d865494b-0966-498a-b61f-fb105b4b1195 button.colab-df-convert');\n",
              "        buttonEl.style.display =\n",
              "          google.colab.kernel.accessAllowed ? 'block' : 'none';\n",
              "\n",
              "        async function convertToInteractive(key) {\n",
              "          const element = document.querySelector('#df-d865494b-0966-498a-b61f-fb105b4b1195');\n",
              "          const dataTable =\n",
              "            await google.colab.kernel.invokeFunction('convertToInteractive',\n",
              "                                                     [key], {});\n",
              "          if (!dataTable) return;\n",
              "\n",
              "          const docLinkHtml = 'Like what you see? Visit the ' +\n",
              "            '<a target=\"_blank\" href=https://colab.research.google.com/notebooks/data_table.ipynb>data table notebook</a>'\n",
              "            + ' to learn more about interactive tables.';\n",
              "          element.innerHTML = '';\n",
              "          dataTable['output_type'] = 'display_data';\n",
              "          await google.colab.output.renderOutput(dataTable, element);\n",
              "          const docLink = document.createElement('div');\n",
              "          docLink.innerHTML = docLinkHtml;\n",
              "          element.appendChild(docLink);\n",
              "        }\n",
              "      </script>\n",
              "    </div>\n",
              "  </div>\n",
              "  "
            ]
          },
          "metadata": {},
          "execution_count": 6
        }
      ]
    },
    {
      "cell_type": "code",
      "source": [
        "X = df_census.iloc[:,:-1]\n",
        "y = df_census.iloc[:,-1]"
      ],
      "metadata": {
        "id": "85mzlJRpZMj8"
      },
      "execution_count": null,
      "outputs": []
    },
    {
      "cell_type": "code",
      "source": [
        "from sklearn.model_selection import train_test_split\n",
        "X_train, X_test, y_train, y_test = train_test_split(X, y, random_state=2)"
      ],
      "metadata": {
        "id": "3ec4E-HQZSzD"
      },
      "execution_count": null,
      "outputs": []
    },
    {
      "cell_type": "code",
      "source": [
        "from sklearn.tree import DecisionTreeClassifier\n",
        "from sklearn.metrics import accuracy_score\n",
        "clf = DecisionTreeClassifier(random_state=2)\n",
        "clf.fit(X_train, y_train)\n",
        "y_pred = clf.predict(X_test)\n",
        "accuracy_score(y_pred, y_test)"
      ],
      "metadata": {
        "colab": {
          "base_uri": "https://localhost:8080/"
        },
        "id": "unMAWYbhZdWj",
        "outputId": "22160ce5-91d2-41d4-9856-090b1c3a383c"
      },
      "execution_count": null,
      "outputs": [
        {
          "output_type": "execute_result",
          "data": {
            "text/plain": [
              "0.8131679154894976"
            ]
          },
          "metadata": {},
          "execution_count": 9
        }
      ]
    },
    {
      "cell_type": "markdown",
      "source": [
        "2.2 분산과 편향\n",
        "===================="
      ],
      "metadata": {
        "id": "i0wTXPRodVSj"
      }
    },
    {
      "cell_type": "markdown",
      "source": [
        "![Random_Points_1.png](data:image/png;base64,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)"
      ],
      "metadata": {
        "id": "vElWAiwDebJS"
      }
    },
    {
      "cell_type": "markdown",
      "source": [
        "![1st Degree Polynomial - High Bias_1.png](data:image/png;base64,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)"
      ],
      "metadata": {
        "id": "erbDSItOea3b"
      }
    },
    {
      "cell_type": "markdown",
      "source": [
        "> * 편향이 크고 데이터에 과소적합"
      ],
      "metadata": {
        "id": "0OgpQ0NVigsn"
      }
    },
    {
      "cell_type": "markdown",
      "source": [
        "![8th Degree Polynomial - High Variance_1.png](data:image/png;base64,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)"
      ],
      "metadata": {
        "id": "uoUbc34WiQlI"
      }
    },
    {
      "cell_type": "markdown",
      "source": [
        "> * 분산이 높고 데이터에 과대적합"
      ],
      "metadata": {
        "id": "Z9t4yBlZi_Lp"
      }
    },
    {
      "cell_type": "markdown",
      "source": [
        "![3rd Degree Polynomial - Balanced_1.png](data:image/png;base64,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)"
      ],
      "metadata": {
        "id": "enF_w9BAeaWm"
      }
    },
    {
      "cell_type": "markdown",
      "source": [
        "> * 분산과 편향 사이의 균형을 잘 잡기 위해서는 하이퍼파라미터 튜닝이 필요하다"
      ],
      "metadata": {
        "id": "8Dao1-j5ja5S"
      }
    },
    {
      "cell_type": "markdown",
      "source": [
        "2.3 심장질환 예측하기\n",
        "===================="
      ],
      "metadata": {
        "id": "W4SzsFyYm61p"
      }
    },
    {
      "cell_type": "markdown",
      "source": [
        "> ### 하이퍼파라미터 탐색"
      ],
      "metadata": {
        "id": "hjiW4hGrBqrh"
      }
    },
    {
      "cell_type": "code",
      "source": [
        "import pandas as pd\n",
        "df_heart = pd.read_csv('/content/heart_disease.csv')\n",
        "df_heart.head()"
      ],
      "metadata": {
        "id": "smCmSBD5e84-",
        "colab": {
          "base_uri": "https://localhost:8080/",
          "height": 206
        },
        "outputId": "e927d0aa-3fc5-45c4-a578-833148ae2087"
      },
      "execution_count": null,
      "outputs": [
        {
          "output_type": "execute_result",
          "data": {
            "text/plain": [
              "   age  sex  cp  trestbps  chol  fbs  restecg  thalach  exang  oldpeak  slope  \\\n",
              "0   63    1   3       145   233    1        0      150      0      2.3      0   \n",
              "1   37    1   2       130   250    0        1      187      0      3.5      0   \n",
              "2   41    0   1       130   204    0        0      172      0      1.4      2   \n",
              "3   56    1   1       120   236    0        1      178      0      0.8      2   \n",
              "4   57    0   0       120   354    0        1      163      1      0.6      2   \n",
              "\n",
              "   ca  thal  target  \n",
              "0   0     1       1  \n",
              "1   0     2       1  \n",
              "2   0     2       1  \n",
              "3   0     2       1  \n",
              "4   0     2       1  "
            ],
            "text/html": [
              "\n",
              "  <div id=\"df-2e43d16b-e75c-42e2-a57b-1eda88a52a83\">\n",
              "    <div class=\"colab-df-container\">\n",
              "      <div>\n",
              "<style scoped>\n",
              "    .dataframe tbody tr th:only-of-type {\n",
              "        vertical-align: middle;\n",
              "    }\n",
              "\n",
              "    .dataframe tbody tr th {\n",
              "        vertical-align: top;\n",
              "    }\n",
              "\n",
              "    .dataframe thead th {\n",
              "        text-align: right;\n",
              "    }\n",
              "</style>\n",
              "<table border=\"1\" class=\"dataframe\">\n",
              "  <thead>\n",
              "    <tr style=\"text-align: right;\">\n",
              "      <th></th>\n",
              "      <th>age</th>\n",
              "      <th>sex</th>\n",
              "      <th>cp</th>\n",
              "      <th>trestbps</th>\n",
              "      <th>chol</th>\n",
              "      <th>fbs</th>\n",
              "      <th>restecg</th>\n",
              "      <th>thalach</th>\n",
              "      <th>exang</th>\n",
              "      <th>oldpeak</th>\n",
              "      <th>slope</th>\n",
              "      <th>ca</th>\n",
              "      <th>thal</th>\n",
              "      <th>target</th>\n",
              "    </tr>\n",
              "  </thead>\n",
              "  <tbody>\n",
              "    <tr>\n",
              "      <th>0</th>\n",
              "      <td>63</td>\n",
              "      <td>1</td>\n",
              "      <td>3</td>\n",
              "      <td>145</td>\n",
              "      <td>233</td>\n",
              "      <td>1</td>\n",
              "      <td>0</td>\n",
              "      <td>150</td>\n",
              "      <td>0</td>\n",
              "      <td>2.3</td>\n",
              "      <td>0</td>\n",
              "      <td>0</td>\n",
              "      <td>1</td>\n",
              "      <td>1</td>\n",
              "    </tr>\n",
              "    <tr>\n",
              "      <th>1</th>\n",
              "      <td>37</td>\n",
              "      <td>1</td>\n",
              "      <td>2</td>\n",
              "      <td>130</td>\n",
              "      <td>250</td>\n",
              "      <td>0</td>\n",
              "      <td>1</td>\n",
              "      <td>187</td>\n",
              "      <td>0</td>\n",
              "      <td>3.5</td>\n",
              "      <td>0</td>\n",
              "      <td>0</td>\n",
              "      <td>2</td>\n",
              "      <td>1</td>\n",
              "    </tr>\n",
              "    <tr>\n",
              "      <th>2</th>\n",
              "      <td>41</td>\n",
              "      <td>0</td>\n",
              "      <td>1</td>\n",
              "      <td>130</td>\n",
              "      <td>204</td>\n",
              "      <td>0</td>\n",
              "      <td>0</td>\n",
              "      <td>172</td>\n",
              "      <td>0</td>\n",
              "      <td>1.4</td>\n",
              "      <td>2</td>\n",
              "      <td>0</td>\n",
              "      <td>2</td>\n",
              "      <td>1</td>\n",
              "    </tr>\n",
              "    <tr>\n",
              "      <th>3</th>\n",
              "      <td>56</td>\n",
              "      <td>1</td>\n",
              "      <td>1</td>\n",
              "      <td>120</td>\n",
              "      <td>236</td>\n",
              "      <td>0</td>\n",
              "      <td>1</td>\n",
              "      <td>178</td>\n",
              "      <td>0</td>\n",
              "      <td>0.8</td>\n",
              "      <td>2</td>\n",
              "      <td>0</td>\n",
              "      <td>2</td>\n",
              "      <td>1</td>\n",
              "    </tr>\n",
              "    <tr>\n",
              "      <th>4</th>\n",
              "      <td>57</td>\n",
              "      <td>0</td>\n",
              "      <td>0</td>\n",
              "      <td>120</td>\n",
              "      <td>354</td>\n",
              "      <td>0</td>\n",
              "      <td>1</td>\n",
              "      <td>163</td>\n",
              "      <td>1</td>\n",
              "      <td>0.6</td>\n",
              "      <td>2</td>\n",
              "      <td>0</td>\n",
              "      <td>2</td>\n",
              "      <td>1</td>\n",
              "    </tr>\n",
              "  </tbody>\n",
              "</table>\n",
              "</div>\n",
              "      <button class=\"colab-df-convert\" onclick=\"convertToInteractive('df-2e43d16b-e75c-42e2-a57b-1eda88a52a83')\"\n",
              "              title=\"Convert this dataframe to an interactive table.\"\n",
              "              style=\"display:none;\">\n",
              "        \n",
              "  <svg xmlns=\"http://www.w3.org/2000/svg\" height=\"24px\"viewBox=\"0 0 24 24\"\n",
              "       width=\"24px\">\n",
              "    <path d=\"M0 0h24v24H0V0z\" fill=\"none\"/>\n",
              "    <path d=\"M18.56 5.44l.94 2.06.94-2.06 2.06-.94-2.06-.94-.94-2.06-.94 2.06-2.06.94zm-11 1L8.5 8.5l.94-2.06 2.06-.94-2.06-.94L8.5 2.5l-.94 2.06-2.06.94zm10 10l.94 2.06.94-2.06 2.06-.94-2.06-.94-.94-2.06-.94 2.06-2.06.94z\"/><path d=\"M17.41 7.96l-1.37-1.37c-.4-.4-.92-.59-1.43-.59-.52 0-1.04.2-1.43.59L10.3 9.45l-7.72 7.72c-.78.78-.78 2.05 0 2.83L4 21.41c.39.39.9.59 1.41.59.51 0 1.02-.2 1.41-.59l7.78-7.78 2.81-2.81c.8-.78.8-2.07 0-2.86zM5.41 20L4 18.59l7.72-7.72 1.47 1.35L5.41 20z\"/>\n",
              "  </svg>\n",
              "      </button>\n",
              "      \n",
              "  <style>\n",
              "    .colab-df-container {\n",
              "      display:flex;\n",
              "      flex-wrap:wrap;\n",
              "      gap: 12px;\n",
              "    }\n",
              "\n",
              "    .colab-df-convert {\n",
              "      background-color: #E8F0FE;\n",
              "      border: none;\n",
              "      border-radius: 50%;\n",
              "      cursor: pointer;\n",
              "      display: none;\n",
              "      fill: #1967D2;\n",
              "      height: 32px;\n",
              "      padding: 0 0 0 0;\n",
              "      width: 32px;\n",
              "    }\n",
              "\n",
              "    .colab-df-convert:hover {\n",
              "      background-color: #E2EBFA;\n",
              "      box-shadow: 0px 1px 2px rgba(60, 64, 67, 0.3), 0px 1px 3px 1px rgba(60, 64, 67, 0.15);\n",
              "      fill: #174EA6;\n",
              "    }\n",
              "\n",
              "    [theme=dark] .colab-df-convert {\n",
              "      background-color: #3B4455;\n",
              "      fill: #D2E3FC;\n",
              "    }\n",
              "\n",
              "    [theme=dark] .colab-df-convert:hover {\n",
              "      background-color: #434B5C;\n",
              "      box-shadow: 0px 1px 3px 1px rgba(0, 0, 0, 0.15);\n",
              "      filter: drop-shadow(0px 1px 2px rgba(0, 0, 0, 0.3));\n",
              "      fill: #FFFFFF;\n",
              "    }\n",
              "  </style>\n",
              "\n",
              "      <script>\n",
              "        const buttonEl =\n",
              "          document.querySelector('#df-2e43d16b-e75c-42e2-a57b-1eda88a52a83 button.colab-df-convert');\n",
              "        buttonEl.style.display =\n",
              "          google.colab.kernel.accessAllowed ? 'block' : 'none';\n",
              "\n",
              "        async function convertToInteractive(key) {\n",
              "          const element = document.querySelector('#df-2e43d16b-e75c-42e2-a57b-1eda88a52a83');\n",
              "          const dataTable =\n",
              "            await google.colab.kernel.invokeFunction('convertToInteractive',\n",
              "                                                     [key], {});\n",
              "          if (!dataTable) return;\n",
              "\n",
              "          const docLinkHtml = 'Like what you see? Visit the ' +\n",
              "            '<a target=\"_blank\" href=https://colab.research.google.com/notebooks/data_table.ipynb>data table notebook</a>'\n",
              "            + ' to learn more about interactive tables.';\n",
              "          element.innerHTML = '';\n",
              "          dataTable['output_type'] = 'display_data';\n",
              "          await google.colab.output.renderOutput(dataTable, element);\n",
              "          const docLink = document.createElement('div');\n",
              "          docLink.innerHTML = docLinkHtml;\n",
              "          element.appendChild(docLink);\n",
              "        }\n",
              "      </script>\n",
              "    </div>\n",
              "  </div>\n",
              "  "
            ]
          },
          "metadata": {},
          "execution_count": 10
        }
      ]
    },
    {
      "cell_type": "code",
      "source": [
        "X = df_heart.iloc[:,:-1]\n",
        "y = df_heart.iloc[:,-1]\n",
        "X_train, X_test, y_train, y_test = train_test_split(X, y, random_state=2)"
      ],
      "metadata": {
        "id": "xjEdSX6VdgOW"
      },
      "execution_count": null,
      "outputs": []
    },
    {
      "cell_type": "code",
      "source": [
        "# 하이퍼파라미터 튜닝을 하기전에 기준이 될 모델 생성\n",
        "from sklearn.model_selection import cross_val_score\n",
        "model = DecisionTreeClassifier(random_state=2)\n",
        "scores = cross_val_score(model, X, y, cv=5)\n",
        "print('정확도:', np.round(scores, 2))\n",
        "print('정확도 평균: %0.2f' % (scores.mean()))"
      ],
      "metadata": {
        "colab": {
          "base_uri": "https://localhost:8080/"
        },
        "id": "g8S5JNAo4sE2",
        "outputId": "3cf8be51-bc52-4015-d386-ae931218dd4c"
      },
      "execution_count": null,
      "outputs": [
        {
          "output_type": "stream",
          "name": "stdout",
          "text": [
            "정확도: [0.74 0.85 0.77 0.73 0.7 ]\n",
            "정확도 평균: 0.76\n"
          ]
        }
      ]
    },
    {
      "cell_type": "markdown",
      "source": [
        "> * GridSearchCV: 모든 조합에 대해 교차검증 후 가장 좋은 성능을 내는 하이퍼파라미터 조합을 찾는다.\n",
        "> * RandomizedSearchCV: 모든 조합을 다 시도하지는 않고, 각 반복마다 임의의 값을 대입하여 지정한 횟수만큼 평가한다. "
      ],
      "metadata": {
        "id": "iBJG9w4HdKaE"
      }
    },
    {
      "cell_type": "code",
      "source": [
        "# RandomizedSearchCV로 점수를 출력하고 최상의 모델을 반환하는 함수 생성\n",
        "from sklearn.model_selection import RandomizedSearchCV\n",
        "def randomized_search_clf(params, runs=20, clf=DecisionTreeClassifier(random_state=2)):\n",
        "  rand_clf = RandomizedSearchCV(clf, params, n_iter=runs, cv=5, n_jobs=-1, random_state=2) # n_iter: 파라미터 조합 검색 횟수\n",
        "  rand_clf.fit(X_train, y_train)\n",
        "  best_model = rand_clf.best_estimator_\n",
        "  best_score = rand_clf.best_score_\n",
        "  print(\"훈련 점수: {:.3f}\".format(best_score))\n",
        "  y_pred = best_model.predict(X_test)\n",
        "  accuracy = accuracy_score(y_test, y_pred)\n",
        "  print('테스트 점수: {:.3f}'.format(accuracy))\n",
        "  return best_model"
      ],
      "metadata": {
        "id": "V6tXF0yc5y62"
      },
      "execution_count": null,
      "outputs": []
    },
    {
      "cell_type": "code",
      "source": [
        "# 하이퍼파라미터 선택\n",
        "randomized_search_clf(\n",
        "    params={\n",
        "        'criterion':['entropy', 'gini'],  # 불순도 측정 \n",
        "        'splitter':['random', 'best'],  # 노드에서 분할하는 방법, best:정보이득이 최대가 되게, random:랜덤하게\n",
        "        'min_samples_split':[2,3,4,5,6,8,10],\n",
        "        'min_samples_leaf':[1, 0.01, 0.02, 0.03, 0.04],\n",
        "        'min_impurity_decrease':[0.0, 0.0005, 0.005, 0.05, 0.10, 0.15, 0.2],\n",
        "        'max_leaf_nodes':[10, 15, 20, 25, 30, 35, 40, 45, 50, None],   # 리프노드 최대 갯수\n",
        "        'max_features':['auto', 0.95, 0.90, 0.85, 0.80, 0.75, 0.70],  # auto:전체특성사용, sqrt:전체특성개수 제곱근\n",
        "        'max_depth':[None,2,4,6,8],\n",
        "         # 모든샘플의 가중치의 합에대해, 각 리프노드가 가지는 최소 가중치 비율 \n",
        "        'min_weight_fraction_leaf':[0.0, 0.0025, 0.0005, 0.0075, 0.01, 0.05] \n",
        "    }\n",
        ")"
      ],
      "metadata": {
        "colab": {
          "base_uri": "https://localhost:8080/"
        },
        "id": "8OudvcGj66h-",
        "outputId": "2f2b37fe-23a0-411c-c071-ac346a4dfb26"
      },
      "execution_count": null,
      "outputs": [
        {
          "output_type": "stream",
          "name": "stdout",
          "text": [
            "훈련 점수: 0.798\n",
            "테스트 점수: 0.855\n"
          ]
        },
        {
          "output_type": "execute_result",
          "data": {
            "text/plain": [
              "DecisionTreeClassifier(criterion='entropy', max_depth=8, max_features=0.8,\n",
              "                       max_leaf_nodes=45, min_samples_leaf=0.04,\n",
              "                       min_samples_split=10, min_weight_fraction_leaf=0.05,\n",
              "                       random_state=2)"
            ]
          },
          "metadata": {},
          "execution_count": 22
        }
      ]
    },
    {
      "cell_type": "code",
      "source": [
        "# 탐색범위를 좁히고 탐색횟수 증가\n",
        "best_model = randomized_search_clf(\n",
        "    params={\n",
        "        'min_samples_split':[2,9,10],\n",
        "        'max_leaf_nodes':[45, None],\n",
        "        'max_features':['auto', 0.78],\n",
        "        'max_depth':[None,6,7],\n",
        "        'min_samples_leaf':[1, 0.035, 0.04, 0.045, 0.05],\n",
        "        'min_weight_fraction_leaf':[0.0, 0.05, 0.06, 0.07]}, runs=100\n",
        ")"
      ],
      "metadata": {
        "colab": {
          "base_uri": "https://localhost:8080/"
        },
        "id": "ezUAxrrN9bzt",
        "outputId": "0cb476a9-e314-46b6-e541-a31d4d9fffca"
      },
      "execution_count": null,
      "outputs": [
        {
          "output_type": "stream",
          "name": "stdout",
          "text": [
            "훈련 점수: 0.802\n",
            "테스트 점수: 0.868\n"
          ]
        }
      ]
    },
    {
      "cell_type": "code",
      "source": [
        "# 변환된 최상의 모델을 전체 데이터셋에서 교차검증\n",
        "scores = cross_val_score(best_model, X, y, cv=5)\n",
        "print('정확도:', np.round(scores, 2))\n",
        "print('정확도 평균: %0.2f' % (scores.mean()))"
      ],
      "metadata": {
        "colab": {
          "base_uri": "https://localhost:8080/"
        },
        "id": "BacAMQe2_jOL",
        "outputId": "f8386893-0686-4b1b-966f-93fa21a424a7"
      },
      "execution_count": null,
      "outputs": [
        {
          "output_type": "stream",
          "name": "stdout",
          "text": [
            "정확도: [0.82 0.9  0.8  0.8  0.78]\n",
            "정확도 평균: 0.82\n"
          ]
        }
      ]
    },
    {
      "cell_type": "code",
      "source": [
        "# 연속적인 매개변수 값 탐색하기\n",
        "# 로그균등분포 클래스인 loguniform과 이산균등분포인 randint를 사용\n",
        "from sklearn.utils.fixes import loguniform\n",
        "from scipy.stats import randint\n",
        "\n",
        "params = {\n",
        "        'min_samples_split':loguniform(1e-5,1),\n",
        "        'min_samples_leaf':loguniform(1e-5,1),\n",
        "        'min_impurity_decrease':loguniform(1e-5,1),\n",
        "        'max_leaf_nodes':randint(1, 100),\n",
        "        'max_features':loguniform(1e-5,1),\n",
        "        'max_depth': randint(1,100),\n",
        "        'min_weight_fraction_leaf':loguniform(1e-5,1)    \n",
        "}\n",
        "\n",
        "dtc = DecisionTreeClassifier(random_state=0)\n",
        "rs = RandomizedSearchCV(dtc, params, n_iter=100, n_jobs=-1, random_state=0)\n",
        "rs.fit(X_train, y_train)\n",
        "\n",
        "print('최상의 교차 검증 점수:', rs.best_score_)\n",
        "print('최상의 매개변수:', rs.best_params_)"
      ],
      "metadata": {
        "colab": {
          "base_uri": "https://localhost:8080/"
        },
        "id": "m21p0WL3AAm8",
        "outputId": "266aa9c9-d3f2-4ad9-dd63-7f235a600bea"
      },
      "execution_count": null,
      "outputs": [
        {
          "output_type": "stream",
          "name": "stdout",
          "text": [
            "최상의 교차 검증 점수: 0.7932367149758455\n",
            "최상의 매개변수: {'max_depth': 48, 'max_features': 0.43091880545542754, 'max_leaf_nodes': 68, 'min_impurity_decrease': 0.0013196080073784372, 'min_samples_leaf': 0.005935250363740932, 'min_samples_split': 0.00027243167437771866, 'min_weight_fraction_leaf': 0.03410935690756259}\n"
          ]
        }
      ]
    },
    {
      "cell_type": "markdown",
      "source": [
        "> ### 특성 중요도"
      ],
      "metadata": {
        "id": "-3RRLvdTBucR"
      }
    },
    {
      "cell_type": "code",
      "source": [
        "# 최종 모델을 선택한 후에는 전체 데이터셋을 사용해 모델을 훈련하는것이 정확도를 더 높여줌\n",
        "# 하지만 테스트 세트가 없어지기 때문에 실전에 대한 성능을 추정하기 어려워지는 단점이 있음\n",
        "best_model.fit(X, y)"
      ],
      "metadata": {
        "colab": {
          "base_uri": "https://localhost:8080/"
        },
        "id": "5xwYTzqeBiIq",
        "outputId": "413797d0-38ce-4187-dbb8-28566d5289b0"
      },
      "execution_count": null,
      "outputs": [
        {
          "output_type": "execute_result",
          "data": {
            "text/plain": [
              "DecisionTreeClassifier(max_depth=7, max_features=0.78, max_leaf_nodes=45,\n",
              "                       min_samples_leaf=0.045, min_samples_split=9,\n",
              "                       min_weight_fraction_leaf=0.06, random_state=2)"
            ]
          },
          "metadata": {},
          "execution_count": 29
        }
      ]
    },
    {
      "cell_type": "code",
      "source": [
        "# 특성이름과 특성 중요도를 딕셔너리로 생성\n",
        "# 딕셔너리는 한쌍이 하나의 대응관계를 가지고 있는 자료형 \n",
        "feature_dict = dict(zip(X.columns, best_model.feature_importances_))\n",
        "import operator\n",
        "sorted(feature_dict.items(), key=operator.itemgetter(1), reverse=True)[0:3]"
      ],
      "metadata": {
        "colab": {
          "base_uri": "https://localhost:8080/"
        },
        "id": "pSypt7ViCMqx",
        "outputId": "c2fe3fd5-171b-4444-a802-86694e9f0e02"
      },
      "execution_count": null,
      "outputs": [
        {
          "output_type": "execute_result",
          "data": {
            "text/plain": [
              "[('cp', 0.4840958610240171),\n",
              " ('thal', 0.20494445570568706),\n",
              " ('ca', 0.18069065321397942)]"
            ]
          },
          "metadata": {},
          "execution_count": 31
        }
      ]
    }
  ]
}