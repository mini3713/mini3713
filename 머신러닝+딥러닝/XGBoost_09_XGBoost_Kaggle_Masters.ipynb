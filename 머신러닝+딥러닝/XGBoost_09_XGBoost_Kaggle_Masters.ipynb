{
  "nbformat": 4,
  "nbformat_minor": 0,
  "metadata": {
    "colab": {
      "provenance": [],
      "collapsed_sections": [],
      "authorship_tag": "ABX9TyM5gocmcON4+vKAr9HwgAw+",
      "include_colab_link": true
    },
    "kernelspec": {
      "name": "python3",
      "display_name": "Python 3"
    },
    "language_info": {
      "name": "python"
    }
  },
  "cells": [
    {
      "cell_type": "markdown",
      "metadata": {
        "id": "view-in-github",
        "colab_type": "text"
      },
      "source": [
        "<a href=\"https://colab.research.google.com/github/mini3713/mini3713/blob/main/%EB%A8%B8%EC%8B%A0%EB%9F%AC%EB%8B%9D%2B%EB%94%A5%EB%9F%AC%EB%8B%9D/XGBoost_09_XGBoost_Kaggle_Masters.ipynb\" target=\"_parent\"><img src=\"https://colab.research.google.com/assets/colab-badge.svg\" alt=\"Open In Colab\"/></a>"
      ]
    },
    {
      "cell_type": "markdown",
      "source": [
        "**9 캐글 마스터에게 배우기**\n",
        "================="
      ],
      "metadata": {
        "id": "NuM0EjSV5KvM"
      }
    },
    {
      "cell_type": "markdown",
      "source": [
        "9.1 특성공학\n",
        "====================\n",
        "기존 특성에서 새로운 특성을 만드는 작업을 **특성공학**이라고 한다. "
      ],
      "metadata": {
        "id": "DPfx2QfF5Kzc"
      }
    },
    {
      "cell_type": "markdown",
      "source": [
        "> ### 우버와 리프트 데이터로 특성공학 실습 "
      ],
      "metadata": {
        "id": "B2Hx_e8Y5K3M"
      }
    },
    {
      "cell_type": "code",
      "source": [
        "import pandas as pd\n",
        "import numpy as np\n",
        "from sklearn.model_selection import cross_val_score\n",
        "from xgboost import XGBClassifier, XGBRFClassifier\n",
        "from sklearn.ensemble import RandomForestClassifier, StackingClassifier\n",
        "from sklearn.linear_model import LogisticRegression\n",
        "from sklearn. model_selection import train_test_split, StratifiedKFold\n",
        "from sklearn.metrics import accuracy_score\n",
        "from sklearn.ensemble import VotingClassifier\n",
        "import warnings\n",
        "warnings.filterwarnings('ignore')"
      ],
      "metadata": {
        "id": "5hIvMZcN6Cmd"
      },
      "execution_count": 35,
      "outputs": []
    },
    {
      "cell_type": "code",
      "source": [
        "df = pd.read_csv('/content/cab_rides.csv', nrows=10000)\n",
        "df.head()"
      ],
      "metadata": {
        "colab": {
          "base_uri": "https://localhost:8080/",
          "height": 206
        },
        "id": "Qr_rMTZx6xlc",
        "outputId": "50195727-0a55-41e2-9190-3dae09417860"
      },
      "execution_count": 3,
      "outputs": [
        {
          "output_type": "execute_result",
          "data": {
            "text/plain": [
              "   distance cab_type     time_stamp    destination            source  price  \\\n",
              "0      0.44     Lyft  1544952607890  North Station  Haymarket Square    5.0   \n",
              "1      0.44     Lyft  1543284023677  North Station  Haymarket Square   11.0   \n",
              "2      0.44     Lyft  1543366822198  North Station  Haymarket Square    7.0   \n",
              "3      0.44     Lyft  1543553582749  North Station  Haymarket Square   26.0   \n",
              "4      0.44     Lyft  1543463360223  North Station  Haymarket Square    9.0   \n",
              "\n",
              "   surge_multiplier                                    id    product_id  \\\n",
              "0               1.0  424553bb-7174-41ea-aeb4-fe06d4f4b9d7     lyft_line   \n",
              "1               1.0  4bd23055-6827-41c6-b23b-3c491f24e74d  lyft_premier   \n",
              "2               1.0  981a3613-77af-4620-a42a-0c0866077d1e          lyft   \n",
              "3               1.0  c2d88af2-d278-4bfd-a8d0-29ca77cc5512   lyft_luxsuv   \n",
              "4               1.0  e0126e1f-8ca9-4f2e-82b3-50505a09db9a     lyft_plus   \n",
              "\n",
              "           name  \n",
              "0        Shared  \n",
              "1           Lux  \n",
              "2          Lyft  \n",
              "3  Lux Black XL  \n",
              "4       Lyft XL  "
            ],
            "text/html": [
              "\n",
              "  <div id=\"df-64601491-3991-4d8c-9e27-1d6541eddc55\">\n",
              "    <div class=\"colab-df-container\">\n",
              "      <div>\n",
              "<style scoped>\n",
              "    .dataframe tbody tr th:only-of-type {\n",
              "        vertical-align: middle;\n",
              "    }\n",
              "\n",
              "    .dataframe tbody tr th {\n",
              "        vertical-align: top;\n",
              "    }\n",
              "\n",
              "    .dataframe thead th {\n",
              "        text-align: right;\n",
              "    }\n",
              "</style>\n",
              "<table border=\"1\" class=\"dataframe\">\n",
              "  <thead>\n",
              "    <tr style=\"text-align: right;\">\n",
              "      <th></th>\n",
              "      <th>distance</th>\n",
              "      <th>cab_type</th>\n",
              "      <th>time_stamp</th>\n",
              "      <th>destination</th>\n",
              "      <th>source</th>\n",
              "      <th>price</th>\n",
              "      <th>surge_multiplier</th>\n",
              "      <th>id</th>\n",
              "      <th>product_id</th>\n",
              "      <th>name</th>\n",
              "    </tr>\n",
              "  </thead>\n",
              "  <tbody>\n",
              "    <tr>\n",
              "      <th>0</th>\n",
              "      <td>0.44</td>\n",
              "      <td>Lyft</td>\n",
              "      <td>1544952607890</td>\n",
              "      <td>North Station</td>\n",
              "      <td>Haymarket Square</td>\n",
              "      <td>5.0</td>\n",
              "      <td>1.0</td>\n",
              "      <td>424553bb-7174-41ea-aeb4-fe06d4f4b9d7</td>\n",
              "      <td>lyft_line</td>\n",
              "      <td>Shared</td>\n",
              "    </tr>\n",
              "    <tr>\n",
              "      <th>1</th>\n",
              "      <td>0.44</td>\n",
              "      <td>Lyft</td>\n",
              "      <td>1543284023677</td>\n",
              "      <td>North Station</td>\n",
              "      <td>Haymarket Square</td>\n",
              "      <td>11.0</td>\n",
              "      <td>1.0</td>\n",
              "      <td>4bd23055-6827-41c6-b23b-3c491f24e74d</td>\n",
              "      <td>lyft_premier</td>\n",
              "      <td>Lux</td>\n",
              "    </tr>\n",
              "    <tr>\n",
              "      <th>2</th>\n",
              "      <td>0.44</td>\n",
              "      <td>Lyft</td>\n",
              "      <td>1543366822198</td>\n",
              "      <td>North Station</td>\n",
              "      <td>Haymarket Square</td>\n",
              "      <td>7.0</td>\n",
              "      <td>1.0</td>\n",
              "      <td>981a3613-77af-4620-a42a-0c0866077d1e</td>\n",
              "      <td>lyft</td>\n",
              "      <td>Lyft</td>\n",
              "    </tr>\n",
              "    <tr>\n",
              "      <th>3</th>\n",
              "      <td>0.44</td>\n",
              "      <td>Lyft</td>\n",
              "      <td>1543553582749</td>\n",
              "      <td>North Station</td>\n",
              "      <td>Haymarket Square</td>\n",
              "      <td>26.0</td>\n",
              "      <td>1.0</td>\n",
              "      <td>c2d88af2-d278-4bfd-a8d0-29ca77cc5512</td>\n",
              "      <td>lyft_luxsuv</td>\n",
              "      <td>Lux Black XL</td>\n",
              "    </tr>\n",
              "    <tr>\n",
              "      <th>4</th>\n",
              "      <td>0.44</td>\n",
              "      <td>Lyft</td>\n",
              "      <td>1543463360223</td>\n",
              "      <td>North Station</td>\n",
              "      <td>Haymarket Square</td>\n",
              "      <td>9.0</td>\n",
              "      <td>1.0</td>\n",
              "      <td>e0126e1f-8ca9-4f2e-82b3-50505a09db9a</td>\n",
              "      <td>lyft_plus</td>\n",
              "      <td>Lyft XL</td>\n",
              "    </tr>\n",
              "  </tbody>\n",
              "</table>\n",
              "</div>\n",
              "      <button class=\"colab-df-convert\" onclick=\"convertToInteractive('df-64601491-3991-4d8c-9e27-1d6541eddc55')\"\n",
              "              title=\"Convert this dataframe to an interactive table.\"\n",
              "              style=\"display:none;\">\n",
              "        \n",
              "  <svg xmlns=\"http://www.w3.org/2000/svg\" height=\"24px\"viewBox=\"0 0 24 24\"\n",
              "       width=\"24px\">\n",
              "    <path d=\"M0 0h24v24H0V0z\" fill=\"none\"/>\n",
              "    <path d=\"M18.56 5.44l.94 2.06.94-2.06 2.06-.94-2.06-.94-.94-2.06-.94 2.06-2.06.94zm-11 1L8.5 8.5l.94-2.06 2.06-.94-2.06-.94L8.5 2.5l-.94 2.06-2.06.94zm10 10l.94 2.06.94-2.06 2.06-.94-2.06-.94-.94-2.06-.94 2.06-2.06.94z\"/><path d=\"M17.41 7.96l-1.37-1.37c-.4-.4-.92-.59-1.43-.59-.52 0-1.04.2-1.43.59L10.3 9.45l-7.72 7.72c-.78.78-.78 2.05 0 2.83L4 21.41c.39.39.9.59 1.41.59.51 0 1.02-.2 1.41-.59l7.78-7.78 2.81-2.81c.8-.78.8-2.07 0-2.86zM5.41 20L4 18.59l7.72-7.72 1.47 1.35L5.41 20z\"/>\n",
              "  </svg>\n",
              "      </button>\n",
              "      \n",
              "  <style>\n",
              "    .colab-df-container {\n",
              "      display:flex;\n",
              "      flex-wrap:wrap;\n",
              "      gap: 12px;\n",
              "    }\n",
              "\n",
              "    .colab-df-convert {\n",
              "      background-color: #E8F0FE;\n",
              "      border: none;\n",
              "      border-radius: 50%;\n",
              "      cursor: pointer;\n",
              "      display: none;\n",
              "      fill: #1967D2;\n",
              "      height: 32px;\n",
              "      padding: 0 0 0 0;\n",
              "      width: 32px;\n",
              "    }\n",
              "\n",
              "    .colab-df-convert:hover {\n",
              "      background-color: #E2EBFA;\n",
              "      box-shadow: 0px 1px 2px rgba(60, 64, 67, 0.3), 0px 1px 3px 1px rgba(60, 64, 67, 0.15);\n",
              "      fill: #174EA6;\n",
              "    }\n",
              "\n",
              "    [theme=dark] .colab-df-convert {\n",
              "      background-color: #3B4455;\n",
              "      fill: #D2E3FC;\n",
              "    }\n",
              "\n",
              "    [theme=dark] .colab-df-convert:hover {\n",
              "      background-color: #434B5C;\n",
              "      box-shadow: 0px 1px 3px 1px rgba(0, 0, 0, 0.15);\n",
              "      filter: drop-shadow(0px 1px 2px rgba(0, 0, 0, 0.3));\n",
              "      fill: #FFFFFF;\n",
              "    }\n",
              "  </style>\n",
              "\n",
              "      <script>\n",
              "        const buttonEl =\n",
              "          document.querySelector('#df-64601491-3991-4d8c-9e27-1d6541eddc55 button.colab-df-convert');\n",
              "        buttonEl.style.display =\n",
              "          google.colab.kernel.accessAllowed ? 'block' : 'none';\n",
              "\n",
              "        async function convertToInteractive(key) {\n",
              "          const element = document.querySelector('#df-64601491-3991-4d8c-9e27-1d6541eddc55');\n",
              "          const dataTable =\n",
              "            await google.colab.kernel.invokeFunction('convertToInteractive',\n",
              "                                                     [key], {});\n",
              "          if (!dataTable) return;\n",
              "\n",
              "          const docLinkHtml = 'Like what you see? Visit the ' +\n",
              "            '<a target=\"_blank\" href=https://colab.research.google.com/notebooks/data_table.ipynb>data table notebook</a>'\n",
              "            + ' to learn more about interactive tables.';\n",
              "          element.innerHTML = '';\n",
              "          dataTable['output_type'] = 'display_data';\n",
              "          await google.colab.output.renderOutput(dataTable, element);\n",
              "          const docLink = document.createElement('div');\n",
              "          docLink.innerHTML = docLinkHtml;\n",
              "          element.appendChild(docLink);\n",
              "        }\n",
              "      </script>\n",
              "    </div>\n",
              "  </div>\n",
              "  "
            ]
          },
          "metadata": {},
          "execution_count": 3
        }
      ]
    },
    {
      "cell_type": "code",
      "source": [
        "df.info()"
      ],
      "metadata": {
        "colab": {
          "base_uri": "https://localhost:8080/"
        },
        "id": "eSqbo1du8Ts1",
        "outputId": "9c055bfa-c1e6-4fb3-acba-3b2f3222a15b"
      },
      "execution_count": 4,
      "outputs": [
        {
          "output_type": "stream",
          "name": "stdout",
          "text": [
            "<class 'pandas.core.frame.DataFrame'>\n",
            "RangeIndex: 10000 entries, 0 to 9999\n",
            "Data columns (total 10 columns):\n",
            " #   Column            Non-Null Count  Dtype  \n",
            "---  ------            --------------  -----  \n",
            " 0   distance          10000 non-null  float64\n",
            " 1   cab_type          10000 non-null  object \n",
            " 2   time_stamp        10000 non-null  int64  \n",
            " 3   destination       10000 non-null  object \n",
            " 4   source            10000 non-null  object \n",
            " 5   price             9227 non-null   float64\n",
            " 6   surge_multiplier  10000 non-null  float64\n",
            " 7   id                10000 non-null  object \n",
            " 8   product_id        10000 non-null  object \n",
            " 9   name              10000 non-null  object \n",
            "dtypes: float64(3), int64(1), object(6)\n",
            "memory usage: 781.4+ KB\n"
          ]
        }
      ]
    },
    {
      "cell_type": "code",
      "source": [
        "# 누락된 값이 있는 행 확인\n",
        "df[df.isna().any(axis=1)]"
      ],
      "metadata": {
        "colab": {
          "base_uri": "https://localhost:8080/",
          "height": 641
        },
        "id": "V0ZvM_KG8T1c",
        "outputId": "5037f62f-6794-4fe5-c925-cc2c79eaf0e5"
      },
      "execution_count": 5,
      "outputs": [
        {
          "output_type": "execute_result",
          "data": {
            "text/plain": [
              "      distance cab_type     time_stamp    destination         source  price  \\\n",
              "18        1.11     Uber  1543673584211       West End      North End    NaN   \n",
              "31        2.48     Uber  1543794776318  South Station    Beacon Hill    NaN   \n",
              "40        2.94     Uber  1543523885298         Fenway  North Station    NaN   \n",
              "60        1.16     Uber  1544731816318       West End      North End    NaN   \n",
              "69        2.67     Uber  1543583283653    Beacon Hill      North End    NaN   \n",
              "...        ...      ...            ...            ...            ...    ...   \n",
              "9949      1.08     Uber  1543272429665      North End  North Station    NaN   \n",
              "9953      2.46     Uber  1545045010035    Beacon Hill         Fenway    NaN   \n",
              "9965      2.58     Uber  1544815809335    Beacon Hill  South Station    NaN   \n",
              "9985      1.89     Uber  1544695512211    Beacon Hill      North End    NaN   \n",
              "9994      3.05     Uber  1543812777435         Fenway  North Station    NaN   \n",
              "\n",
              "      surge_multiplier                                    id  \\\n",
              "18                 1.0  fa5fb705-03a0-4eb9-82d9-7fe80872f754   \n",
              "31                 1.0  eee70d94-6706-4b95-a8ce-0e34f0fa8f37   \n",
              "40                 1.0  7f47ff53-7cf2-4a6a-8049-83c90e042593   \n",
              "60                 1.0  43abdbe4-ab9e-4f39-afdc-31cfa375dc25   \n",
              "69                 1.0  80db1c49-9d51-4575-a4f4-1ec23b4d3e31   \n",
              "...                ...                                   ...   \n",
              "9949               1.0  74fffcba-da67-42d1-b585-13d546a125be   \n",
              "9953               1.0  18c2e91d-d594-4a22-9be7-0a5829efa4bf   \n",
              "9965               1.0  77adadfb-4ac7-4cdf-aeab-6c4cfe8f7b26   \n",
              "9985               1.0  f2dfa974-f9d1-4e90-a0e6-77f7eea16956   \n",
              "9994               1.0  66e1e3af-6e64-4045-8739-d5f114b21f47   \n",
              "\n",
              "                                product_id  name  \n",
              "18    8cf7e821-f0d3-49c6-8eba-e679c0ebcf6a  Taxi  \n",
              "31    8cf7e821-f0d3-49c6-8eba-e679c0ebcf6a  Taxi  \n",
              "40    8cf7e821-f0d3-49c6-8eba-e679c0ebcf6a  Taxi  \n",
              "60    8cf7e821-f0d3-49c6-8eba-e679c0ebcf6a  Taxi  \n",
              "69    8cf7e821-f0d3-49c6-8eba-e679c0ebcf6a  Taxi  \n",
              "...                                    ...   ...  \n",
              "9949  8cf7e821-f0d3-49c6-8eba-e679c0ebcf6a  Taxi  \n",
              "9953  8cf7e821-f0d3-49c6-8eba-e679c0ebcf6a  Taxi  \n",
              "9965  8cf7e821-f0d3-49c6-8eba-e679c0ebcf6a  Taxi  \n",
              "9985  8cf7e821-f0d3-49c6-8eba-e679c0ebcf6a  Taxi  \n",
              "9994  8cf7e821-f0d3-49c6-8eba-e679c0ebcf6a  Taxi  \n",
              "\n",
              "[773 rows x 10 columns]"
            ],
            "text/html": [
              "\n",
              "  <div id=\"df-82956d81-750f-4ac9-ba06-6c6061adf7b8\">\n",
              "    <div class=\"colab-df-container\">\n",
              "      <div>\n",
              "<style scoped>\n",
              "    .dataframe tbody tr th:only-of-type {\n",
              "        vertical-align: middle;\n",
              "    }\n",
              "\n",
              "    .dataframe tbody tr th {\n",
              "        vertical-align: top;\n",
              "    }\n",
              "\n",
              "    .dataframe thead th {\n",
              "        text-align: right;\n",
              "    }\n",
              "</style>\n",
              "<table border=\"1\" class=\"dataframe\">\n",
              "  <thead>\n",
              "    <tr style=\"text-align: right;\">\n",
              "      <th></th>\n",
              "      <th>distance</th>\n",
              "      <th>cab_type</th>\n",
              "      <th>time_stamp</th>\n",
              "      <th>destination</th>\n",
              "      <th>source</th>\n",
              "      <th>price</th>\n",
              "      <th>surge_multiplier</th>\n",
              "      <th>id</th>\n",
              "      <th>product_id</th>\n",
              "      <th>name</th>\n",
              "    </tr>\n",
              "  </thead>\n",
              "  <tbody>\n",
              "    <tr>\n",
              "      <th>18</th>\n",
              "      <td>1.11</td>\n",
              "      <td>Uber</td>\n",
              "      <td>1543673584211</td>\n",
              "      <td>West End</td>\n",
              "      <td>North End</td>\n",
              "      <td>NaN</td>\n",
              "      <td>1.0</td>\n",
              "      <td>fa5fb705-03a0-4eb9-82d9-7fe80872f754</td>\n",
              "      <td>8cf7e821-f0d3-49c6-8eba-e679c0ebcf6a</td>\n",
              "      <td>Taxi</td>\n",
              "    </tr>\n",
              "    <tr>\n",
              "      <th>31</th>\n",
              "      <td>2.48</td>\n",
              "      <td>Uber</td>\n",
              "      <td>1543794776318</td>\n",
              "      <td>South Station</td>\n",
              "      <td>Beacon Hill</td>\n",
              "      <td>NaN</td>\n",
              "      <td>1.0</td>\n",
              "      <td>eee70d94-6706-4b95-a8ce-0e34f0fa8f37</td>\n",
              "      <td>8cf7e821-f0d3-49c6-8eba-e679c0ebcf6a</td>\n",
              "      <td>Taxi</td>\n",
              "    </tr>\n",
              "    <tr>\n",
              "      <th>40</th>\n",
              "      <td>2.94</td>\n",
              "      <td>Uber</td>\n",
              "      <td>1543523885298</td>\n",
              "      <td>Fenway</td>\n",
              "      <td>North Station</td>\n",
              "      <td>NaN</td>\n",
              "      <td>1.0</td>\n",
              "      <td>7f47ff53-7cf2-4a6a-8049-83c90e042593</td>\n",
              "      <td>8cf7e821-f0d3-49c6-8eba-e679c0ebcf6a</td>\n",
              "      <td>Taxi</td>\n",
              "    </tr>\n",
              "    <tr>\n",
              "      <th>60</th>\n",
              "      <td>1.16</td>\n",
              "      <td>Uber</td>\n",
              "      <td>1544731816318</td>\n",
              "      <td>West End</td>\n",
              "      <td>North End</td>\n",
              "      <td>NaN</td>\n",
              "      <td>1.0</td>\n",
              "      <td>43abdbe4-ab9e-4f39-afdc-31cfa375dc25</td>\n",
              "      <td>8cf7e821-f0d3-49c6-8eba-e679c0ebcf6a</td>\n",
              "      <td>Taxi</td>\n",
              "    </tr>\n",
              "    <tr>\n",
              "      <th>69</th>\n",
              "      <td>2.67</td>\n",
              "      <td>Uber</td>\n",
              "      <td>1543583283653</td>\n",
              "      <td>Beacon Hill</td>\n",
              "      <td>North End</td>\n",
              "      <td>NaN</td>\n",
              "      <td>1.0</td>\n",
              "      <td>80db1c49-9d51-4575-a4f4-1ec23b4d3e31</td>\n",
              "      <td>8cf7e821-f0d3-49c6-8eba-e679c0ebcf6a</td>\n",
              "      <td>Taxi</td>\n",
              "    </tr>\n",
              "    <tr>\n",
              "      <th>...</th>\n",
              "      <td>...</td>\n",
              "      <td>...</td>\n",
              "      <td>...</td>\n",
              "      <td>...</td>\n",
              "      <td>...</td>\n",
              "      <td>...</td>\n",
              "      <td>...</td>\n",
              "      <td>...</td>\n",
              "      <td>...</td>\n",
              "      <td>...</td>\n",
              "    </tr>\n",
              "    <tr>\n",
              "      <th>9949</th>\n",
              "      <td>1.08</td>\n",
              "      <td>Uber</td>\n",
              "      <td>1543272429665</td>\n",
              "      <td>North End</td>\n",
              "      <td>North Station</td>\n",
              "      <td>NaN</td>\n",
              "      <td>1.0</td>\n",
              "      <td>74fffcba-da67-42d1-b585-13d546a125be</td>\n",
              "      <td>8cf7e821-f0d3-49c6-8eba-e679c0ebcf6a</td>\n",
              "      <td>Taxi</td>\n",
              "    </tr>\n",
              "    <tr>\n",
              "      <th>9953</th>\n",
              "      <td>2.46</td>\n",
              "      <td>Uber</td>\n",
              "      <td>1545045010035</td>\n",
              "      <td>Beacon Hill</td>\n",
              "      <td>Fenway</td>\n",
              "      <td>NaN</td>\n",
              "      <td>1.0</td>\n",
              "      <td>18c2e91d-d594-4a22-9be7-0a5829efa4bf</td>\n",
              "      <td>8cf7e821-f0d3-49c6-8eba-e679c0ebcf6a</td>\n",
              "      <td>Taxi</td>\n",
              "    </tr>\n",
              "    <tr>\n",
              "      <th>9965</th>\n",
              "      <td>2.58</td>\n",
              "      <td>Uber</td>\n",
              "      <td>1544815809335</td>\n",
              "      <td>Beacon Hill</td>\n",
              "      <td>South Station</td>\n",
              "      <td>NaN</td>\n",
              "      <td>1.0</td>\n",
              "      <td>77adadfb-4ac7-4cdf-aeab-6c4cfe8f7b26</td>\n",
              "      <td>8cf7e821-f0d3-49c6-8eba-e679c0ebcf6a</td>\n",
              "      <td>Taxi</td>\n",
              "    </tr>\n",
              "    <tr>\n",
              "      <th>9985</th>\n",
              "      <td>1.89</td>\n",
              "      <td>Uber</td>\n",
              "      <td>1544695512211</td>\n",
              "      <td>Beacon Hill</td>\n",
              "      <td>North End</td>\n",
              "      <td>NaN</td>\n",
              "      <td>1.0</td>\n",
              "      <td>f2dfa974-f9d1-4e90-a0e6-77f7eea16956</td>\n",
              "      <td>8cf7e821-f0d3-49c6-8eba-e679c0ebcf6a</td>\n",
              "      <td>Taxi</td>\n",
              "    </tr>\n",
              "    <tr>\n",
              "      <th>9994</th>\n",
              "      <td>3.05</td>\n",
              "      <td>Uber</td>\n",
              "      <td>1543812777435</td>\n",
              "      <td>Fenway</td>\n",
              "      <td>North Station</td>\n",
              "      <td>NaN</td>\n",
              "      <td>1.0</td>\n",
              "      <td>66e1e3af-6e64-4045-8739-d5f114b21f47</td>\n",
              "      <td>8cf7e821-f0d3-49c6-8eba-e679c0ebcf6a</td>\n",
              "      <td>Taxi</td>\n",
              "    </tr>\n",
              "  </tbody>\n",
              "</table>\n",
              "<p>773 rows × 10 columns</p>\n",
              "</div>\n",
              "      <button class=\"colab-df-convert\" onclick=\"convertToInteractive('df-82956d81-750f-4ac9-ba06-6c6061adf7b8')\"\n",
              "              title=\"Convert this dataframe to an interactive table.\"\n",
              "              style=\"display:none;\">\n",
              "        \n",
              "  <svg xmlns=\"http://www.w3.org/2000/svg\" height=\"24px\"viewBox=\"0 0 24 24\"\n",
              "       width=\"24px\">\n",
              "    <path d=\"M0 0h24v24H0V0z\" fill=\"none\"/>\n",
              "    <path d=\"M18.56 5.44l.94 2.06.94-2.06 2.06-.94-2.06-.94-.94-2.06-.94 2.06-2.06.94zm-11 1L8.5 8.5l.94-2.06 2.06-.94-2.06-.94L8.5 2.5l-.94 2.06-2.06.94zm10 10l.94 2.06.94-2.06 2.06-.94-2.06-.94-.94-2.06-.94 2.06-2.06.94z\"/><path d=\"M17.41 7.96l-1.37-1.37c-.4-.4-.92-.59-1.43-.59-.52 0-1.04.2-1.43.59L10.3 9.45l-7.72 7.72c-.78.78-.78 2.05 0 2.83L4 21.41c.39.39.9.59 1.41.59.51 0 1.02-.2 1.41-.59l7.78-7.78 2.81-2.81c.8-.78.8-2.07 0-2.86zM5.41 20L4 18.59l7.72-7.72 1.47 1.35L5.41 20z\"/>\n",
              "  </svg>\n",
              "      </button>\n",
              "      \n",
              "  <style>\n",
              "    .colab-df-container {\n",
              "      display:flex;\n",
              "      flex-wrap:wrap;\n",
              "      gap: 12px;\n",
              "    }\n",
              "\n",
              "    .colab-df-convert {\n",
              "      background-color: #E8F0FE;\n",
              "      border: none;\n",
              "      border-radius: 50%;\n",
              "      cursor: pointer;\n",
              "      display: none;\n",
              "      fill: #1967D2;\n",
              "      height: 32px;\n",
              "      padding: 0 0 0 0;\n",
              "      width: 32px;\n",
              "    }\n",
              "\n",
              "    .colab-df-convert:hover {\n",
              "      background-color: #E2EBFA;\n",
              "      box-shadow: 0px 1px 2px rgba(60, 64, 67, 0.3), 0px 1px 3px 1px rgba(60, 64, 67, 0.15);\n",
              "      fill: #174EA6;\n",
              "    }\n",
              "\n",
              "    [theme=dark] .colab-df-convert {\n",
              "      background-color: #3B4455;\n",
              "      fill: #D2E3FC;\n",
              "    }\n",
              "\n",
              "    [theme=dark] .colab-df-convert:hover {\n",
              "      background-color: #434B5C;\n",
              "      box-shadow: 0px 1px 3px 1px rgba(0, 0, 0, 0.15);\n",
              "      filter: drop-shadow(0px 1px 2px rgba(0, 0, 0, 0.3));\n",
              "      fill: #FFFFFF;\n",
              "    }\n",
              "  </style>\n",
              "\n",
              "      <script>\n",
              "        const buttonEl =\n",
              "          document.querySelector('#df-82956d81-750f-4ac9-ba06-6c6061adf7b8 button.colab-df-convert');\n",
              "        buttonEl.style.display =\n",
              "          google.colab.kernel.accessAllowed ? 'block' : 'none';\n",
              "\n",
              "        async function convertToInteractive(key) {\n",
              "          const element = document.querySelector('#df-82956d81-750f-4ac9-ba06-6c6061adf7b8');\n",
              "          const dataTable =\n",
              "            await google.colab.kernel.invokeFunction('convertToInteractive',\n",
              "                                                     [key], {});\n",
              "          if (!dataTable) return;\n",
              "\n",
              "          const docLinkHtml = 'Like what you see? Visit the ' +\n",
              "            '<a target=\"_blank\" href=https://colab.research.google.com/notebooks/data_table.ipynb>data table notebook</a>'\n",
              "            + ' to learn more about interactive tables.';\n",
              "          element.innerHTML = '';\n",
              "          dataTable['output_type'] = 'display_data';\n",
              "          await google.colab.output.renderOutput(dataTable, element);\n",
              "          const docLink = document.createElement('div');\n",
              "          docLink.innerHTML = docLinkHtml;\n",
              "          element.appendChild(docLink);\n",
              "        }\n",
              "      </script>\n",
              "    </div>\n",
              "  </div>\n",
              "  "
            ]
          },
          "metadata": {},
          "execution_count": 5
        }
      ]
    },
    {
      "cell_type": "code",
      "source": [
        "# 누락된 행 삭제\n",
        "df.dropna(inplace=True)"
      ],
      "metadata": {
        "id": "Ul1ZrG9j8T71"
      },
      "execution_count": 7,
      "outputs": []
    },
    {
      "cell_type": "markdown",
      "source": [
        "> **타임스탬프 데이터**"
      ],
      "metadata": {
        "id": "7ujUWbtb5K9s"
      }
    },
    {
      "cell_type": "code",
      "source": [
        "# 타임스탬프 열을 Timestamp 객체로 변환\n",
        "df['date'] = pd.to_datetime(df['time_stamp'])\n",
        "df.head()"
      ],
      "metadata": {
        "colab": {
          "base_uri": "https://localhost:8080/",
          "height": 337
        },
        "id": "7aNDQOC1930V",
        "outputId": "0f04dcdc-ac4d-40fd-9d29-1400e0be0398"
      },
      "execution_count": 8,
      "outputs": [
        {
          "output_type": "execute_result",
          "data": {
            "text/plain": [
              "   distance cab_type     time_stamp    destination            source  price  \\\n",
              "0      0.44     Lyft  1544952607890  North Station  Haymarket Square    5.0   \n",
              "1      0.44     Lyft  1543284023677  North Station  Haymarket Square   11.0   \n",
              "2      0.44     Lyft  1543366822198  North Station  Haymarket Square    7.0   \n",
              "3      0.44     Lyft  1543553582749  North Station  Haymarket Square   26.0   \n",
              "4      0.44     Lyft  1543463360223  North Station  Haymarket Square    9.0   \n",
              "\n",
              "   surge_multiplier                                    id    product_id  \\\n",
              "0               1.0  424553bb-7174-41ea-aeb4-fe06d4f4b9d7     lyft_line   \n",
              "1               1.0  4bd23055-6827-41c6-b23b-3c491f24e74d  lyft_premier   \n",
              "2               1.0  981a3613-77af-4620-a42a-0c0866077d1e          lyft   \n",
              "3               1.0  c2d88af2-d278-4bfd-a8d0-29ca77cc5512   lyft_luxsuv   \n",
              "4               1.0  e0126e1f-8ca9-4f2e-82b3-50505a09db9a     lyft_plus   \n",
              "\n",
              "           name                          date  \n",
              "0        Shared 1970-01-01 00:25:44.952607890  \n",
              "1           Lux 1970-01-01 00:25:43.284023677  \n",
              "2          Lyft 1970-01-01 00:25:43.366822198  \n",
              "3  Lux Black XL 1970-01-01 00:25:43.553582749  \n",
              "4       Lyft XL 1970-01-01 00:25:43.463360223  "
            ],
            "text/html": [
              "\n",
              "  <div id=\"df-3509961c-6d2e-45d5-a507-c349b4457a6f\">\n",
              "    <div class=\"colab-df-container\">\n",
              "      <div>\n",
              "<style scoped>\n",
              "    .dataframe tbody tr th:only-of-type {\n",
              "        vertical-align: middle;\n",
              "    }\n",
              "\n",
              "    .dataframe tbody tr th {\n",
              "        vertical-align: top;\n",
              "    }\n",
              "\n",
              "    .dataframe thead th {\n",
              "        text-align: right;\n",
              "    }\n",
              "</style>\n",
              "<table border=\"1\" class=\"dataframe\">\n",
              "  <thead>\n",
              "    <tr style=\"text-align: right;\">\n",
              "      <th></th>\n",
              "      <th>distance</th>\n",
              "      <th>cab_type</th>\n",
              "      <th>time_stamp</th>\n",
              "      <th>destination</th>\n",
              "      <th>source</th>\n",
              "      <th>price</th>\n",
              "      <th>surge_multiplier</th>\n",
              "      <th>id</th>\n",
              "      <th>product_id</th>\n",
              "      <th>name</th>\n",
              "      <th>date</th>\n",
              "    </tr>\n",
              "  </thead>\n",
              "  <tbody>\n",
              "    <tr>\n",
              "      <th>0</th>\n",
              "      <td>0.44</td>\n",
              "      <td>Lyft</td>\n",
              "      <td>1544952607890</td>\n",
              "      <td>North Station</td>\n",
              "      <td>Haymarket Square</td>\n",
              "      <td>5.0</td>\n",
              "      <td>1.0</td>\n",
              "      <td>424553bb-7174-41ea-aeb4-fe06d4f4b9d7</td>\n",
              "      <td>lyft_line</td>\n",
              "      <td>Shared</td>\n",
              "      <td>1970-01-01 00:25:44.952607890</td>\n",
              "    </tr>\n",
              "    <tr>\n",
              "      <th>1</th>\n",
              "      <td>0.44</td>\n",
              "      <td>Lyft</td>\n",
              "      <td>1543284023677</td>\n",
              "      <td>North Station</td>\n",
              "      <td>Haymarket Square</td>\n",
              "      <td>11.0</td>\n",
              "      <td>1.0</td>\n",
              "      <td>4bd23055-6827-41c6-b23b-3c491f24e74d</td>\n",
              "      <td>lyft_premier</td>\n",
              "      <td>Lux</td>\n",
              "      <td>1970-01-01 00:25:43.284023677</td>\n",
              "    </tr>\n",
              "    <tr>\n",
              "      <th>2</th>\n",
              "      <td>0.44</td>\n",
              "      <td>Lyft</td>\n",
              "      <td>1543366822198</td>\n",
              "      <td>North Station</td>\n",
              "      <td>Haymarket Square</td>\n",
              "      <td>7.0</td>\n",
              "      <td>1.0</td>\n",
              "      <td>981a3613-77af-4620-a42a-0c0866077d1e</td>\n",
              "      <td>lyft</td>\n",
              "      <td>Lyft</td>\n",
              "      <td>1970-01-01 00:25:43.366822198</td>\n",
              "    </tr>\n",
              "    <tr>\n",
              "      <th>3</th>\n",
              "      <td>0.44</td>\n",
              "      <td>Lyft</td>\n",
              "      <td>1543553582749</td>\n",
              "      <td>North Station</td>\n",
              "      <td>Haymarket Square</td>\n",
              "      <td>26.0</td>\n",
              "      <td>1.0</td>\n",
              "      <td>c2d88af2-d278-4bfd-a8d0-29ca77cc5512</td>\n",
              "      <td>lyft_luxsuv</td>\n",
              "      <td>Lux Black XL</td>\n",
              "      <td>1970-01-01 00:25:43.553582749</td>\n",
              "    </tr>\n",
              "    <tr>\n",
              "      <th>4</th>\n",
              "      <td>0.44</td>\n",
              "      <td>Lyft</td>\n",
              "      <td>1543463360223</td>\n",
              "      <td>North Station</td>\n",
              "      <td>Haymarket Square</td>\n",
              "      <td>9.0</td>\n",
              "      <td>1.0</td>\n",
              "      <td>e0126e1f-8ca9-4f2e-82b3-50505a09db9a</td>\n",
              "      <td>lyft_plus</td>\n",
              "      <td>Lyft XL</td>\n",
              "      <td>1970-01-01 00:25:43.463360223</td>\n",
              "    </tr>\n",
              "  </tbody>\n",
              "</table>\n",
              "</div>\n",
              "      <button class=\"colab-df-convert\" onclick=\"convertToInteractive('df-3509961c-6d2e-45d5-a507-c349b4457a6f')\"\n",
              "              title=\"Convert this dataframe to an interactive table.\"\n",
              "              style=\"display:none;\">\n",
              "        \n",
              "  <svg xmlns=\"http://www.w3.org/2000/svg\" height=\"24px\"viewBox=\"0 0 24 24\"\n",
              "       width=\"24px\">\n",
              "    <path d=\"M0 0h24v24H0V0z\" fill=\"none\"/>\n",
              "    <path d=\"M18.56 5.44l.94 2.06.94-2.06 2.06-.94-2.06-.94-.94-2.06-.94 2.06-2.06.94zm-11 1L8.5 8.5l.94-2.06 2.06-.94-2.06-.94L8.5 2.5l-.94 2.06-2.06.94zm10 10l.94 2.06.94-2.06 2.06-.94-2.06-.94-.94-2.06-.94 2.06-2.06.94z\"/><path d=\"M17.41 7.96l-1.37-1.37c-.4-.4-.92-.59-1.43-.59-.52 0-1.04.2-1.43.59L10.3 9.45l-7.72 7.72c-.78.78-.78 2.05 0 2.83L4 21.41c.39.39.9.59 1.41.59.51 0 1.02-.2 1.41-.59l7.78-7.78 2.81-2.81c.8-.78.8-2.07 0-2.86zM5.41 20L4 18.59l7.72-7.72 1.47 1.35L5.41 20z\"/>\n",
              "  </svg>\n",
              "      </button>\n",
              "      \n",
              "  <style>\n",
              "    .colab-df-container {\n",
              "      display:flex;\n",
              "      flex-wrap:wrap;\n",
              "      gap: 12px;\n",
              "    }\n",
              "\n",
              "    .colab-df-convert {\n",
              "      background-color: #E8F0FE;\n",
              "      border: none;\n",
              "      border-radius: 50%;\n",
              "      cursor: pointer;\n",
              "      display: none;\n",
              "      fill: #1967D2;\n",
              "      height: 32px;\n",
              "      padding: 0 0 0 0;\n",
              "      width: 32px;\n",
              "    }\n",
              "\n",
              "    .colab-df-convert:hover {\n",
              "      background-color: #E2EBFA;\n",
              "      box-shadow: 0px 1px 2px rgba(60, 64, 67, 0.3), 0px 1px 3px 1px rgba(60, 64, 67, 0.15);\n",
              "      fill: #174EA6;\n",
              "    }\n",
              "\n",
              "    [theme=dark] .colab-df-convert {\n",
              "      background-color: #3B4455;\n",
              "      fill: #D2E3FC;\n",
              "    }\n",
              "\n",
              "    [theme=dark] .colab-df-convert:hover {\n",
              "      background-color: #434B5C;\n",
              "      box-shadow: 0px 1px 3px 1px rgba(0, 0, 0, 0.15);\n",
              "      filter: drop-shadow(0px 1px 2px rgba(0, 0, 0, 0.3));\n",
              "      fill: #FFFFFF;\n",
              "    }\n",
              "  </style>\n",
              "\n",
              "      <script>\n",
              "        const buttonEl =\n",
              "          document.querySelector('#df-3509961c-6d2e-45d5-a507-c349b4457a6f button.colab-df-convert');\n",
              "        buttonEl.style.display =\n",
              "          google.colab.kernel.accessAllowed ? 'block' : 'none';\n",
              "\n",
              "        async function convertToInteractive(key) {\n",
              "          const element = document.querySelector('#df-3509961c-6d2e-45d5-a507-c349b4457a6f');\n",
              "          const dataTable =\n",
              "            await google.colab.kernel.invokeFunction('convertToInteractive',\n",
              "                                                     [key], {});\n",
              "          if (!dataTable) return;\n",
              "\n",
              "          const docLinkHtml = 'Like what you see? Visit the ' +\n",
              "            '<a target=\"_blank\" href=https://colab.research.google.com/notebooks/data_table.ipynb>data table notebook</a>'\n",
              "            + ' to learn more about interactive tables.';\n",
              "          element.innerHTML = '';\n",
              "          dataTable['output_type'] = 'display_data';\n",
              "          await google.colab.output.renderOutput(dataTable, element);\n",
              "          const docLink = document.createElement('div');\n",
              "          docLink.innerHTML = docLinkHtml;\n",
              "          element.appendChild(docLink);\n",
              "        }\n",
              "      </script>\n",
              "    </div>\n",
              "  </div>\n",
              "  "
            ]
          },
          "metadata": {},
          "execution_count": 8
        }
      ]
    },
    {
      "cell_type": "code",
      "source": [
        "# 적절한 값으로 날짜변환\n",
        "df['date'] = pd.to_datetime(df['time_stamp']*(10**6))\n",
        "df.head()"
      ],
      "metadata": {
        "colab": {
          "base_uri": "https://localhost:8080/",
          "height": 337
        },
        "id": "RtD4hr1v-dt1",
        "outputId": "3911bf21-1169-46ee-f8d3-79b4b1227504"
      },
      "execution_count": 9,
      "outputs": [
        {
          "output_type": "execute_result",
          "data": {
            "text/plain": [
              "   distance cab_type     time_stamp    destination            source  price  \\\n",
              "0      0.44     Lyft  1544952607890  North Station  Haymarket Square    5.0   \n",
              "1      0.44     Lyft  1543284023677  North Station  Haymarket Square   11.0   \n",
              "2      0.44     Lyft  1543366822198  North Station  Haymarket Square    7.0   \n",
              "3      0.44     Lyft  1543553582749  North Station  Haymarket Square   26.0   \n",
              "4      0.44     Lyft  1543463360223  North Station  Haymarket Square    9.0   \n",
              "\n",
              "   surge_multiplier                                    id    product_id  \\\n",
              "0               1.0  424553bb-7174-41ea-aeb4-fe06d4f4b9d7     lyft_line   \n",
              "1               1.0  4bd23055-6827-41c6-b23b-3c491f24e74d  lyft_premier   \n",
              "2               1.0  981a3613-77af-4620-a42a-0c0866077d1e          lyft   \n",
              "3               1.0  c2d88af2-d278-4bfd-a8d0-29ca77cc5512   lyft_luxsuv   \n",
              "4               1.0  e0126e1f-8ca9-4f2e-82b3-50505a09db9a     lyft_plus   \n",
              "\n",
              "           name                    date  \n",
              "0        Shared 2018-12-16 09:30:07.890  \n",
              "1           Lux 2018-11-27 02:00:23.677  \n",
              "2          Lyft 2018-11-28 01:00:22.198  \n",
              "3  Lux Black XL 2018-11-30 04:53:02.749  \n",
              "4       Lyft XL 2018-11-29 03:49:20.223  "
            ],
            "text/html": [
              "\n",
              "  <div id=\"df-2213eb9d-d1b8-40ad-be78-44dca7a60591\">\n",
              "    <div class=\"colab-df-container\">\n",
              "      <div>\n",
              "<style scoped>\n",
              "    .dataframe tbody tr th:only-of-type {\n",
              "        vertical-align: middle;\n",
              "    }\n",
              "\n",
              "    .dataframe tbody tr th {\n",
              "        vertical-align: top;\n",
              "    }\n",
              "\n",
              "    .dataframe thead th {\n",
              "        text-align: right;\n",
              "    }\n",
              "</style>\n",
              "<table border=\"1\" class=\"dataframe\">\n",
              "  <thead>\n",
              "    <tr style=\"text-align: right;\">\n",
              "      <th></th>\n",
              "      <th>distance</th>\n",
              "      <th>cab_type</th>\n",
              "      <th>time_stamp</th>\n",
              "      <th>destination</th>\n",
              "      <th>source</th>\n",
              "      <th>price</th>\n",
              "      <th>surge_multiplier</th>\n",
              "      <th>id</th>\n",
              "      <th>product_id</th>\n",
              "      <th>name</th>\n",
              "      <th>date</th>\n",
              "    </tr>\n",
              "  </thead>\n",
              "  <tbody>\n",
              "    <tr>\n",
              "      <th>0</th>\n",
              "      <td>0.44</td>\n",
              "      <td>Lyft</td>\n",
              "      <td>1544952607890</td>\n",
              "      <td>North Station</td>\n",
              "      <td>Haymarket Square</td>\n",
              "      <td>5.0</td>\n",
              "      <td>1.0</td>\n",
              "      <td>424553bb-7174-41ea-aeb4-fe06d4f4b9d7</td>\n",
              "      <td>lyft_line</td>\n",
              "      <td>Shared</td>\n",
              "      <td>2018-12-16 09:30:07.890</td>\n",
              "    </tr>\n",
              "    <tr>\n",
              "      <th>1</th>\n",
              "      <td>0.44</td>\n",
              "      <td>Lyft</td>\n",
              "      <td>1543284023677</td>\n",
              "      <td>North Station</td>\n",
              "      <td>Haymarket Square</td>\n",
              "      <td>11.0</td>\n",
              "      <td>1.0</td>\n",
              "      <td>4bd23055-6827-41c6-b23b-3c491f24e74d</td>\n",
              "      <td>lyft_premier</td>\n",
              "      <td>Lux</td>\n",
              "      <td>2018-11-27 02:00:23.677</td>\n",
              "    </tr>\n",
              "    <tr>\n",
              "      <th>2</th>\n",
              "      <td>0.44</td>\n",
              "      <td>Lyft</td>\n",
              "      <td>1543366822198</td>\n",
              "      <td>North Station</td>\n",
              "      <td>Haymarket Square</td>\n",
              "      <td>7.0</td>\n",
              "      <td>1.0</td>\n",
              "      <td>981a3613-77af-4620-a42a-0c0866077d1e</td>\n",
              "      <td>lyft</td>\n",
              "      <td>Lyft</td>\n",
              "      <td>2018-11-28 01:00:22.198</td>\n",
              "    </tr>\n",
              "    <tr>\n",
              "      <th>3</th>\n",
              "      <td>0.44</td>\n",
              "      <td>Lyft</td>\n",
              "      <td>1543553582749</td>\n",
              "      <td>North Station</td>\n",
              "      <td>Haymarket Square</td>\n",
              "      <td>26.0</td>\n",
              "      <td>1.0</td>\n",
              "      <td>c2d88af2-d278-4bfd-a8d0-29ca77cc5512</td>\n",
              "      <td>lyft_luxsuv</td>\n",
              "      <td>Lux Black XL</td>\n",
              "      <td>2018-11-30 04:53:02.749</td>\n",
              "    </tr>\n",
              "    <tr>\n",
              "      <th>4</th>\n",
              "      <td>0.44</td>\n",
              "      <td>Lyft</td>\n",
              "      <td>1543463360223</td>\n",
              "      <td>North Station</td>\n",
              "      <td>Haymarket Square</td>\n",
              "      <td>9.0</td>\n",
              "      <td>1.0</td>\n",
              "      <td>e0126e1f-8ca9-4f2e-82b3-50505a09db9a</td>\n",
              "      <td>lyft_plus</td>\n",
              "      <td>Lyft XL</td>\n",
              "      <td>2018-11-29 03:49:20.223</td>\n",
              "    </tr>\n",
              "  </tbody>\n",
              "</table>\n",
              "</div>\n",
              "      <button class=\"colab-df-convert\" onclick=\"convertToInteractive('df-2213eb9d-d1b8-40ad-be78-44dca7a60591')\"\n",
              "              title=\"Convert this dataframe to an interactive table.\"\n",
              "              style=\"display:none;\">\n",
              "        \n",
              "  <svg xmlns=\"http://www.w3.org/2000/svg\" height=\"24px\"viewBox=\"0 0 24 24\"\n",
              "       width=\"24px\">\n",
              "    <path d=\"M0 0h24v24H0V0z\" fill=\"none\"/>\n",
              "    <path d=\"M18.56 5.44l.94 2.06.94-2.06 2.06-.94-2.06-.94-.94-2.06-.94 2.06-2.06.94zm-11 1L8.5 8.5l.94-2.06 2.06-.94-2.06-.94L8.5 2.5l-.94 2.06-2.06.94zm10 10l.94 2.06.94-2.06 2.06-.94-2.06-.94-.94-2.06-.94 2.06-2.06.94z\"/><path d=\"M17.41 7.96l-1.37-1.37c-.4-.4-.92-.59-1.43-.59-.52 0-1.04.2-1.43.59L10.3 9.45l-7.72 7.72c-.78.78-.78 2.05 0 2.83L4 21.41c.39.39.9.59 1.41.59.51 0 1.02-.2 1.41-.59l7.78-7.78 2.81-2.81c.8-.78.8-2.07 0-2.86zM5.41 20L4 18.59l7.72-7.72 1.47 1.35L5.41 20z\"/>\n",
              "  </svg>\n",
              "      </button>\n",
              "      \n",
              "  <style>\n",
              "    .colab-df-container {\n",
              "      display:flex;\n",
              "      flex-wrap:wrap;\n",
              "      gap: 12px;\n",
              "    }\n",
              "\n",
              "    .colab-df-convert {\n",
              "      background-color: #E8F0FE;\n",
              "      border: none;\n",
              "      border-radius: 50%;\n",
              "      cursor: pointer;\n",
              "      display: none;\n",
              "      fill: #1967D2;\n",
              "      height: 32px;\n",
              "      padding: 0 0 0 0;\n",
              "      width: 32px;\n",
              "    }\n",
              "\n",
              "    .colab-df-convert:hover {\n",
              "      background-color: #E2EBFA;\n",
              "      box-shadow: 0px 1px 2px rgba(60, 64, 67, 0.3), 0px 1px 3px 1px rgba(60, 64, 67, 0.15);\n",
              "      fill: #174EA6;\n",
              "    }\n",
              "\n",
              "    [theme=dark] .colab-df-convert {\n",
              "      background-color: #3B4455;\n",
              "      fill: #D2E3FC;\n",
              "    }\n",
              "\n",
              "    [theme=dark] .colab-df-convert:hover {\n",
              "      background-color: #434B5C;\n",
              "      box-shadow: 0px 1px 3px 1px rgba(0, 0, 0, 0.15);\n",
              "      filter: drop-shadow(0px 1px 2px rgba(0, 0, 0, 0.3));\n",
              "      fill: #FFFFFF;\n",
              "    }\n",
              "  </style>\n",
              "\n",
              "      <script>\n",
              "        const buttonEl =\n",
              "          document.querySelector('#df-2213eb9d-d1b8-40ad-be78-44dca7a60591 button.colab-df-convert');\n",
              "        buttonEl.style.display =\n",
              "          google.colab.kernel.accessAllowed ? 'block' : 'none';\n",
              "\n",
              "        async function convertToInteractive(key) {\n",
              "          const element = document.querySelector('#df-2213eb9d-d1b8-40ad-be78-44dca7a60591');\n",
              "          const dataTable =\n",
              "            await google.colab.kernel.invokeFunction('convertToInteractive',\n",
              "                                                     [key], {});\n",
              "          if (!dataTable) return;\n",
              "\n",
              "          const docLinkHtml = 'Like what you see? Visit the ' +\n",
              "            '<a target=\"_blank\" href=https://colab.research.google.com/notebooks/data_table.ipynb>data table notebook</a>'\n",
              "            + ' to learn more about interactive tables.';\n",
              "          element.innerHTML = '';\n",
              "          dataTable['output_type'] = 'display_data';\n",
              "          await google.colab.output.renderOutput(dataTable, element);\n",
              "          const docLink = document.createElement('div');\n",
              "          docLink.innerHTML = docLinkHtml;\n",
              "          element.appendChild(docLink);\n",
              "        }\n",
              "      </script>\n",
              "    </div>\n",
              "  </div>\n",
              "  "
            ]
          },
          "metadata": {},
          "execution_count": 9
        }
      ]
    },
    {
      "cell_type": "code",
      "source": [
        "# date열에서 새로운 열 생성\n",
        "import datetime as dt\n",
        "df['month'] = df['date'].dt.month\n",
        "df['hour'] = df['date'].dt.hour\n",
        "df['dayofweek'] = df['date'].dt.dayofweek"
      ],
      "metadata": {
        "id": "qIcq5oGa-70d"
      },
      "execution_count": 10,
      "outputs": []
    },
    {
      "cell_type": "code",
      "source": [
        "# 새로운 열을 사용하여 주말인지 아닌지 여부를 나타내는 특성 추가\n",
        "def weekend(row):\n",
        "  if row['dayofweek'] in [5,6]:\n",
        "    return 1\n",
        "  else:\n",
        "    return 0"
      ],
      "metadata": {
        "id": "EuwFpccb_t0T"
      },
      "execution_count": 11,
      "outputs": []
    },
    {
      "cell_type": "code",
      "source": [
        "df['weekend'] = df.apply(weekend, axis=1)"
      ],
      "metadata": {
        "id": "7GB4nE4DA6LX"
      },
      "execution_count": 12,
      "outputs": []
    },
    {
      "cell_type": "markdown",
      "source": [
        "> * 건물 용도분류할때 주말인지 아닌지 여부를 나타내는 특성을 추가하면 성능향상에 도움이 되지 않을까? "
      ],
      "metadata": {
        "id": "fCsMxoTaAqK9"
      }
    },
    {
      "cell_type": "code",
      "source": [
        "# 러시아워인지 아닌지 여부를 나타내는 특성 추가\n",
        "def rush_hour(row):\n",
        "  if (row['hour'] in [6,7,8,9,15,16,17,18]) & (row['weekend'] == 0):\n",
        "    return 1\n",
        "  else:\n",
        "    return 0"
      ],
      "metadata": {
        "id": "uKKLKwmf94IU"
      },
      "execution_count": 13,
      "outputs": []
    },
    {
      "cell_type": "code",
      "source": [
        "df['rush_hour'] = df.apply(rush_hour, axis=1)"
      ],
      "metadata": {
        "id": "x5SCA4PPBPcm"
      },
      "execution_count": 14,
      "outputs": []
    },
    {
      "cell_type": "code",
      "source": [
        "df.tail()"
      ],
      "metadata": {
        "colab": {
          "base_uri": "https://localhost:8080/",
          "height": 513
        },
        "id": "2ehOrObBBTyG",
        "outputId": "99a2ae15-5e9f-46a4-b75a-343bcd22b664"
      },
      "execution_count": 15,
      "outputs": [
        {
          "output_type": "execute_result",
          "data": {
            "text/plain": [
              "      distance cab_type     time_stamp       destination  \\\n",
              "9995      3.05     Uber  1543504379037            Fenway   \n",
              "9996      3.05     Uber  1543800477997            Fenway   \n",
              "9997      3.05     Uber  1543407083241            Fenway   \n",
              "9998      3.05     Uber  1544896813623            Fenway   \n",
              "9999      2.03     Lyft  1543812781166  Theatre District   \n",
              "\n",
              "                       source  price  surge_multiplier  \\\n",
              "9995            North Station   11.5               1.0   \n",
              "9996            North Station   26.0               1.0   \n",
              "9997            North Station   19.5               1.0   \n",
              "9998            North Station   36.5               1.0   \n",
              "9999  Northeastern University    7.0               1.0   \n",
              "\n",
              "                                        id  \\\n",
              "9995  934d2fbe-f978-4495-9786-da7b4dd21107   \n",
              "9996  af8fd57c-fe7c-4584-bd1f-beef1a53ad42   \n",
              "9997  b3c5db97-554b-47bf-908b-3ac880e86103   \n",
              "9998  fcb35184-9047-43f7-8909-f62a7b17b6cf   \n",
              "9999  7f0e8caf-e057-41eb-bdef-27eb14c88122   \n",
              "\n",
              "                                product_id       name                    date  \\\n",
              "9995  997acbb5-e102-41e1-b155-9df7de0a73f2   UberPool 2018-11-29 15:12:59.037   \n",
              "9996  6c84fd89-3f11-4782-9b50-97c468b19529      Black 2018-12-03 01:27:57.997   \n",
              "9997  6f72dfc5-27f1-42e8-84db-ccc7a75f6969     UberXL 2018-11-28 12:11:23.241   \n",
              "9998  6d318bcc-22a3-4af6-bddd-b409bfce1546  Black SUV 2018-12-15 18:00:13.623   \n",
              "9999                             lyft_line     Shared 2018-12-03 04:53:01.166   \n",
              "\n",
              "      month  hour  dayofweek  weekend  rush_hour  \n",
              "9995     11    15          3        0          1  \n",
              "9996     12     1          0        0          0  \n",
              "9997     11    12          2        0          0  \n",
              "9998     12    18          5        1          0  \n",
              "9999     12     4          0        0          0  "
            ],
            "text/html": [
              "\n",
              "  <div id=\"df-af1a2281-7371-443e-bc3a-be02b5bd32f9\">\n",
              "    <div class=\"colab-df-container\">\n",
              "      <div>\n",
              "<style scoped>\n",
              "    .dataframe tbody tr th:only-of-type {\n",
              "        vertical-align: middle;\n",
              "    }\n",
              "\n",
              "    .dataframe tbody tr th {\n",
              "        vertical-align: top;\n",
              "    }\n",
              "\n",
              "    .dataframe thead th {\n",
              "        text-align: right;\n",
              "    }\n",
              "</style>\n",
              "<table border=\"1\" class=\"dataframe\">\n",
              "  <thead>\n",
              "    <tr style=\"text-align: right;\">\n",
              "      <th></th>\n",
              "      <th>distance</th>\n",
              "      <th>cab_type</th>\n",
              "      <th>time_stamp</th>\n",
              "      <th>destination</th>\n",
              "      <th>source</th>\n",
              "      <th>price</th>\n",
              "      <th>surge_multiplier</th>\n",
              "      <th>id</th>\n",
              "      <th>product_id</th>\n",
              "      <th>name</th>\n",
              "      <th>date</th>\n",
              "      <th>month</th>\n",
              "      <th>hour</th>\n",
              "      <th>dayofweek</th>\n",
              "      <th>weekend</th>\n",
              "      <th>rush_hour</th>\n",
              "    </tr>\n",
              "  </thead>\n",
              "  <tbody>\n",
              "    <tr>\n",
              "      <th>9995</th>\n",
              "      <td>3.05</td>\n",
              "      <td>Uber</td>\n",
              "      <td>1543504379037</td>\n",
              "      <td>Fenway</td>\n",
              "      <td>North Station</td>\n",
              "      <td>11.5</td>\n",
              "      <td>1.0</td>\n",
              "      <td>934d2fbe-f978-4495-9786-da7b4dd21107</td>\n",
              "      <td>997acbb5-e102-41e1-b155-9df7de0a73f2</td>\n",
              "      <td>UberPool</td>\n",
              "      <td>2018-11-29 15:12:59.037</td>\n",
              "      <td>11</td>\n",
              "      <td>15</td>\n",
              "      <td>3</td>\n",
              "      <td>0</td>\n",
              "      <td>1</td>\n",
              "    </tr>\n",
              "    <tr>\n",
              "      <th>9996</th>\n",
              "      <td>3.05</td>\n",
              "      <td>Uber</td>\n",
              "      <td>1543800477997</td>\n",
              "      <td>Fenway</td>\n",
              "      <td>North Station</td>\n",
              "      <td>26.0</td>\n",
              "      <td>1.0</td>\n",
              "      <td>af8fd57c-fe7c-4584-bd1f-beef1a53ad42</td>\n",
              "      <td>6c84fd89-3f11-4782-9b50-97c468b19529</td>\n",
              "      <td>Black</td>\n",
              "      <td>2018-12-03 01:27:57.997</td>\n",
              "      <td>12</td>\n",
              "      <td>1</td>\n",
              "      <td>0</td>\n",
              "      <td>0</td>\n",
              "      <td>0</td>\n",
              "    </tr>\n",
              "    <tr>\n",
              "      <th>9997</th>\n",
              "      <td>3.05</td>\n",
              "      <td>Uber</td>\n",
              "      <td>1543407083241</td>\n",
              "      <td>Fenway</td>\n",
              "      <td>North Station</td>\n",
              "      <td>19.5</td>\n",
              "      <td>1.0</td>\n",
              "      <td>b3c5db97-554b-47bf-908b-3ac880e86103</td>\n",
              "      <td>6f72dfc5-27f1-42e8-84db-ccc7a75f6969</td>\n",
              "      <td>UberXL</td>\n",
              "      <td>2018-11-28 12:11:23.241</td>\n",
              "      <td>11</td>\n",
              "      <td>12</td>\n",
              "      <td>2</td>\n",
              "      <td>0</td>\n",
              "      <td>0</td>\n",
              "    </tr>\n",
              "    <tr>\n",
              "      <th>9998</th>\n",
              "      <td>3.05</td>\n",
              "      <td>Uber</td>\n",
              "      <td>1544896813623</td>\n",
              "      <td>Fenway</td>\n",
              "      <td>North Station</td>\n",
              "      <td>36.5</td>\n",
              "      <td>1.0</td>\n",
              "      <td>fcb35184-9047-43f7-8909-f62a7b17b6cf</td>\n",
              "      <td>6d318bcc-22a3-4af6-bddd-b409bfce1546</td>\n",
              "      <td>Black SUV</td>\n",
              "      <td>2018-12-15 18:00:13.623</td>\n",
              "      <td>12</td>\n",
              "      <td>18</td>\n",
              "      <td>5</td>\n",
              "      <td>1</td>\n",
              "      <td>0</td>\n",
              "    </tr>\n",
              "    <tr>\n",
              "      <th>9999</th>\n",
              "      <td>2.03</td>\n",
              "      <td>Lyft</td>\n",
              "      <td>1543812781166</td>\n",
              "      <td>Theatre District</td>\n",
              "      <td>Northeastern University</td>\n",
              "      <td>7.0</td>\n",
              "      <td>1.0</td>\n",
              "      <td>7f0e8caf-e057-41eb-bdef-27eb14c88122</td>\n",
              "      <td>lyft_line</td>\n",
              "      <td>Shared</td>\n",
              "      <td>2018-12-03 04:53:01.166</td>\n",
              "      <td>12</td>\n",
              "      <td>4</td>\n",
              "      <td>0</td>\n",
              "      <td>0</td>\n",
              "      <td>0</td>\n",
              "    </tr>\n",
              "  </tbody>\n",
              "</table>\n",
              "</div>\n",
              "      <button class=\"colab-df-convert\" onclick=\"convertToInteractive('df-af1a2281-7371-443e-bc3a-be02b5bd32f9')\"\n",
              "              title=\"Convert this dataframe to an interactive table.\"\n",
              "              style=\"display:none;\">\n",
              "        \n",
              "  <svg xmlns=\"http://www.w3.org/2000/svg\" height=\"24px\"viewBox=\"0 0 24 24\"\n",
              "       width=\"24px\">\n",
              "    <path d=\"M0 0h24v24H0V0z\" fill=\"none\"/>\n",
              "    <path d=\"M18.56 5.44l.94 2.06.94-2.06 2.06-.94-2.06-.94-.94-2.06-.94 2.06-2.06.94zm-11 1L8.5 8.5l.94-2.06 2.06-.94-2.06-.94L8.5 2.5l-.94 2.06-2.06.94zm10 10l.94 2.06.94-2.06 2.06-.94-2.06-.94-.94-2.06-.94 2.06-2.06.94z\"/><path d=\"M17.41 7.96l-1.37-1.37c-.4-.4-.92-.59-1.43-.59-.52 0-1.04.2-1.43.59L10.3 9.45l-7.72 7.72c-.78.78-.78 2.05 0 2.83L4 21.41c.39.39.9.59 1.41.59.51 0 1.02-.2 1.41-.59l7.78-7.78 2.81-2.81c.8-.78.8-2.07 0-2.86zM5.41 20L4 18.59l7.72-7.72 1.47 1.35L5.41 20z\"/>\n",
              "  </svg>\n",
              "      </button>\n",
              "      \n",
              "  <style>\n",
              "    .colab-df-container {\n",
              "      display:flex;\n",
              "      flex-wrap:wrap;\n",
              "      gap: 12px;\n",
              "    }\n",
              "\n",
              "    .colab-df-convert {\n",
              "      background-color: #E8F0FE;\n",
              "      border: none;\n",
              "      border-radius: 50%;\n",
              "      cursor: pointer;\n",
              "      display: none;\n",
              "      fill: #1967D2;\n",
              "      height: 32px;\n",
              "      padding: 0 0 0 0;\n",
              "      width: 32px;\n",
              "    }\n",
              "\n",
              "    .colab-df-convert:hover {\n",
              "      background-color: #E2EBFA;\n",
              "      box-shadow: 0px 1px 2px rgba(60, 64, 67, 0.3), 0px 1px 3px 1px rgba(60, 64, 67, 0.15);\n",
              "      fill: #174EA6;\n",
              "    }\n",
              "\n",
              "    [theme=dark] .colab-df-convert {\n",
              "      background-color: #3B4455;\n",
              "      fill: #D2E3FC;\n",
              "    }\n",
              "\n",
              "    [theme=dark] .colab-df-convert:hover {\n",
              "      background-color: #434B5C;\n",
              "      box-shadow: 0px 1px 3px 1px rgba(0, 0, 0, 0.15);\n",
              "      filter: drop-shadow(0px 1px 2px rgba(0, 0, 0, 0.3));\n",
              "      fill: #FFFFFF;\n",
              "    }\n",
              "  </style>\n",
              "\n",
              "      <script>\n",
              "        const buttonEl =\n",
              "          document.querySelector('#df-af1a2281-7371-443e-bc3a-be02b5bd32f9 button.colab-df-convert');\n",
              "        buttonEl.style.display =\n",
              "          google.colab.kernel.accessAllowed ? 'block' : 'none';\n",
              "\n",
              "        async function convertToInteractive(key) {\n",
              "          const element = document.querySelector('#df-af1a2281-7371-443e-bc3a-be02b5bd32f9');\n",
              "          const dataTable =\n",
              "            await google.colab.kernel.invokeFunction('convertToInteractive',\n",
              "                                                     [key], {});\n",
              "          if (!dataTable) return;\n",
              "\n",
              "          const docLinkHtml = 'Like what you see? Visit the ' +\n",
              "            '<a target=\"_blank\" href=https://colab.research.google.com/notebooks/data_table.ipynb>data table notebook</a>'\n",
              "            + ' to learn more about interactive tables.';\n",
              "          element.innerHTML = '';\n",
              "          dataTable['output_type'] = 'display_data';\n",
              "          await google.colab.output.renderOutput(dataTable, element);\n",
              "          const docLink = document.createElement('div');\n",
              "          docLink.innerHTML = docLinkHtml;\n",
              "          element.appendChild(docLink);\n",
              "        }\n",
              "      </script>\n",
              "    </div>\n",
              "  </div>\n",
              "  "
            ]
          },
          "metadata": {},
          "execution_count": 15
        }
      ]
    },
    {
      "cell_type": "markdown",
      "source": [
        "> **범주형 데이터**\n",
        "> * 범주형 데이터를 0과 1로 이로어진 희소행렬로 변환하는 OneHotEncoder를 사용\n",
        "> * 각 범주가 나타난 빈도로 범주형 특성을 변환: 범주형 특성에 있는 각 범주가 백분률로 변환"
      ],
      "metadata": {
        "id": "Eb0TaRU2B1oO"
      }
    },
    {
      "cell_type": "code",
      "source": [
        "# 빈도 확인\n",
        "df['cab_type'].value_counts()"
      ],
      "metadata": {
        "colab": {
          "base_uri": "https://localhost:8080/"
        },
        "id": "DADJiBCUBU9f",
        "outputId": "0f55bf36-8205-4d26-ffef-99cbe8bbb183"
      },
      "execution_count": 16,
      "outputs": [
        {
          "output_type": "execute_result",
          "data": {
            "text/plain": [
              "Uber    4654\n",
              "Lyft    4573\n",
              "Name: cab_type, dtype: int64"
            ]
          },
          "metadata": {},
          "execution_count": 16
        }
      ]
    },
    {
      "cell_type": "code",
      "source": [
        "df['cab_freq'] = df.groupby('cab_type')['cab_type'].transform('count')\n",
        "df['cab_freq'] = df['cab_freq']/len(df)"
      ],
      "metadata": {
        "id": "mbOdzwZyDs3P"
      },
      "execution_count": 17,
      "outputs": []
    },
    {
      "cell_type": "code",
      "source": [
        "df.tail()"
      ],
      "metadata": {
        "colab": {
          "base_uri": "https://localhost:8080/",
          "height": 513
        },
        "id": "rtlnOa2qEJpH",
        "outputId": "7ad37b70-1a54-4e37-96fe-82450c93d4c9"
      },
      "execution_count": 18,
      "outputs": [
        {
          "output_type": "execute_result",
          "data": {
            "text/plain": [
              "      distance cab_type     time_stamp       destination  \\\n",
              "9995      3.05     Uber  1543504379037            Fenway   \n",
              "9996      3.05     Uber  1543800477997            Fenway   \n",
              "9997      3.05     Uber  1543407083241            Fenway   \n",
              "9998      3.05     Uber  1544896813623            Fenway   \n",
              "9999      2.03     Lyft  1543812781166  Theatre District   \n",
              "\n",
              "                       source  price  surge_multiplier  \\\n",
              "9995            North Station   11.5               1.0   \n",
              "9996            North Station   26.0               1.0   \n",
              "9997            North Station   19.5               1.0   \n",
              "9998            North Station   36.5               1.0   \n",
              "9999  Northeastern University    7.0               1.0   \n",
              "\n",
              "                                        id  \\\n",
              "9995  934d2fbe-f978-4495-9786-da7b4dd21107   \n",
              "9996  af8fd57c-fe7c-4584-bd1f-beef1a53ad42   \n",
              "9997  b3c5db97-554b-47bf-908b-3ac880e86103   \n",
              "9998  fcb35184-9047-43f7-8909-f62a7b17b6cf   \n",
              "9999  7f0e8caf-e057-41eb-bdef-27eb14c88122   \n",
              "\n",
              "                                product_id       name                    date  \\\n",
              "9995  997acbb5-e102-41e1-b155-9df7de0a73f2   UberPool 2018-11-29 15:12:59.037   \n",
              "9996  6c84fd89-3f11-4782-9b50-97c468b19529      Black 2018-12-03 01:27:57.997   \n",
              "9997  6f72dfc5-27f1-42e8-84db-ccc7a75f6969     UberXL 2018-11-28 12:11:23.241   \n",
              "9998  6d318bcc-22a3-4af6-bddd-b409bfce1546  Black SUV 2018-12-15 18:00:13.623   \n",
              "9999                             lyft_line     Shared 2018-12-03 04:53:01.166   \n",
              "\n",
              "      month  hour  dayofweek  weekend  rush_hour  cab_freq  \n",
              "9995     11    15          3        0          1  0.504389  \n",
              "9996     12     1          0        0          0  0.504389  \n",
              "9997     11    12          2        0          0  0.504389  \n",
              "9998     12    18          5        1          0  0.504389  \n",
              "9999     12     4          0        0          0  0.495611  "
            ],
            "text/html": [
              "\n",
              "  <div id=\"df-790354c8-6c39-4467-93e5-50e3de24fc01\">\n",
              "    <div class=\"colab-df-container\">\n",
              "      <div>\n",
              "<style scoped>\n",
              "    .dataframe tbody tr th:only-of-type {\n",
              "        vertical-align: middle;\n",
              "    }\n",
              "\n",
              "    .dataframe tbody tr th {\n",
              "        vertical-align: top;\n",
              "    }\n",
              "\n",
              "    .dataframe thead th {\n",
              "        text-align: right;\n",
              "    }\n",
              "</style>\n",
              "<table border=\"1\" class=\"dataframe\">\n",
              "  <thead>\n",
              "    <tr style=\"text-align: right;\">\n",
              "      <th></th>\n",
              "      <th>distance</th>\n",
              "      <th>cab_type</th>\n",
              "      <th>time_stamp</th>\n",
              "      <th>destination</th>\n",
              "      <th>source</th>\n",
              "      <th>price</th>\n",
              "      <th>surge_multiplier</th>\n",
              "      <th>id</th>\n",
              "      <th>product_id</th>\n",
              "      <th>name</th>\n",
              "      <th>date</th>\n",
              "      <th>month</th>\n",
              "      <th>hour</th>\n",
              "      <th>dayofweek</th>\n",
              "      <th>weekend</th>\n",
              "      <th>rush_hour</th>\n",
              "      <th>cab_freq</th>\n",
              "    </tr>\n",
              "  </thead>\n",
              "  <tbody>\n",
              "    <tr>\n",
              "      <th>9995</th>\n",
              "      <td>3.05</td>\n",
              "      <td>Uber</td>\n",
              "      <td>1543504379037</td>\n",
              "      <td>Fenway</td>\n",
              "      <td>North Station</td>\n",
              "      <td>11.5</td>\n",
              "      <td>1.0</td>\n",
              "      <td>934d2fbe-f978-4495-9786-da7b4dd21107</td>\n",
              "      <td>997acbb5-e102-41e1-b155-9df7de0a73f2</td>\n",
              "      <td>UberPool</td>\n",
              "      <td>2018-11-29 15:12:59.037</td>\n",
              "      <td>11</td>\n",
              "      <td>15</td>\n",
              "      <td>3</td>\n",
              "      <td>0</td>\n",
              "      <td>1</td>\n",
              "      <td>0.504389</td>\n",
              "    </tr>\n",
              "    <tr>\n",
              "      <th>9996</th>\n",
              "      <td>3.05</td>\n",
              "      <td>Uber</td>\n",
              "      <td>1543800477997</td>\n",
              "      <td>Fenway</td>\n",
              "      <td>North Station</td>\n",
              "      <td>26.0</td>\n",
              "      <td>1.0</td>\n",
              "      <td>af8fd57c-fe7c-4584-bd1f-beef1a53ad42</td>\n",
              "      <td>6c84fd89-3f11-4782-9b50-97c468b19529</td>\n",
              "      <td>Black</td>\n",
              "      <td>2018-12-03 01:27:57.997</td>\n",
              "      <td>12</td>\n",
              "      <td>1</td>\n",
              "      <td>0</td>\n",
              "      <td>0</td>\n",
              "      <td>0</td>\n",
              "      <td>0.504389</td>\n",
              "    </tr>\n",
              "    <tr>\n",
              "      <th>9997</th>\n",
              "      <td>3.05</td>\n",
              "      <td>Uber</td>\n",
              "      <td>1543407083241</td>\n",
              "      <td>Fenway</td>\n",
              "      <td>North Station</td>\n",
              "      <td>19.5</td>\n",
              "      <td>1.0</td>\n",
              "      <td>b3c5db97-554b-47bf-908b-3ac880e86103</td>\n",
              "      <td>6f72dfc5-27f1-42e8-84db-ccc7a75f6969</td>\n",
              "      <td>UberXL</td>\n",
              "      <td>2018-11-28 12:11:23.241</td>\n",
              "      <td>11</td>\n",
              "      <td>12</td>\n",
              "      <td>2</td>\n",
              "      <td>0</td>\n",
              "      <td>0</td>\n",
              "      <td>0.504389</td>\n",
              "    </tr>\n",
              "    <tr>\n",
              "      <th>9998</th>\n",
              "      <td>3.05</td>\n",
              "      <td>Uber</td>\n",
              "      <td>1544896813623</td>\n",
              "      <td>Fenway</td>\n",
              "      <td>North Station</td>\n",
              "      <td>36.5</td>\n",
              "      <td>1.0</td>\n",
              "      <td>fcb35184-9047-43f7-8909-f62a7b17b6cf</td>\n",
              "      <td>6d318bcc-22a3-4af6-bddd-b409bfce1546</td>\n",
              "      <td>Black SUV</td>\n",
              "      <td>2018-12-15 18:00:13.623</td>\n",
              "      <td>12</td>\n",
              "      <td>18</td>\n",
              "      <td>5</td>\n",
              "      <td>1</td>\n",
              "      <td>0</td>\n",
              "      <td>0.504389</td>\n",
              "    </tr>\n",
              "    <tr>\n",
              "      <th>9999</th>\n",
              "      <td>2.03</td>\n",
              "      <td>Lyft</td>\n",
              "      <td>1543812781166</td>\n",
              "      <td>Theatre District</td>\n",
              "      <td>Northeastern University</td>\n",
              "      <td>7.0</td>\n",
              "      <td>1.0</td>\n",
              "      <td>7f0e8caf-e057-41eb-bdef-27eb14c88122</td>\n",
              "      <td>lyft_line</td>\n",
              "      <td>Shared</td>\n",
              "      <td>2018-12-03 04:53:01.166</td>\n",
              "      <td>12</td>\n",
              "      <td>4</td>\n",
              "      <td>0</td>\n",
              "      <td>0</td>\n",
              "      <td>0</td>\n",
              "      <td>0.495611</td>\n",
              "    </tr>\n",
              "  </tbody>\n",
              "</table>\n",
              "</div>\n",
              "      <button class=\"colab-df-convert\" onclick=\"convertToInteractive('df-790354c8-6c39-4467-93e5-50e3de24fc01')\"\n",
              "              title=\"Convert this dataframe to an interactive table.\"\n",
              "              style=\"display:none;\">\n",
              "        \n",
              "  <svg xmlns=\"http://www.w3.org/2000/svg\" height=\"24px\"viewBox=\"0 0 24 24\"\n",
              "       width=\"24px\">\n",
              "    <path d=\"M0 0h24v24H0V0z\" fill=\"none\"/>\n",
              "    <path d=\"M18.56 5.44l.94 2.06.94-2.06 2.06-.94-2.06-.94-.94-2.06-.94 2.06-2.06.94zm-11 1L8.5 8.5l.94-2.06 2.06-.94-2.06-.94L8.5 2.5l-.94 2.06-2.06.94zm10 10l.94 2.06.94-2.06 2.06-.94-2.06-.94-.94-2.06-.94 2.06-2.06.94z\"/><path d=\"M17.41 7.96l-1.37-1.37c-.4-.4-.92-.59-1.43-.59-.52 0-1.04.2-1.43.59L10.3 9.45l-7.72 7.72c-.78.78-.78 2.05 0 2.83L4 21.41c.39.39.9.59 1.41.59.51 0 1.02-.2 1.41-.59l7.78-7.78 2.81-2.81c.8-.78.8-2.07 0-2.86zM5.41 20L4 18.59l7.72-7.72 1.47 1.35L5.41 20z\"/>\n",
              "  </svg>\n",
              "      </button>\n",
              "      \n",
              "  <style>\n",
              "    .colab-df-container {\n",
              "      display:flex;\n",
              "      flex-wrap:wrap;\n",
              "      gap: 12px;\n",
              "    }\n",
              "\n",
              "    .colab-df-convert {\n",
              "      background-color: #E8F0FE;\n",
              "      border: none;\n",
              "      border-radius: 50%;\n",
              "      cursor: pointer;\n",
              "      display: none;\n",
              "      fill: #1967D2;\n",
              "      height: 32px;\n",
              "      padding: 0 0 0 0;\n",
              "      width: 32px;\n",
              "    }\n",
              "\n",
              "    .colab-df-convert:hover {\n",
              "      background-color: #E2EBFA;\n",
              "      box-shadow: 0px 1px 2px rgba(60, 64, 67, 0.3), 0px 1px 3px 1px rgba(60, 64, 67, 0.15);\n",
              "      fill: #174EA6;\n",
              "    }\n",
              "\n",
              "    [theme=dark] .colab-df-convert {\n",
              "      background-color: #3B4455;\n",
              "      fill: #D2E3FC;\n",
              "    }\n",
              "\n",
              "    [theme=dark] .colab-df-convert:hover {\n",
              "      background-color: #434B5C;\n",
              "      box-shadow: 0px 1px 3px 1px rgba(0, 0, 0, 0.15);\n",
              "      filter: drop-shadow(0px 1px 2px rgba(0, 0, 0, 0.3));\n",
              "      fill: #FFFFFF;\n",
              "    }\n",
              "  </style>\n",
              "\n",
              "      <script>\n",
              "        const buttonEl =\n",
              "          document.querySelector('#df-790354c8-6c39-4467-93e5-50e3de24fc01 button.colab-df-convert');\n",
              "        buttonEl.style.display =\n",
              "          google.colab.kernel.accessAllowed ? 'block' : 'none';\n",
              "\n",
              "        async function convertToInteractive(key) {\n",
              "          const element = document.querySelector('#df-790354c8-6c39-4467-93e5-50e3de24fc01');\n",
              "          const dataTable =\n",
              "            await google.colab.kernel.invokeFunction('convertToInteractive',\n",
              "                                                     [key], {});\n",
              "          if (!dataTable) return;\n",
              "\n",
              "          const docLinkHtml = 'Like what you see? Visit the ' +\n",
              "            '<a target=\"_blank\" href=https://colab.research.google.com/notebooks/data_table.ipynb>data table notebook</a>'\n",
              "            + ' to learn more about interactive tables.';\n",
              "          element.innerHTML = '';\n",
              "          dataTable['output_type'] = 'display_data';\n",
              "          await google.colab.output.renderOutput(dataTable, element);\n",
              "          const docLink = document.createElement('div');\n",
              "          docLink.innerHTML = docLinkHtml;\n",
              "          element.appendChild(docLink);\n",
              "        }\n",
              "      </script>\n",
              "    </div>\n",
              "  </div>\n",
              "  "
            ]
          },
          "metadata": {},
          "execution_count": 18
        }
      ]
    },
    {
      "cell_type": "markdown",
      "source": [
        "> **평균 인코딩**\n",
        "> * 평균 인코딩(타깃인코딩)은 범주형 특성을 타깃값의 평균을 기반으로 수치특성으로 변환\n",
        "> * 예로 색을 구별하는 모델에서 7개가 타깃1, 3개가 타깃0이면 평균인코딩 특성은 7/10=0.7이 된다\n",
        "> * 타깃값을 사용하기 때문에, 타깃이 특성데이터에 직접적으로 영향을 미친다\n",
        "> * 이는 데이터누수(data leakage)를 유발할 수 있지만, 그럼에도 불구하고 평균 인코딩은 우수한 성능을 내는 것으로 입증되었다 "
      ],
      "metadata": {
        "id": "3_7JtlfEErKP"
      }
    },
    {
      "cell_type": "code",
      "source": [
        "# 사이킷런과 호환되는 TargetEncoder 클래스로 평균 인코딩 처리\n",
        "!pip install --upgrade category_encoders\n",
        "from category_encoders.target_encoder import TargetEncoder\n",
        "encoder = TargetEncoder()"
      ],
      "metadata": {
        "colab": {
          "base_uri": "https://localhost:8080/"
        },
        "id": "6DjQGc_jEK_f",
        "outputId": "4e982222-8bed-4381-9142-36677e914ade"
      },
      "execution_count": 23,
      "outputs": [
        {
          "output_type": "stream",
          "name": "stdout",
          "text": [
            "Looking in indexes: https://pypi.org/simple, https://us-python.pkg.dev/colab-wheels/public/simple/\n",
            "Requirement already satisfied: category_encoders in /usr/local/lib/python3.7/dist-packages (2.5.1.post0)\n",
            "Requirement already satisfied: statsmodels>=0.9.0 in /usr/local/lib/python3.7/dist-packages (from category_encoders) (0.12.2)\n",
            "Requirement already satisfied: scipy>=1.0.0 in /usr/local/lib/python3.7/dist-packages (from category_encoders) (1.7.3)\n",
            "Requirement already satisfied: numpy>=1.14.0 in /usr/local/lib/python3.7/dist-packages (from category_encoders) (1.21.6)\n",
            "Requirement already satisfied: scikit-learn>=0.20.0 in /usr/local/lib/python3.7/dist-packages (from category_encoders) (1.0.2)\n",
            "Requirement already satisfied: patsy>=0.5.1 in /usr/local/lib/python3.7/dist-packages (from category_encoders) (0.5.3)\n",
            "Requirement already satisfied: pandas>=1.0.5 in /usr/local/lib/python3.7/dist-packages (from category_encoders) (1.3.5)\n",
            "Requirement already satisfied: python-dateutil>=2.7.3 in /usr/local/lib/python3.7/dist-packages (from pandas>=1.0.5->category_encoders) (2.8.2)\n",
            "Requirement already satisfied: pytz>=2017.3 in /usr/local/lib/python3.7/dist-packages (from pandas>=1.0.5->category_encoders) (2022.4)\n",
            "Requirement already satisfied: six in /usr/local/lib/python3.7/dist-packages (from patsy>=0.5.1->category_encoders) (1.15.0)\n",
            "Requirement already satisfied: threadpoolctl>=2.0.0 in /usr/local/lib/python3.7/dist-packages (from scikit-learn>=0.20.0->category_encoders) (3.1.0)\n",
            "Requirement already satisfied: joblib>=0.11 in /usr/local/lib/python3.7/dist-packages (from scikit-learn>=0.20.0->category_encoders) (1.2.0)\n"
          ]
        }
      ]
    },
    {
      "cell_type": "code",
      "source": [
        "df['cab_type_mean'] = encoder.fit_transform(df['cab_type'], df['price'])\n",
        "df.tail()"
      ],
      "metadata": {
        "colab": {
          "base_uri": "https://localhost:8080/",
          "height": 513
        },
        "id": "4Idkhf0GHBjB",
        "outputId": "104a0ceb-00d4-4c19-d1cb-0b3071f06a00"
      },
      "execution_count": 24,
      "outputs": [
        {
          "output_type": "execute_result",
          "data": {
            "text/plain": [
              "      distance cab_type     time_stamp       destination  \\\n",
              "9995      3.05     Uber  1543504379037            Fenway   \n",
              "9996      3.05     Uber  1543800477997            Fenway   \n",
              "9997      3.05     Uber  1543407083241            Fenway   \n",
              "9998      3.05     Uber  1544896813623            Fenway   \n",
              "9999      2.03     Lyft  1543812781166  Theatre District   \n",
              "\n",
              "                       source  price  surge_multiplier  \\\n",
              "9995            North Station   11.5               1.0   \n",
              "9996            North Station   26.0               1.0   \n",
              "9997            North Station   19.5               1.0   \n",
              "9998            North Station   36.5               1.0   \n",
              "9999  Northeastern University    7.0               1.0   \n",
              "\n",
              "                                        id  \\\n",
              "9995  934d2fbe-f978-4495-9786-da7b4dd21107   \n",
              "9996  af8fd57c-fe7c-4584-bd1f-beef1a53ad42   \n",
              "9997  b3c5db97-554b-47bf-908b-3ac880e86103   \n",
              "9998  fcb35184-9047-43f7-8909-f62a7b17b6cf   \n",
              "9999  7f0e8caf-e057-41eb-bdef-27eb14c88122   \n",
              "\n",
              "                                product_id       name                    date  \\\n",
              "9995  997acbb5-e102-41e1-b155-9df7de0a73f2   UberPool 2018-11-29 15:12:59.037   \n",
              "9996  6c84fd89-3f11-4782-9b50-97c468b19529      Black 2018-12-03 01:27:57.997   \n",
              "9997  6f72dfc5-27f1-42e8-84db-ccc7a75f6969     UberXL 2018-11-28 12:11:23.241   \n",
              "9998  6d318bcc-22a3-4af6-bddd-b409bfce1546  Black SUV 2018-12-15 18:00:13.623   \n",
              "9999                             lyft_line     Shared 2018-12-03 04:53:01.166   \n",
              "\n",
              "      month  hour  dayofweek  weekend  rush_hour  cab_freq  cab_type_mean  \n",
              "9995     11    15          3        0          1  0.504389      15.743446  \n",
              "9996     12     1          0        0          0  0.504389      15.743446  \n",
              "9997     11    12          2        0          0  0.504389      15.743446  \n",
              "9998     12    18          5        1          0  0.504389      15.743446  \n",
              "9999     12     4          0        0          0  0.495611      16.916357  "
            ],
            "text/html": [
              "\n",
              "  <div id=\"df-65e97556-bf58-494c-a8f6-6af800f48a0c\">\n",
              "    <div class=\"colab-df-container\">\n",
              "      <div>\n",
              "<style scoped>\n",
              "    .dataframe tbody tr th:only-of-type {\n",
              "        vertical-align: middle;\n",
              "    }\n",
              "\n",
              "    .dataframe tbody tr th {\n",
              "        vertical-align: top;\n",
              "    }\n",
              "\n",
              "    .dataframe thead th {\n",
              "        text-align: right;\n",
              "    }\n",
              "</style>\n",
              "<table border=\"1\" class=\"dataframe\">\n",
              "  <thead>\n",
              "    <tr style=\"text-align: right;\">\n",
              "      <th></th>\n",
              "      <th>distance</th>\n",
              "      <th>cab_type</th>\n",
              "      <th>time_stamp</th>\n",
              "      <th>destination</th>\n",
              "      <th>source</th>\n",
              "      <th>price</th>\n",
              "      <th>surge_multiplier</th>\n",
              "      <th>id</th>\n",
              "      <th>product_id</th>\n",
              "      <th>name</th>\n",
              "      <th>date</th>\n",
              "      <th>month</th>\n",
              "      <th>hour</th>\n",
              "      <th>dayofweek</th>\n",
              "      <th>weekend</th>\n",
              "      <th>rush_hour</th>\n",
              "      <th>cab_freq</th>\n",
              "      <th>cab_type_mean</th>\n",
              "    </tr>\n",
              "  </thead>\n",
              "  <tbody>\n",
              "    <tr>\n",
              "      <th>9995</th>\n",
              "      <td>3.05</td>\n",
              "      <td>Uber</td>\n",
              "      <td>1543504379037</td>\n",
              "      <td>Fenway</td>\n",
              "      <td>North Station</td>\n",
              "      <td>11.5</td>\n",
              "      <td>1.0</td>\n",
              "      <td>934d2fbe-f978-4495-9786-da7b4dd21107</td>\n",
              "      <td>997acbb5-e102-41e1-b155-9df7de0a73f2</td>\n",
              "      <td>UberPool</td>\n",
              "      <td>2018-11-29 15:12:59.037</td>\n",
              "      <td>11</td>\n",
              "      <td>15</td>\n",
              "      <td>3</td>\n",
              "      <td>0</td>\n",
              "      <td>1</td>\n",
              "      <td>0.504389</td>\n",
              "      <td>15.743446</td>\n",
              "    </tr>\n",
              "    <tr>\n",
              "      <th>9996</th>\n",
              "      <td>3.05</td>\n",
              "      <td>Uber</td>\n",
              "      <td>1543800477997</td>\n",
              "      <td>Fenway</td>\n",
              "      <td>North Station</td>\n",
              "      <td>26.0</td>\n",
              "      <td>1.0</td>\n",
              "      <td>af8fd57c-fe7c-4584-bd1f-beef1a53ad42</td>\n",
              "      <td>6c84fd89-3f11-4782-9b50-97c468b19529</td>\n",
              "      <td>Black</td>\n",
              "      <td>2018-12-03 01:27:57.997</td>\n",
              "      <td>12</td>\n",
              "      <td>1</td>\n",
              "      <td>0</td>\n",
              "      <td>0</td>\n",
              "      <td>0</td>\n",
              "      <td>0.504389</td>\n",
              "      <td>15.743446</td>\n",
              "    </tr>\n",
              "    <tr>\n",
              "      <th>9997</th>\n",
              "      <td>3.05</td>\n",
              "      <td>Uber</td>\n",
              "      <td>1543407083241</td>\n",
              "      <td>Fenway</td>\n",
              "      <td>North Station</td>\n",
              "      <td>19.5</td>\n",
              "      <td>1.0</td>\n",
              "      <td>b3c5db97-554b-47bf-908b-3ac880e86103</td>\n",
              "      <td>6f72dfc5-27f1-42e8-84db-ccc7a75f6969</td>\n",
              "      <td>UberXL</td>\n",
              "      <td>2018-11-28 12:11:23.241</td>\n",
              "      <td>11</td>\n",
              "      <td>12</td>\n",
              "      <td>2</td>\n",
              "      <td>0</td>\n",
              "      <td>0</td>\n",
              "      <td>0.504389</td>\n",
              "      <td>15.743446</td>\n",
              "    </tr>\n",
              "    <tr>\n",
              "      <th>9998</th>\n",
              "      <td>3.05</td>\n",
              "      <td>Uber</td>\n",
              "      <td>1544896813623</td>\n",
              "      <td>Fenway</td>\n",
              "      <td>North Station</td>\n",
              "      <td>36.5</td>\n",
              "      <td>1.0</td>\n",
              "      <td>fcb35184-9047-43f7-8909-f62a7b17b6cf</td>\n",
              "      <td>6d318bcc-22a3-4af6-bddd-b409bfce1546</td>\n",
              "      <td>Black SUV</td>\n",
              "      <td>2018-12-15 18:00:13.623</td>\n",
              "      <td>12</td>\n",
              "      <td>18</td>\n",
              "      <td>5</td>\n",
              "      <td>1</td>\n",
              "      <td>0</td>\n",
              "      <td>0.504389</td>\n",
              "      <td>15.743446</td>\n",
              "    </tr>\n",
              "    <tr>\n",
              "      <th>9999</th>\n",
              "      <td>2.03</td>\n",
              "      <td>Lyft</td>\n",
              "      <td>1543812781166</td>\n",
              "      <td>Theatre District</td>\n",
              "      <td>Northeastern University</td>\n",
              "      <td>7.0</td>\n",
              "      <td>1.0</td>\n",
              "      <td>7f0e8caf-e057-41eb-bdef-27eb14c88122</td>\n",
              "      <td>lyft_line</td>\n",
              "      <td>Shared</td>\n",
              "      <td>2018-12-03 04:53:01.166</td>\n",
              "      <td>12</td>\n",
              "      <td>4</td>\n",
              "      <td>0</td>\n",
              "      <td>0</td>\n",
              "      <td>0</td>\n",
              "      <td>0.495611</td>\n",
              "      <td>16.916357</td>\n",
              "    </tr>\n",
              "  </tbody>\n",
              "</table>\n",
              "</div>\n",
              "      <button class=\"colab-df-convert\" onclick=\"convertToInteractive('df-65e97556-bf58-494c-a8f6-6af800f48a0c')\"\n",
              "              title=\"Convert this dataframe to an interactive table.\"\n",
              "              style=\"display:none;\">\n",
              "        \n",
              "  <svg xmlns=\"http://www.w3.org/2000/svg\" height=\"24px\"viewBox=\"0 0 24 24\"\n",
              "       width=\"24px\">\n",
              "    <path d=\"M0 0h24v24H0V0z\" fill=\"none\"/>\n",
              "    <path d=\"M18.56 5.44l.94 2.06.94-2.06 2.06-.94-2.06-.94-.94-2.06-.94 2.06-2.06.94zm-11 1L8.5 8.5l.94-2.06 2.06-.94-2.06-.94L8.5 2.5l-.94 2.06-2.06.94zm10 10l.94 2.06.94-2.06 2.06-.94-2.06-.94-.94-2.06-.94 2.06-2.06.94z\"/><path d=\"M17.41 7.96l-1.37-1.37c-.4-.4-.92-.59-1.43-.59-.52 0-1.04.2-1.43.59L10.3 9.45l-7.72 7.72c-.78.78-.78 2.05 0 2.83L4 21.41c.39.39.9.59 1.41.59.51 0 1.02-.2 1.41-.59l7.78-7.78 2.81-2.81c.8-.78.8-2.07 0-2.86zM5.41 20L4 18.59l7.72-7.72 1.47 1.35L5.41 20z\"/>\n",
              "  </svg>\n",
              "      </button>\n",
              "      \n",
              "  <style>\n",
              "    .colab-df-container {\n",
              "      display:flex;\n",
              "      flex-wrap:wrap;\n",
              "      gap: 12px;\n",
              "    }\n",
              "\n",
              "    .colab-df-convert {\n",
              "      background-color: #E8F0FE;\n",
              "      border: none;\n",
              "      border-radius: 50%;\n",
              "      cursor: pointer;\n",
              "      display: none;\n",
              "      fill: #1967D2;\n",
              "      height: 32px;\n",
              "      padding: 0 0 0 0;\n",
              "      width: 32px;\n",
              "    }\n",
              "\n",
              "    .colab-df-convert:hover {\n",
              "      background-color: #E2EBFA;\n",
              "      box-shadow: 0px 1px 2px rgba(60, 64, 67, 0.3), 0px 1px 3px 1px rgba(60, 64, 67, 0.15);\n",
              "      fill: #174EA6;\n",
              "    }\n",
              "\n",
              "    [theme=dark] .colab-df-convert {\n",
              "      background-color: #3B4455;\n",
              "      fill: #D2E3FC;\n",
              "    }\n",
              "\n",
              "    [theme=dark] .colab-df-convert:hover {\n",
              "      background-color: #434B5C;\n",
              "      box-shadow: 0px 1px 3px 1px rgba(0, 0, 0, 0.15);\n",
              "      filter: drop-shadow(0px 1px 2px rgba(0, 0, 0, 0.3));\n",
              "      fill: #FFFFFF;\n",
              "    }\n",
              "  </style>\n",
              "\n",
              "      <script>\n",
              "        const buttonEl =\n",
              "          document.querySelector('#df-65e97556-bf58-494c-a8f6-6af800f48a0c button.colab-df-convert');\n",
              "        buttonEl.style.display =\n",
              "          google.colab.kernel.accessAllowed ? 'block' : 'none';\n",
              "\n",
              "        async function convertToInteractive(key) {\n",
              "          const element = document.querySelector('#df-65e97556-bf58-494c-a8f6-6af800f48a0c');\n",
              "          const dataTable =\n",
              "            await google.colab.kernel.invokeFunction('convertToInteractive',\n",
              "                                                     [key], {});\n",
              "          if (!dataTable) return;\n",
              "\n",
              "          const docLinkHtml = 'Like what you see? Visit the ' +\n",
              "            '<a target=\"_blank\" href=https://colab.research.google.com/notebooks/data_table.ipynb>data table notebook</a>'\n",
              "            + ' to learn more about interactive tables.';\n",
              "          element.innerHTML = '';\n",
              "          dataTable['output_type'] = 'display_data';\n",
              "          await google.colab.output.renderOutput(dataTable, element);\n",
              "          const docLink = document.createElement('div');\n",
              "          docLink.innerHTML = docLinkHtml;\n",
              "          element.appendChild(docLink);\n",
              "        }\n",
              "      </script>\n",
              "    </div>\n",
              "  </div>\n",
              "  "
            ]
          },
          "metadata": {},
          "execution_count": 24
        }
      ]
    },
    {
      "cell_type": "markdown",
      "source": [
        "9.2 상관관계가 낮은 앙상블 만들기\n",
        "====================\n",
        "정확도를 높이고 과대적합을 막기 위해 상관관계가 낮은 앙상블 실습 "
      ],
      "metadata": {
        "id": "KbOwk_LU5LDM"
      }
    },
    {
      "cell_type": "markdown",
      "source": [
        "> ### 유방암 데이터셋으로 다양한 모델 생성"
      ],
      "metadata": {
        "id": "j8o_1mUuJS_w"
      }
    },
    {
      "cell_type": "code",
      "source": [
        "from sklearn.datasets import load_breast_cancer\n",
        "X, y = load_breast_cancer(return_X_y=True)\n",
        "kfold = StratifiedKFold(n_splits=5)"
      ],
      "metadata": {
        "id": "HXcgKSuMJAz5"
      },
      "execution_count": 25,
      "outputs": []
    },
    {
      "cell_type": "code",
      "source": [
        "def classification_model(model):\n",
        "  scores = cross_val_score(model, X, y, cv=kfold)\n",
        "  return scores.mean()"
      ],
      "metadata": {
        "id": "TkRIhVduJoip"
      },
      "execution_count": 28,
      "outputs": []
    },
    {
      "cell_type": "code",
      "source": [
        "classification_model(XGBClassifier())"
      ],
      "metadata": {
        "colab": {
          "base_uri": "https://localhost:8080/"
        },
        "id": "4FixBTEXJ0eh",
        "outputId": "97219016-f266-4f55-aa47-908a0e15ae5e"
      },
      "execution_count": 29,
      "outputs": [
        {
          "output_type": "execute_result",
          "data": {
            "text/plain": [
              "0.9648657040832168"
            ]
          },
          "metadata": {},
          "execution_count": 29
        }
      ]
    },
    {
      "cell_type": "code",
      "source": [
        "classification_model(XGBClassifier(booster='gblinear'))"
      ],
      "metadata": {
        "colab": {
          "base_uri": "https://localhost:8080/"
        },
        "id": "zkuk7-gPJ37h",
        "outputId": "ccd233b0-52fe-4641-b711-8707176c7eda"
      },
      "execution_count": 31,
      "outputs": [
        {
          "output_type": "execute_result",
          "data": {
            "text/plain": [
              "0.8910572892408011"
            ]
          },
          "metadata": {},
          "execution_count": 31
        }
      ]
    },
    {
      "cell_type": "code",
      "source": [
        "classification_model(XGBClassifier(booster='dart', one_drop=True))"
      ],
      "metadata": {
        "colab": {
          "base_uri": "https://localhost:8080/"
        },
        "id": "Q59Om20yKDkY",
        "outputId": "a03ab03f-3275-4608-d1a5-64780bc62843"
      },
      "execution_count": 32,
      "outputs": [
        {
          "output_type": "execute_result",
          "data": {
            "text/plain": [
              "0.9613569321533924"
            ]
          },
          "metadata": {},
          "execution_count": 32
        }
      ]
    },
    {
      "cell_type": "code",
      "source": [
        "classification_model(RandomForestClassifier(random_state=2))"
      ],
      "metadata": {
        "colab": {
          "base_uri": "https://localhost:8080/"
        },
        "id": "AGM7smB2KIDY",
        "outputId": "c509ca2c-0288-419d-fefb-61b271d2633e"
      },
      "execution_count": 33,
      "outputs": [
        {
          "output_type": "execute_result",
          "data": {
            "text/plain": [
              "0.9666356155876418"
            ]
          },
          "metadata": {},
          "execution_count": 33
        }
      ]
    },
    {
      "cell_type": "code",
      "source": [
        "classification_model(LogisticRegression(max_iter=10000))"
      ],
      "metadata": {
        "colab": {
          "base_uri": "https://localhost:8080/"
        },
        "id": "tmMDk_5yKRIp",
        "outputId": "759ac08f-45a1-4d1b-aabc-c48c697fe7dc"
      },
      "execution_count": 36,
      "outputs": [
        {
          "output_type": "execute_result",
          "data": {
            "text/plain": [
              "0.9525694767893184"
            ]
          },
          "metadata": {},
          "execution_count": 36
        }
      ]
    },
    {
      "cell_type": "code",
      "source": [
        "classification_model(XGBClassifier(n_estimators=500, max_depth=2, learning_rate=0.1))"
      ],
      "metadata": {
        "colab": {
          "base_uri": "https://localhost:8080/"
        },
        "id": "6fg7Un2cKYcT",
        "outputId": "450a9bea-5516-4e50-a1c0-fe857c32ea8e"
      },
      "execution_count": 37,
      "outputs": [
        {
          "output_type": "execute_result",
          "data": {
            "text/plain": [
              "0.9701133364384411"
            ]
          },
          "metadata": {},
          "execution_count": 37
        }
      ]
    },
    {
      "cell_type": "markdown",
      "source": [
        "> ### 상관관계\n",
        "> * 두 변수 사이의 선형관계의 강도를 나타내는 -1 ~ 1 사이의 통곗값 "
      ],
      "metadata": {
        "id": "zILQi2TUMjY_"
      }
    },
    {
      "cell_type": "markdown",
      "source": [
        "![image.png](data:image/png;base64,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)\n",
        "\n",
        "출처 : https://en.wikipedia.org/wiki/Correlation"
      ],
      "metadata": {
        "id": "4OWPrXAUMsn3"
      }
    },
    {
      "cell_type": "markdown",
      "source": [
        "![image.png](data:image/png;base64,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)\n",
        "\n",
        "출처 : https://ko.wikipedia.org/wiki/%EC%95%A4%EC%8A%A4%EC%BB%B4_%EC%BD%B0%EB%A5%B4%ED%85%9F"
      ],
      "metadata": {
        "id": "R7HaPo9aN19v"
      }
    },
    {
      "cell_type": "markdown",
      "source": [
        "> ### 앙상블의 상관관계 \n",
        "> * 상관관계가 적은 모델은 다른 예측을 만든다 "
      ],
      "metadata": {
        "id": "2j946tF-OBqn"
      }
    },
    {
      "cell_type": "code",
      "source": [
        " # 상관관계를 계산하기 위해 비교할 데이터는, 머신러닝 모델이 만드는 예측을 사용 \n",
        " def y_pred(model):\n",
        "   model.fit(X_train, y_train)\n",
        "   y_pred = model.predict(X_test)\n",
        "   score = accuracy_score(y_pred, y_test)\n",
        "   print(score)\n",
        "   return(y_pred)"
      ],
      "metadata": {
        "id": "Vl6XljTCLBNZ"
      },
      "execution_count": 38,
      "outputs": []
    },
    {
      "cell_type": "code",
      "source": [
        "X_train, X_test, y_train, y_test = train_test_split(X, y, random_state=2)"
      ],
      "metadata": {
        "id": "dNfbZ4cNPd48"
      },
      "execution_count": 39,
      "outputs": []
    },
    {
      "cell_type": "code",
      "source": [
        "y_pred_gbtree = y_pred(XGBClassifier())"
      ],
      "metadata": {
        "colab": {
          "base_uri": "https://localhost:8080/"
        },
        "id": "v7SvvFYLPrWg",
        "outputId": "2094a9be-3526-4b5a-c221-a6170b8c85cf"
      },
      "execution_count": 40,
      "outputs": [
        {
          "output_type": "stream",
          "name": "stdout",
          "text": [
            "0.958041958041958\n"
          ]
        }
      ]
    },
    {
      "cell_type": "code",
      "source": [
        "y_pred_dart = y_pred(XGBClassifier(booster='dart', one_drop=True))"
      ],
      "metadata": {
        "colab": {
          "base_uri": "https://localhost:8080/"
        },
        "id": "6hCkYGHtPwno",
        "outputId": "8eea4586-f845-4433-fe3f-ddfa1b4fce4f"
      },
      "execution_count": 41,
      "outputs": [
        {
          "output_type": "stream",
          "name": "stdout",
          "text": [
            "0.9440559440559441\n"
          ]
        }
      ]
    },
    {
      "cell_type": "code",
      "source": [
        "y_pred_forest = y_pred(RandomForestClassifier(random_state=2))"
      ],
      "metadata": {
        "colab": {
          "base_uri": "https://localhost:8080/"
        },
        "id": "ZIL2la0SP354",
        "outputId": "6ab537bc-46a3-4449-88f2-b831fbdb98b0"
      },
      "execution_count": 42,
      "outputs": [
        {
          "output_type": "stream",
          "name": "stdout",
          "text": [
            "0.9370629370629371\n"
          ]
        }
      ]
    },
    {
      "cell_type": "code",
      "source": [
        "y_pred_logistic = y_pred(LogisticRegression(max_iter=10000))"
      ],
      "metadata": {
        "colab": {
          "base_uri": "https://localhost:8080/"
        },
        "id": "A3-3QQm4P-aI",
        "outputId": "c29dfcfd-4c10-4350-c103-7e0fec2797e5"
      },
      "execution_count": 43,
      "outputs": [
        {
          "output_type": "stream",
          "name": "stdout",
          "text": [
            "0.9370629370629371\n"
          ]
        }
      ]
    },
    {
      "cell_type": "code",
      "source": [
        "y_pred_xgb = y_pred(XGBClassifier(max_depth=2, n_estimators=500, learning_rate=0.1))"
      ],
      "metadata": {
        "colab": {
          "base_uri": "https://localhost:8080/"
        },
        "id": "nnfqiYXZQEW4",
        "outputId": "f44fb9e9-5c8c-40a8-9ad1-1cf53e588f7f"
      },
      "execution_count": 44,
      "outputs": [
        {
          "output_type": "stream",
          "name": "stdout",
          "text": [
            "0.965034965034965\n"
          ]
        }
      ]
    },
    {
      "cell_type": "code",
      "source": [
        "#  예측 결과를 새로운 데이터프레임으로 연결\n",
        "df_pred = pd.DataFrame(data = np.c_[y_pred_gbtree, y_pred_dart, y_pred_forest, y_pred_logistic, y_pred_xgb], \n",
        "                       columns = ['gbtree', 'dart', 'forest', 'logistic', 'xgb'])"
      ],
      "metadata": {
        "id": "ay4v6oK-QUDh"
      },
      "execution_count": 46,
      "outputs": []
    },
    {
      "cell_type": "code",
      "source": [
        "# 상관관계 분석\n",
        "df_pred.corr()"
      ],
      "metadata": {
        "colab": {
          "base_uri": "https://localhost:8080/",
          "height": 206
        },
        "id": "jTfIAIU1Qn95",
        "outputId": "18500001-1ccd-4dd3-e550-71c031280222"
      },
      "execution_count": 47,
      "outputs": [
        {
          "output_type": "execute_result",
          "data": {
            "text/plain": [
              "            gbtree      dart    forest  logistic       xgb\n",
              "gbtree    1.000000  0.970994  0.927780  0.927777  0.956710\n",
              "dart      0.970994  1.000000  0.927780  0.927777  0.956710\n",
              "forest    0.927780  0.927780  1.000000  0.943308  0.913438\n",
              "logistic  0.927777  0.927777  0.943308  1.000000  0.914111\n",
              "xgb       0.956710  0.956710  0.913438  0.914111  1.000000"
            ],
            "text/html": [
              "\n",
              "  <div id=\"df-800295be-a69a-4973-9d59-44371059ea21\">\n",
              "    <div class=\"colab-df-container\">\n",
              "      <div>\n",
              "<style scoped>\n",
              "    .dataframe tbody tr th:only-of-type {\n",
              "        vertical-align: middle;\n",
              "    }\n",
              "\n",
              "    .dataframe tbody tr th {\n",
              "        vertical-align: top;\n",
              "    }\n",
              "\n",
              "    .dataframe thead th {\n",
              "        text-align: right;\n",
              "    }\n",
              "</style>\n",
              "<table border=\"1\" class=\"dataframe\">\n",
              "  <thead>\n",
              "    <tr style=\"text-align: right;\">\n",
              "      <th></th>\n",
              "      <th>gbtree</th>\n",
              "      <th>dart</th>\n",
              "      <th>forest</th>\n",
              "      <th>logistic</th>\n",
              "      <th>xgb</th>\n",
              "    </tr>\n",
              "  </thead>\n",
              "  <tbody>\n",
              "    <tr>\n",
              "      <th>gbtree</th>\n",
              "      <td>1.000000</td>\n",
              "      <td>0.970994</td>\n",
              "      <td>0.927780</td>\n",
              "      <td>0.927777</td>\n",
              "      <td>0.956710</td>\n",
              "    </tr>\n",
              "    <tr>\n",
              "      <th>dart</th>\n",
              "      <td>0.970994</td>\n",
              "      <td>1.000000</td>\n",
              "      <td>0.927780</td>\n",
              "      <td>0.927777</td>\n",
              "      <td>0.956710</td>\n",
              "    </tr>\n",
              "    <tr>\n",
              "      <th>forest</th>\n",
              "      <td>0.927780</td>\n",
              "      <td>0.927780</td>\n",
              "      <td>1.000000</td>\n",
              "      <td>0.943308</td>\n",
              "      <td>0.913438</td>\n",
              "    </tr>\n",
              "    <tr>\n",
              "      <th>logistic</th>\n",
              "      <td>0.927777</td>\n",
              "      <td>0.927777</td>\n",
              "      <td>0.943308</td>\n",
              "      <td>1.000000</td>\n",
              "      <td>0.914111</td>\n",
              "    </tr>\n",
              "    <tr>\n",
              "      <th>xgb</th>\n",
              "      <td>0.956710</td>\n",
              "      <td>0.956710</td>\n",
              "      <td>0.913438</td>\n",
              "      <td>0.914111</td>\n",
              "      <td>1.000000</td>\n",
              "    </tr>\n",
              "  </tbody>\n",
              "</table>\n",
              "</div>\n",
              "      <button class=\"colab-df-convert\" onclick=\"convertToInteractive('df-800295be-a69a-4973-9d59-44371059ea21')\"\n",
              "              title=\"Convert this dataframe to an interactive table.\"\n",
              "              style=\"display:none;\">\n",
              "        \n",
              "  <svg xmlns=\"http://www.w3.org/2000/svg\" height=\"24px\"viewBox=\"0 0 24 24\"\n",
              "       width=\"24px\">\n",
              "    <path d=\"M0 0h24v24H0V0z\" fill=\"none\"/>\n",
              "    <path d=\"M18.56 5.44l.94 2.06.94-2.06 2.06-.94-2.06-.94-.94-2.06-.94 2.06-2.06.94zm-11 1L8.5 8.5l.94-2.06 2.06-.94-2.06-.94L8.5 2.5l-.94 2.06-2.06.94zm10 10l.94 2.06.94-2.06 2.06-.94-2.06-.94-.94-2.06-.94 2.06-2.06.94z\"/><path d=\"M17.41 7.96l-1.37-1.37c-.4-.4-.92-.59-1.43-.59-.52 0-1.04.2-1.43.59L10.3 9.45l-7.72 7.72c-.78.78-.78 2.05 0 2.83L4 21.41c.39.39.9.59 1.41.59.51 0 1.02-.2 1.41-.59l7.78-7.78 2.81-2.81c.8-.78.8-2.07 0-2.86zM5.41 20L4 18.59l7.72-7.72 1.47 1.35L5.41 20z\"/>\n",
              "  </svg>\n",
              "      </button>\n",
              "      \n",
              "  <style>\n",
              "    .colab-df-container {\n",
              "      display:flex;\n",
              "      flex-wrap:wrap;\n",
              "      gap: 12px;\n",
              "    }\n",
              "\n",
              "    .colab-df-convert {\n",
              "      background-color: #E8F0FE;\n",
              "      border: none;\n",
              "      border-radius: 50%;\n",
              "      cursor: pointer;\n",
              "      display: none;\n",
              "      fill: #1967D2;\n",
              "      height: 32px;\n",
              "      padding: 0 0 0 0;\n",
              "      width: 32px;\n",
              "    }\n",
              "\n",
              "    .colab-df-convert:hover {\n",
              "      background-color: #E2EBFA;\n",
              "      box-shadow: 0px 1px 2px rgba(60, 64, 67, 0.3), 0px 1px 3px 1px rgba(60, 64, 67, 0.15);\n",
              "      fill: #174EA6;\n",
              "    }\n",
              "\n",
              "    [theme=dark] .colab-df-convert {\n",
              "      background-color: #3B4455;\n",
              "      fill: #D2E3FC;\n",
              "    }\n",
              "\n",
              "    [theme=dark] .colab-df-convert:hover {\n",
              "      background-color: #434B5C;\n",
              "      box-shadow: 0px 1px 3px 1px rgba(0, 0, 0, 0.15);\n",
              "      filter: drop-shadow(0px 1px 2px rgba(0, 0, 0, 0.3));\n",
              "      fill: #FFFFFF;\n",
              "    }\n",
              "  </style>\n",
              "\n",
              "      <script>\n",
              "        const buttonEl =\n",
              "          document.querySelector('#df-800295be-a69a-4973-9d59-44371059ea21 button.colab-df-convert');\n",
              "        buttonEl.style.display =\n",
              "          google.colab.kernel.accessAllowed ? 'block' : 'none';\n",
              "\n",
              "        async function convertToInteractive(key) {\n",
              "          const element = document.querySelector('#df-800295be-a69a-4973-9d59-44371059ea21');\n",
              "          const dataTable =\n",
              "            await google.colab.kernel.invokeFunction('convertToInteractive',\n",
              "                                                     [key], {});\n",
              "          if (!dataTable) return;\n",
              "\n",
              "          const docLinkHtml = 'Like what you see? Visit the ' +\n",
              "            '<a target=\"_blank\" href=https://colab.research.google.com/notebooks/data_table.ipynb>data table notebook</a>'\n",
              "            + ' to learn more about interactive tables.';\n",
              "          element.innerHTML = '';\n",
              "          dataTable['output_type'] = 'display_data';\n",
              "          await google.colab.output.renderOutput(dataTable, element);\n",
              "          const docLink = document.createElement('div');\n",
              "          docLink.innerHTML = docLinkHtml;\n",
              "          element.appendChild(docLink);\n",
              "        }\n",
              "      </script>\n",
              "    </div>\n",
              "  </div>\n",
              "  "
            ]
          },
          "metadata": {},
          "execution_count": 47
        }
      ]
    },
    {
      "cell_type": "markdown",
      "source": [
        "> * 상관관계 값에 대한 명확한 기준은 없다\n",
        "> * 이 예시에서는 최상의 모델 xgb와 가장 상관관계가 적은 randomforest와 logisticregression을 선택하였다 \n",
        "> * 이후 사이킷런의 votingclassifier 클래스를 사용해 선택한 모델을 하나로 연결하여 하나의 앙상블 모델을 실습하였다 "
      ],
      "metadata": {
        "id": "enRWQzq9RTtz"
      }
    },
    {
      "cell_type": "markdown",
      "source": [
        "> ### VotingClassifier\n",
        "> * votingclassifier는 여러개의 분류모델을 연결하고 다수결 투표를 사용하여 출력\n",
        "> * votingregressor는 여러개의 회귀모델을 앙상블하여 각 모델의 예측을 평균화함 "
      ],
      "metadata": {
        "id": "WuqyIO28Rx1Q"
      }
    },
    {
      "cell_type": "code",
      "source": [
        "estimators = []"
      ],
      "metadata": {
        "id": "64SmO-uDQvLg"
      },
      "execution_count": 48,
      "outputs": []
    },
    {
      "cell_type": "code",
      "source": [
        "# 첫번째 모델 생성\n",
        "logistic_model = LogisticRegression(max_iter=10000)"
      ],
      "metadata": {
        "id": "SPMGYT83SAyo"
      },
      "execution_count": 49,
      "outputs": []
    },
    {
      "cell_type": "code",
      "source": [
        "# 모델을 (model_name, model) 형식의 튜플로 리스트에 추가\n",
        "estimators.append(('logistic', logistic_model))"
      ],
      "metadata": {
        "id": "6OX07-QWSJIp"
      },
      "execution_count": 50,
      "outputs": []
    },
    {
      "cell_type": "code",
      "source": [
        "# 필요한만큼 앞단계를 반복\n",
        "xgb_model = XGBClassifier(max_depth=2, n_estimators=500, learning_rate=0.1)\n",
        "estimators.append(('xgb', xgb_model))\n",
        "rf_model = RandomForestClassifier(random_state=2)\n",
        "estimators.append(('rf', rf_model))"
      ],
      "metadata": {
        "id": "BF281ak2ST4p"
      },
      "execution_count": 51,
      "outputs": []
    },
    {
      "cell_type": "code",
      "source": [
        "ensemble = VotingClassifier(estimators)\n",
        "scores = cross_val_score(ensemble, X, y, cv=kfold)\n",
        "print(scores.mean())"
      ],
      "metadata": {
        "colab": {
          "base_uri": "https://localhost:8080/"
        },
        "id": "7pbciDRcSqap",
        "outputId": "34a4eaf0-3c17-4b5b-a47e-8c1d26ab4e7f"
      },
      "execution_count": 52,
      "outputs": [
        {
          "output_type": "stream",
          "name": "stdout",
          "text": [
            "0.9771619313771154\n"
          ]
        }
      ]
    },
    {
      "cell_type": "markdown",
      "source": [
        "> ### 스태킹\n",
        "> * 여러가지 모델들의 예측값을 최종모델의 학습데이터로 사용하는 방법"
      ],
      "metadata": {
        "id": "CZINOVPLUZqB"
      }
    },
    {
      "cell_type": "markdown",
      "source": [
        "![image.png](data:image/png;base64,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)"
      ],
      "metadata": {
        "id": "hXils3U60P2S"
      }
    },
    {
      "cell_type": "markdown",
      "source": [
        "![image.png](data:image/png;base64,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)"
      ],
      "metadata": {
        "id": "90b4Iabe0PpC"
      }
    },
    {
      "cell_type": "markdown",
      "source": [
        "![image.png](data:image/png;base64,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)"
      ],
      "metadata": {
        "id": "2aO0F8KQ0XLi"
      }
    },
    {
      "cell_type": "markdown",
      "source": [
        "출처 : https://hwi-doc.tistory.com/entry/%EC%8A%A4%ED%83%9C%ED%82%B9Stacking-%EC%99%84%EB%B2%BD-%EC%A0%95%EB%A6%AC"
      ],
      "metadata": {
        "id": "lrK6S0E60XHK"
      }
    },
    {
      "cell_type": "markdown",
      "source": [
        "> ### StackingClassifier"
      ],
      "metadata": {
        "id": "L3F9sAQa127v"
      }
    },
    {
      "cell_type": "code",
      "source": [
        "# 사이킷런으로 stacking 구현\n",
        "base_models = []"
      ],
      "metadata": {
        "id": "8Iy-JXzAUU-J"
      },
      "execution_count": 53,
      "outputs": []
    },
    {
      "cell_type": "code",
      "source": [
        "base_models.append(('lr', LogisticRegression()))\n",
        "base_models.append(('xgb', XGBClassifier()))\n",
        "base_models.append(('rf', RandomForestClassifier(random_state=2)))"
      ],
      "metadata": {
        "id": "Yc7z6fq82BJD"
      },
      "execution_count": 54,
      "outputs": []
    },
    {
      "cell_type": "code",
      "source": [
        "# 최종학습모델로 회귀에는 선형회귀, 분류에는 로지스틱회귀가 선호됨\n",
        "meta_model = LogisticRegression()"
      ],
      "metadata": {
        "id": "FDWxzwDh2QML"
      },
      "execution_count": 55,
      "outputs": []
    },
    {
      "cell_type": "code",
      "source": [
        "clf = StackingClassifier(estimators=base_models, final_estimator=meta_model)\n",
        "scores = cross_val_score(clf, X, y, cv=kfold)\n",
        "print(scores.mean())"
      ],
      "metadata": {
        "colab": {
          "base_uri": "https://localhost:8080/"
        },
        "id": "-w1RpFYD2ZrD",
        "outputId": "c3ae57cd-c1f9-47e8-f1b1-066f3c0dd2b1"
      },
      "execution_count": 56,
      "outputs": [
        {
          "output_type": "stream",
          "name": "stdout",
          "text": [
            "0.9771774569166279\n"
          ]
        }
      ]
    }
  ]
}